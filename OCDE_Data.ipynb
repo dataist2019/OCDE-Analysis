{
 "cells": [
  {
   "cell_type": "markdown",
   "metadata": {},
   "source": [
    "## OCDE Data: Analysis of main donors"
   ]
  },
  {
   "cell_type": "markdown",
   "metadata": {},
   "source": [
    "### Import countries-only merged data"
   ]
  },
  {
   "cell_type": "code",
   "execution_count": 1,
   "metadata": {},
   "outputs": [],
   "source": [
    "import numpy as np\n",
    "import pandas as pd\n",
    "from scipy.stats import chi2_contingency, ttest_ind\n",
    "import seaborn as sns"
   ]
  },
  {
   "cell_type": "code",
   "execution_count": 2,
   "metadata": {},
   "outputs": [],
   "source": [
    "df = pd.read_csv('merged1.csv', encoding='latin-1')"
   ]
  },
  {
   "cell_type": "code",
   "execution_count": 3,
   "metadata": {},
   "outputs": [
    {
     "data": {
      "text/html": [
       "<div>\n",
       "<style scoped>\n",
       "    .dataframe tbody tr th:only-of-type {\n",
       "        vertical-align: middle;\n",
       "    }\n",
       "\n",
       "    .dataframe tbody tr th {\n",
       "        vertical-align: top;\n",
       "    }\n",
       "\n",
       "    .dataframe thead th {\n",
       "        text-align: right;\n",
       "    }\n",
       "</style>\n",
       "<table border=\"1\" class=\"dataframe\">\n",
       "  <thead>\n",
       "    <tr style=\"text-align: right;\">\n",
       "      <th></th>\n",
       "      <th>Unnamed: 0</th>\n",
       "      <th>DONOR</th>\n",
       "      <th>Donor</th>\n",
       "      <th>RECIPIENT</th>\n",
       "      <th>Recipient</th>\n",
       "      <th>SERIES</th>\n",
       "      <th>Series</th>\n",
       "      <th>TIME</th>\n",
       "      <th>Year</th>\n",
       "      <th>Unit Code</th>\n",
       "      <th>...</th>\n",
       "      <th>num_donors_by_country</th>\n",
       "      <th>ODA_total_value_by_country_yr</th>\n",
       "      <th>proportion</th>\n",
       "      <th>Rank</th>\n",
       "      <th>us_top_5</th>\n",
       "      <th>us_top_3</th>\n",
       "      <th>Code_abr</th>\n",
       "      <th>Code_expanded</th>\n",
       "      <th>income_category</th>\n",
       "      <th>gdp_per_capita</th>\n",
       "    </tr>\n",
       "  </thead>\n",
       "  <tbody>\n",
       "    <tr>\n",
       "      <th>0</th>\n",
       "      <td>0</td>\n",
       "      <td>3</td>\n",
       "      <td>Denmark</td>\n",
       "      <td>235</td>\n",
       "      <td>Democratic Republic of the Congo</td>\n",
       "      <td>969</td>\n",
       "      <td>ODA Commitments</td>\n",
       "      <td>2008</td>\n",
       "      <td>2008</td>\n",
       "      <td>USD</td>\n",
       "      <td>...</td>\n",
       "      <td>28</td>\n",
       "      <td>1.167140e+09</td>\n",
       "      <td>0.005055</td>\n",
       "      <td>16</td>\n",
       "      <td>False</td>\n",
       "      <td>False</td>\n",
       "      <td>2</td>\n",
       "      <td>2</td>\n",
       "      <td>LM</td>\n",
       "      <td>327.563722</td>\n",
       "    </tr>\n",
       "    <tr>\n",
       "      <th>1</th>\n",
       "      <td>1</td>\n",
       "      <td>3</td>\n",
       "      <td>Denmark</td>\n",
       "      <td>235</td>\n",
       "      <td>Democratic Republic of the Congo</td>\n",
       "      <td>969</td>\n",
       "      <td>ODA Commitments</td>\n",
       "      <td>2009</td>\n",
       "      <td>2009</td>\n",
       "      <td>USD</td>\n",
       "      <td>...</td>\n",
       "      <td>28</td>\n",
       "      <td>1.456830e+09</td>\n",
       "      <td>0.004043</td>\n",
       "      <td>16</td>\n",
       "      <td>False</td>\n",
       "      <td>False</td>\n",
       "      <td>2</td>\n",
       "      <td>2</td>\n",
       "      <td>LM</td>\n",
       "      <td>298.619682</td>\n",
       "    </tr>\n",
       "    <tr>\n",
       "      <th>2</th>\n",
       "      <td>2</td>\n",
       "      <td>3</td>\n",
       "      <td>Denmark</td>\n",
       "      <td>235</td>\n",
       "      <td>Democratic Republic of the Congo</td>\n",
       "      <td>969</td>\n",
       "      <td>ODA Commitments</td>\n",
       "      <td>2010</td>\n",
       "      <td>2010</td>\n",
       "      <td>USD</td>\n",
       "      <td>...</td>\n",
       "      <td>28</td>\n",
       "      <td>2.258180e+09</td>\n",
       "      <td>0.002608</td>\n",
       "      <td>19</td>\n",
       "      <td>False</td>\n",
       "      <td>False</td>\n",
       "      <td>2</td>\n",
       "      <td>2</td>\n",
       "      <td>LM</td>\n",
       "      <td>334.021573</td>\n",
       "    </tr>\n",
       "    <tr>\n",
       "      <th>3</th>\n",
       "      <td>3</td>\n",
       "      <td>3</td>\n",
       "      <td>Denmark</td>\n",
       "      <td>235</td>\n",
       "      <td>Democratic Republic of the Congo</td>\n",
       "      <td>969</td>\n",
       "      <td>ODA Commitments</td>\n",
       "      <td>2011</td>\n",
       "      <td>2011</td>\n",
       "      <td>USD</td>\n",
       "      <td>...</td>\n",
       "      <td>28</td>\n",
       "      <td>4.336110e+09</td>\n",
       "      <td>0.000424</td>\n",
       "      <td>19</td>\n",
       "      <td>False</td>\n",
       "      <td>False</td>\n",
       "      <td>2</td>\n",
       "      <td>2</td>\n",
       "      <td>LM</td>\n",
       "      <td>387.082465</td>\n",
       "    </tr>\n",
       "    <tr>\n",
       "      <th>4</th>\n",
       "      <td>4</td>\n",
       "      <td>3</td>\n",
       "      <td>Denmark</td>\n",
       "      <td>235</td>\n",
       "      <td>Democratic Republic of the Congo</td>\n",
       "      <td>969</td>\n",
       "      <td>ODA Commitments</td>\n",
       "      <td>2012</td>\n",
       "      <td>2012</td>\n",
       "      <td>USD</td>\n",
       "      <td>...</td>\n",
       "      <td>28</td>\n",
       "      <td>1.599800e+09</td>\n",
       "      <td>0.000144</td>\n",
       "      <td>22</td>\n",
       "      <td>False</td>\n",
       "      <td>False</td>\n",
       "      <td>2</td>\n",
       "      <td>2</td>\n",
       "      <td>LM</td>\n",
       "      <td>424.600386</td>\n",
       "    </tr>\n",
       "  </tbody>\n",
       "</table>\n",
       "<p>5 rows × 29 columns</p>\n",
       "</div>"
      ],
      "text/plain": [
       "   Unnamed: 0  DONOR    Donor  RECIPIENT                         Recipient  \\\n",
       "0           0      3  Denmark        235  Democratic Republic of the Congo   \n",
       "1           1      3  Denmark        235  Democratic Republic of the Congo   \n",
       "2           2      3  Denmark        235  Democratic Republic of the Congo   \n",
       "3           3      3  Denmark        235  Democratic Republic of the Congo   \n",
       "4           4      3  Denmark        235  Democratic Republic of the Congo   \n",
       "\n",
       "   SERIES           Series  TIME  Year Unit Code  ... num_donors_by_country  \\\n",
       "0     969  ODA Commitments  2008  2008       USD  ...                    28   \n",
       "1     969  ODA Commitments  2009  2009       USD  ...                    28   \n",
       "2     969  ODA Commitments  2010  2010       USD  ...                    28   \n",
       "3     969  ODA Commitments  2011  2011       USD  ...                    28   \n",
       "4     969  ODA Commitments  2012  2012       USD  ...                    28   \n",
       "\n",
       "   ODA_total_value_by_country_yr proportion  Rank  us_top_5  us_top_3  \\\n",
       "0                   1.167140e+09   0.005055    16     False     False   \n",
       "1                   1.456830e+09   0.004043    16     False     False   \n",
       "2                   2.258180e+09   0.002608    19     False     False   \n",
       "3                   4.336110e+09   0.000424    19     False     False   \n",
       "4                   1.599800e+09   0.000144    22     False     False   \n",
       "\n",
       "   Code_abr  Code_expanded  income_category  gdp_per_capita  \n",
       "0         2              2               LM      327.563722  \n",
       "1         2              2               LM      298.619682  \n",
       "2         2              2               LM      334.021573  \n",
       "3         2              2               LM      387.082465  \n",
       "4         2              2               LM      424.600386  \n",
       "\n",
       "[5 rows x 29 columns]"
      ]
     },
     "execution_count": 3,
     "metadata": {},
     "output_type": "execute_result"
    }
   ],
   "source": [
    "df.head()"
   ]
  },
  {
   "cell_type": "code",
   "execution_count": 4,
   "metadata": {},
   "outputs": [
    {
     "data": {
      "text/plain": [
       "22680"
      ]
     },
     "execution_count": 4,
     "metadata": {},
     "output_type": "execute_result"
    }
   ],
   "source": [
    "len(df)"
   ]
  },
  {
   "cell_type": "markdown",
   "metadata": {},
   "source": [
    "### Import New population and GDP data"
   ]
  },
  {
   "cell_type": "code",
   "execution_count": 5,
   "metadata": {},
   "outputs": [],
   "source": [
    "pop = pd.read_csv('population.csv', encoding='latin-1')\n",
    "gdp = pd.read_csv('gdp.csv', encoding='latin-1')"
   ]
  },
  {
   "cell_type": "code",
   "execution_count": 6,
   "metadata": {},
   "outputs": [],
   "source": [
    "years = range(2004, 2020)\n",
    "years = [str(yr) for yr in years]"
   ]
  },
  {
   "cell_type": "code",
   "execution_count": 7,
   "metadata": {},
   "outputs": [
    {
     "data": {
      "text/html": [
       "<div>\n",
       "<style scoped>\n",
       "    .dataframe tbody tr th:only-of-type {\n",
       "        vertical-align: middle;\n",
       "    }\n",
       "\n",
       "    .dataframe tbody tr th {\n",
       "        vertical-align: top;\n",
       "    }\n",
       "\n",
       "    .dataframe thead th {\n",
       "        text-align: right;\n",
       "    }\n",
       "</style>\n",
       "<table border=\"1\" class=\"dataframe\">\n",
       "  <thead>\n",
       "    <tr style=\"text-align: right;\">\n",
       "      <th></th>\n",
       "      <th>Recipient</th>\n",
       "      <th>Year</th>\n",
       "      <th>population</th>\n",
       "    </tr>\n",
       "  </thead>\n",
       "  <tbody>\n",
       "    <tr>\n",
       "      <th>0</th>\n",
       "      <td>Aruba</td>\n",
       "      <td>2004</td>\n",
       "      <td>98737.0</td>\n",
       "    </tr>\n",
       "    <tr>\n",
       "      <th>1</th>\n",
       "      <td>Afghanistan</td>\n",
       "      <td>2004</td>\n",
       "      <td>24726684.0</td>\n",
       "    </tr>\n",
       "    <tr>\n",
       "      <th>2</th>\n",
       "      <td>Angola</td>\n",
       "      <td>2004</td>\n",
       "      <td>18758145.0</td>\n",
       "    </tr>\n",
       "    <tr>\n",
       "      <th>3</th>\n",
       "      <td>Albania</td>\n",
       "      <td>2004</td>\n",
       "      <td>3026939.0</td>\n",
       "    </tr>\n",
       "    <tr>\n",
       "      <th>4</th>\n",
       "      <td>Andorra</td>\n",
       "      <td>2004</td>\n",
       "      <td>76244.0</td>\n",
       "    </tr>\n",
       "  </tbody>\n",
       "</table>\n",
       "</div>"
      ],
      "text/plain": [
       "     Recipient  Year  population\n",
       "0        Aruba  2004     98737.0\n",
       "1  Afghanistan  2004  24726684.0\n",
       "2       Angola  2004  18758145.0\n",
       "3      Albania  2004   3026939.0\n",
       "4      Andorra  2004     76244.0"
      ]
     },
     "execution_count": 7,
     "metadata": {},
     "output_type": "execute_result"
    }
   ],
   "source": [
    "pop = pd.melt(pop, id_vars = ['Recipient'], value_vars = years)\n",
    "pop.rename(columns = {'Recipient': 'Recipient', 'variable': 'Year', 'value': 'population'}, inplace = True)\n",
    "pop.head()"
   ]
  },
  {
   "cell_type": "code",
   "execution_count": 8,
   "metadata": {},
   "outputs": [
    {
     "data": {
      "text/html": [
       "<div>\n",
       "<style scoped>\n",
       "    .dataframe tbody tr th:only-of-type {\n",
       "        vertical-align: middle;\n",
       "    }\n",
       "\n",
       "    .dataframe tbody tr th {\n",
       "        vertical-align: top;\n",
       "    }\n",
       "\n",
       "    .dataframe thead th {\n",
       "        text-align: right;\n",
       "    }\n",
       "</style>\n",
       "<table border=\"1\" class=\"dataframe\">\n",
       "  <thead>\n",
       "    <tr style=\"text-align: right;\">\n",
       "      <th></th>\n",
       "      <th>Recipient</th>\n",
       "      <th>Year</th>\n",
       "      <th>gdp</th>\n",
       "    </tr>\n",
       "  </thead>\n",
       "  <tbody>\n",
       "    <tr>\n",
       "      <th>0</th>\n",
       "      <td>Aruba</td>\n",
       "      <td>2004</td>\n",
       "      <td>2.228492e+09</td>\n",
       "    </tr>\n",
       "    <tr>\n",
       "      <th>1</th>\n",
       "      <td>Afghanistan</td>\n",
       "      <td>2004</td>\n",
       "      <td>5.226779e+09</td>\n",
       "    </tr>\n",
       "    <tr>\n",
       "      <th>2</th>\n",
       "      <td>Angola</td>\n",
       "      <td>2004</td>\n",
       "      <td>2.355205e+10</td>\n",
       "    </tr>\n",
       "    <tr>\n",
       "      <th>3</th>\n",
       "      <td>Albania</td>\n",
       "      <td>2004</td>\n",
       "      <td>7.184681e+09</td>\n",
       "    </tr>\n",
       "    <tr>\n",
       "      <th>4</th>\n",
       "      <td>Andorra</td>\n",
       "      <td>2004</td>\n",
       "      <td>2.894922e+09</td>\n",
       "    </tr>\n",
       "  </tbody>\n",
       "</table>\n",
       "</div>"
      ],
      "text/plain": [
       "     Recipient  Year           gdp\n",
       "0        Aruba  2004  2.228492e+09\n",
       "1  Afghanistan  2004  5.226779e+09\n",
       "2       Angola  2004  2.355205e+10\n",
       "3      Albania  2004  7.184681e+09\n",
       "4      Andorra  2004  2.894922e+09"
      ]
     },
     "execution_count": 8,
     "metadata": {},
     "output_type": "execute_result"
    }
   ],
   "source": [
    "gdp = pd.melt(gdp, id_vars = ['Recipient'], value_vars = years)\n",
    "gdp.rename(columns = {'Recipient': 'Recipient', 'variable': 'Year', 'value': 'gdp'}, inplace = True)\n",
    "gdp.head()"
   ]
  },
  {
   "cell_type": "code",
   "execution_count": 9,
   "metadata": {},
   "outputs": [
    {
     "name": "stdout",
     "output_type": "stream",
     "text": [
      "4224\n",
      "4224\n"
     ]
    }
   ],
   "source": [
    "print(len(pop)) # checking the number of rows\n",
    "print(len(gdp))"
   ]
  },
  {
   "cell_type": "code",
   "execution_count": 10,
   "metadata": {},
   "outputs": [
    {
     "data": {
      "text/plain": [
       "4224"
      ]
     },
     "execution_count": 10,
     "metadata": {},
     "output_type": "execute_result"
    }
   ],
   "source": [
    "df_new = pd.merge(pop, gdp, how = 'inner', on = ['Recipient', 'Year'])\n",
    "len(df_new)"
   ]
  },
  {
   "cell_type": "markdown",
   "metadata": {},
   "source": [
    "### A Note on the Various Recipient Naming Conventions\n",
    "So far, many of the csv's available have different naming conventions. The ISO codes can help, but they are far from perfect. We can define a dictionary to apply to the Recipient columns in order to have something akin to standardization of naming practices. The following is such a dictionary and is purely tentative. \n",
    "\n",
    "They keys are arranged alphabetically by the leading key character. The keys are what are currently present in the column whereas the values are what we change those entries to, each key-value pair separated by a comma. More specifically, 'key1': 'value1', 'key2': 'value2'."
   ]
  },
  {
   "cell_type": "code",
   "execution_count": 11,
   "metadata": {},
   "outputs": [],
   "source": [
    "dic = {  \n",
    "       'Brunei Darussalam': 'Brunei', \n",
    "       'Burma': 'Myanmar', \n",
    "       'China': \"China (People's Republic of)\",\n",
    "       'Congo, Dem. Rep.': 'Democratic Republic of the Congo',\n",
    "       'Congo, Rep.': 'Congo', \n",
    "       'Curaçao': 'Curacao', \n",
    "       'Egypt, Arab Rep.': 'Egypt', \n",
    "       'Federated States of Micronesia': 'Micronesia',\n",
    "       'Gambia, The': 'Gambia', \n",
    "       'Guinea Bissau': 'Guinea-Bissau', \n",
    "       'Hong Kong SAR, China': 'Hong Kong', \n",
    "       'Iran, Islamic Rep.': 'Iran', \n",
    "       \"Korea, Dem. People's Rep.\": \"Democratic People's Republic of Korea\",\n",
    "       'Korea, Rep.': 'Korea, South', \n",
    "       'Kyrgyz Rep.': 'Kyrgyzstan', \n",
    "       'Lao PDR': \"Lao People's Democratic Republic\", \n",
    "       'Macedonia': 'North Macedonia',\n",
    "       'Micronesia, Fed. Sts.': 'Micronesia', \n",
    "       'North Korea': \"Democratic People's Republic of Korea\", \n",
    "       'Russian Federation': 'Russia', \n",
    "       'Sint Maarten (Dutch part)': 'Sint Maarten',\n",
    "       'Slovak Republic': 'Slovakia', \n",
    "       'St. Kitts and Nevis': 'Saint Kitts and Nevis', \n",
    "       'St. Lucia': 'Saint Lucia', \n",
    "       'St. Vincent and the Grenadines': 'Saint Vincent and the Grenadines', \n",
    "       'Venezuela, RB': 'Venezuela', \n",
    "       'Vietnam': 'Viet Nam', \n",
    "       'West Bank and Gaza': 'West Bank and Gaza Strip', \n",
    "       'Yemen, Republic': 'Yemen'\n",
    "       }"
   ]
  },
  {
   "cell_type": "code",
   "execution_count": 12,
   "metadata": {},
   "outputs": [],
   "source": [
    "# here I apply the dictionary to replace the old names (that match the keys) to the new names (that match the values)\n",
    "df_new.Recipient.replace(dic, inplace = True)"
   ]
  },
  {
   "cell_type": "code",
   "execution_count": 13,
   "metadata": {},
   "outputs": [],
   "source": [
    "# checking which Recipient names differ between the two data sets\n",
    "new_names = set(df_new.Recipient)\n",
    "old_names = set(df.Recipient)\n",
    "diff1 = [country for country in new_names if country not in old_names].sort()"
   ]
  },
  {
   "cell_type": "code",
   "execution_count": 14,
   "metadata": {},
   "outputs": [
    {
     "name": "stdout",
     "output_type": "stream",
     "text": [
      "None\n"
     ]
    }
   ],
   "source": [
    "print(diff1)"
   ]
  },
  {
   "cell_type": "code",
   "execution_count": 15,
   "metadata": {},
   "outputs": [],
   "source": [
    "df_new.Year = [int(year) for year in df_new.Year]"
   ]
  },
  {
   "cell_type": "code",
   "execution_count": 16,
   "metadata": {},
   "outputs": [
    {
     "data": {
      "text/plain": [
       "22680"
      ]
     },
     "execution_count": 16,
     "metadata": {},
     "output_type": "execute_result"
    }
   ],
   "source": [
    "len(df)"
   ]
  },
  {
   "cell_type": "code",
   "execution_count": 17,
   "metadata": {
    "scrolled": true
   },
   "outputs": [],
   "source": [
    "df_merge = pd.merge(df, df_new, how = 'left', on = ['Recipient', 'Year'])"
   ]
  },
  {
   "cell_type": "code",
   "execution_count": 18,
   "metadata": {},
   "outputs": [
    {
     "data": {
      "text/plain": [
       "22680"
      ]
     },
     "execution_count": 18,
     "metadata": {},
     "output_type": "execute_result"
    }
   ],
   "source": [
    "len(df_merge)"
   ]
  },
  {
   "cell_type": "code",
   "execution_count": 19,
   "metadata": {},
   "outputs": [
    {
     "data": {
      "text/html": [
       "<div>\n",
       "<style scoped>\n",
       "    .dataframe tbody tr th:only-of-type {\n",
       "        vertical-align: middle;\n",
       "    }\n",
       "\n",
       "    .dataframe tbody tr th {\n",
       "        vertical-align: top;\n",
       "    }\n",
       "\n",
       "    .dataframe thead th {\n",
       "        text-align: right;\n",
       "    }\n",
       "</style>\n",
       "<table border=\"1\" class=\"dataframe\">\n",
       "  <thead>\n",
       "    <tr style=\"text-align: right;\">\n",
       "      <th></th>\n",
       "      <th>Unnamed: 0</th>\n",
       "      <th>DONOR</th>\n",
       "      <th>Donor</th>\n",
       "      <th>RECIPIENT</th>\n",
       "      <th>Recipient</th>\n",
       "      <th>SERIES</th>\n",
       "      <th>Series</th>\n",
       "      <th>TIME</th>\n",
       "      <th>Year</th>\n",
       "      <th>Unit Code</th>\n",
       "      <th>...</th>\n",
       "      <th>proportion</th>\n",
       "      <th>Rank</th>\n",
       "      <th>us_top_5</th>\n",
       "      <th>us_top_3</th>\n",
       "      <th>Code_abr</th>\n",
       "      <th>Code_expanded</th>\n",
       "      <th>income_category</th>\n",
       "      <th>gdp_per_capita</th>\n",
       "      <th>population</th>\n",
       "      <th>gdp</th>\n",
       "    </tr>\n",
       "  </thead>\n",
       "  <tbody>\n",
       "    <tr>\n",
       "      <th>0</th>\n",
       "      <td>0</td>\n",
       "      <td>3</td>\n",
       "      <td>Denmark</td>\n",
       "      <td>235</td>\n",
       "      <td>Democratic Republic of the Congo</td>\n",
       "      <td>969</td>\n",
       "      <td>ODA Commitments</td>\n",
       "      <td>2008</td>\n",
       "      <td>2008</td>\n",
       "      <td>USD</td>\n",
       "      <td>...</td>\n",
       "      <td>0.005055</td>\n",
       "      <td>16</td>\n",
       "      <td>False</td>\n",
       "      <td>False</td>\n",
       "      <td>2</td>\n",
       "      <td>2</td>\n",
       "      <td>LM</td>\n",
       "      <td>327.563722</td>\n",
       "      <td>60411195.0</td>\n",
       "      <td>1.978852e+10</td>\n",
       "    </tr>\n",
       "    <tr>\n",
       "      <th>1</th>\n",
       "      <td>1</td>\n",
       "      <td>3</td>\n",
       "      <td>Denmark</td>\n",
       "      <td>235</td>\n",
       "      <td>Democratic Republic of the Congo</td>\n",
       "      <td>969</td>\n",
       "      <td>ODA Commitments</td>\n",
       "      <td>2009</td>\n",
       "      <td>2009</td>\n",
       "      <td>USD</td>\n",
       "      <td>...</td>\n",
       "      <td>0.004043</td>\n",
       "      <td>16</td>\n",
       "      <td>False</td>\n",
       "      <td>False</td>\n",
       "      <td>2</td>\n",
       "      <td>2</td>\n",
       "      <td>LM</td>\n",
       "      <td>298.619682</td>\n",
       "      <td>62448574.0</td>\n",
       "      <td>1.864837e+10</td>\n",
       "    </tr>\n",
       "    <tr>\n",
       "      <th>2</th>\n",
       "      <td>2</td>\n",
       "      <td>3</td>\n",
       "      <td>Denmark</td>\n",
       "      <td>235</td>\n",
       "      <td>Democratic Republic of the Congo</td>\n",
       "      <td>969</td>\n",
       "      <td>ODA Commitments</td>\n",
       "      <td>2010</td>\n",
       "      <td>2010</td>\n",
       "      <td>USD</td>\n",
       "      <td>...</td>\n",
       "      <td>0.002608</td>\n",
       "      <td>19</td>\n",
       "      <td>False</td>\n",
       "      <td>False</td>\n",
       "      <td>2</td>\n",
       "      <td>2</td>\n",
       "      <td>LM</td>\n",
       "      <td>334.021573</td>\n",
       "      <td>64563854.0</td>\n",
       "      <td>2.156572e+10</td>\n",
       "    </tr>\n",
       "    <tr>\n",
       "      <th>3</th>\n",
       "      <td>3</td>\n",
       "      <td>3</td>\n",
       "      <td>Denmark</td>\n",
       "      <td>235</td>\n",
       "      <td>Democratic Republic of the Congo</td>\n",
       "      <td>969</td>\n",
       "      <td>ODA Commitments</td>\n",
       "      <td>2011</td>\n",
       "      <td>2011</td>\n",
       "      <td>USD</td>\n",
       "      <td>...</td>\n",
       "      <td>0.000424</td>\n",
       "      <td>19</td>\n",
       "      <td>False</td>\n",
       "      <td>False</td>\n",
       "      <td>2</td>\n",
       "      <td>2</td>\n",
       "      <td>LM</td>\n",
       "      <td>387.082465</td>\n",
       "      <td>66755153.0</td>\n",
       "      <td>2.583975e+10</td>\n",
       "    </tr>\n",
       "    <tr>\n",
       "      <th>4</th>\n",
       "      <td>4</td>\n",
       "      <td>3</td>\n",
       "      <td>Denmark</td>\n",
       "      <td>235</td>\n",
       "      <td>Democratic Republic of the Congo</td>\n",
       "      <td>969</td>\n",
       "      <td>ODA Commitments</td>\n",
       "      <td>2012</td>\n",
       "      <td>2012</td>\n",
       "      <td>USD</td>\n",
       "      <td>...</td>\n",
       "      <td>0.000144</td>\n",
       "      <td>22</td>\n",
       "      <td>False</td>\n",
       "      <td>False</td>\n",
       "      <td>2</td>\n",
       "      <td>2</td>\n",
       "      <td>LM</td>\n",
       "      <td>424.600386</td>\n",
       "      <td>69020747.0</td>\n",
       "      <td>2.930624e+10</td>\n",
       "    </tr>\n",
       "  </tbody>\n",
       "</table>\n",
       "<p>5 rows × 31 columns</p>\n",
       "</div>"
      ],
      "text/plain": [
       "   Unnamed: 0  DONOR    Donor  RECIPIENT                         Recipient  \\\n",
       "0           0      3  Denmark        235  Democratic Republic of the Congo   \n",
       "1           1      3  Denmark        235  Democratic Republic of the Congo   \n",
       "2           2      3  Denmark        235  Democratic Republic of the Congo   \n",
       "3           3      3  Denmark        235  Democratic Republic of the Congo   \n",
       "4           4      3  Denmark        235  Democratic Republic of the Congo   \n",
       "\n",
       "   SERIES           Series  TIME  Year Unit Code  ... proportion  Rank  \\\n",
       "0     969  ODA Commitments  2008  2008       USD  ...   0.005055    16   \n",
       "1     969  ODA Commitments  2009  2009       USD  ...   0.004043    16   \n",
       "2     969  ODA Commitments  2010  2010       USD  ...   0.002608    19   \n",
       "3     969  ODA Commitments  2011  2011       USD  ...   0.000424    19   \n",
       "4     969  ODA Commitments  2012  2012       USD  ...   0.000144    22   \n",
       "\n",
       "  us_top_5  us_top_3  Code_abr  Code_expanded  income_category  \\\n",
       "0    False     False         2              2               LM   \n",
       "1    False     False         2              2               LM   \n",
       "2    False     False         2              2               LM   \n",
       "3    False     False         2              2               LM   \n",
       "4    False     False         2              2               LM   \n",
       "\n",
       "   gdp_per_capita  population           gdp  \n",
       "0      327.563722  60411195.0  1.978852e+10  \n",
       "1      298.619682  62448574.0  1.864837e+10  \n",
       "2      334.021573  64563854.0  2.156572e+10  \n",
       "3      387.082465  66755153.0  2.583975e+10  \n",
       "4      424.600386  69020747.0  2.930624e+10  \n",
       "\n",
       "[5 rows x 31 columns]"
      ]
     },
     "execution_count": 19,
     "metadata": {},
     "output_type": "execute_result"
    }
   ],
   "source": [
    "df_merge.head()"
   ]
  },
  {
   "cell_type": "code",
   "execution_count": 20,
   "metadata": {},
   "outputs": [],
   "source": [
    "# here I get rid of the Unnamed: 0 column since it was just an former index\n",
    "df_merge = df_merge.iloc[:, 1:]"
   ]
  },
  {
   "cell_type": "code",
   "execution_count": 21,
   "metadata": {},
   "outputs": [
    {
     "data": {
      "text/html": [
       "<div>\n",
       "<style scoped>\n",
       "    .dataframe tbody tr th:only-of-type {\n",
       "        vertical-align: middle;\n",
       "    }\n",
       "\n",
       "    .dataframe tbody tr th {\n",
       "        vertical-align: top;\n",
       "    }\n",
       "\n",
       "    .dataframe thead th {\n",
       "        text-align: right;\n",
       "    }\n",
       "</style>\n",
       "<table border=\"1\" class=\"dataframe\">\n",
       "  <thead>\n",
       "    <tr style=\"text-align: right;\">\n",
       "      <th></th>\n",
       "      <th>DONOR</th>\n",
       "      <th>Donor</th>\n",
       "      <th>RECIPIENT</th>\n",
       "      <th>Recipient</th>\n",
       "      <th>SERIES</th>\n",
       "      <th>Series</th>\n",
       "      <th>TIME</th>\n",
       "      <th>Year</th>\n",
       "      <th>Unit Code</th>\n",
       "      <th>Unit</th>\n",
       "      <th>...</th>\n",
       "      <th>proportion</th>\n",
       "      <th>Rank</th>\n",
       "      <th>us_top_5</th>\n",
       "      <th>us_top_3</th>\n",
       "      <th>Code_abr</th>\n",
       "      <th>Code_expanded</th>\n",
       "      <th>income_category</th>\n",
       "      <th>gdp_per_capita</th>\n",
       "      <th>population</th>\n",
       "      <th>gdp</th>\n",
       "    </tr>\n",
       "  </thead>\n",
       "  <tbody>\n",
       "    <tr>\n",
       "      <th>0</th>\n",
       "      <td>3</td>\n",
       "      <td>Denmark</td>\n",
       "      <td>235</td>\n",
       "      <td>Democratic Republic of the Congo</td>\n",
       "      <td>969</td>\n",
       "      <td>ODA Commitments</td>\n",
       "      <td>2008</td>\n",
       "      <td>2008</td>\n",
       "      <td>USD</td>\n",
       "      <td>US Dollar</td>\n",
       "      <td>...</td>\n",
       "      <td>0.005055</td>\n",
       "      <td>16</td>\n",
       "      <td>False</td>\n",
       "      <td>False</td>\n",
       "      <td>2</td>\n",
       "      <td>2</td>\n",
       "      <td>LM</td>\n",
       "      <td>327.563722</td>\n",
       "      <td>60411195.0</td>\n",
       "      <td>1.978852e+10</td>\n",
       "    </tr>\n",
       "    <tr>\n",
       "      <th>1</th>\n",
       "      <td>3</td>\n",
       "      <td>Denmark</td>\n",
       "      <td>235</td>\n",
       "      <td>Democratic Republic of the Congo</td>\n",
       "      <td>969</td>\n",
       "      <td>ODA Commitments</td>\n",
       "      <td>2009</td>\n",
       "      <td>2009</td>\n",
       "      <td>USD</td>\n",
       "      <td>US Dollar</td>\n",
       "      <td>...</td>\n",
       "      <td>0.004043</td>\n",
       "      <td>16</td>\n",
       "      <td>False</td>\n",
       "      <td>False</td>\n",
       "      <td>2</td>\n",
       "      <td>2</td>\n",
       "      <td>LM</td>\n",
       "      <td>298.619682</td>\n",
       "      <td>62448574.0</td>\n",
       "      <td>1.864837e+10</td>\n",
       "    </tr>\n",
       "    <tr>\n",
       "      <th>2</th>\n",
       "      <td>3</td>\n",
       "      <td>Denmark</td>\n",
       "      <td>235</td>\n",
       "      <td>Democratic Republic of the Congo</td>\n",
       "      <td>969</td>\n",
       "      <td>ODA Commitments</td>\n",
       "      <td>2010</td>\n",
       "      <td>2010</td>\n",
       "      <td>USD</td>\n",
       "      <td>US Dollar</td>\n",
       "      <td>...</td>\n",
       "      <td>0.002608</td>\n",
       "      <td>19</td>\n",
       "      <td>False</td>\n",
       "      <td>False</td>\n",
       "      <td>2</td>\n",
       "      <td>2</td>\n",
       "      <td>LM</td>\n",
       "      <td>334.021573</td>\n",
       "      <td>64563854.0</td>\n",
       "      <td>2.156572e+10</td>\n",
       "    </tr>\n",
       "    <tr>\n",
       "      <th>3</th>\n",
       "      <td>3</td>\n",
       "      <td>Denmark</td>\n",
       "      <td>235</td>\n",
       "      <td>Democratic Republic of the Congo</td>\n",
       "      <td>969</td>\n",
       "      <td>ODA Commitments</td>\n",
       "      <td>2011</td>\n",
       "      <td>2011</td>\n",
       "      <td>USD</td>\n",
       "      <td>US Dollar</td>\n",
       "      <td>...</td>\n",
       "      <td>0.000424</td>\n",
       "      <td>19</td>\n",
       "      <td>False</td>\n",
       "      <td>False</td>\n",
       "      <td>2</td>\n",
       "      <td>2</td>\n",
       "      <td>LM</td>\n",
       "      <td>387.082465</td>\n",
       "      <td>66755153.0</td>\n",
       "      <td>2.583975e+10</td>\n",
       "    </tr>\n",
       "    <tr>\n",
       "      <th>4</th>\n",
       "      <td>3</td>\n",
       "      <td>Denmark</td>\n",
       "      <td>235</td>\n",
       "      <td>Democratic Republic of the Congo</td>\n",
       "      <td>969</td>\n",
       "      <td>ODA Commitments</td>\n",
       "      <td>2012</td>\n",
       "      <td>2012</td>\n",
       "      <td>USD</td>\n",
       "      <td>US Dollar</td>\n",
       "      <td>...</td>\n",
       "      <td>0.000144</td>\n",
       "      <td>22</td>\n",
       "      <td>False</td>\n",
       "      <td>False</td>\n",
       "      <td>2</td>\n",
       "      <td>2</td>\n",
       "      <td>LM</td>\n",
       "      <td>424.600386</td>\n",
       "      <td>69020747.0</td>\n",
       "      <td>2.930624e+10</td>\n",
       "    </tr>\n",
       "  </tbody>\n",
       "</table>\n",
       "<p>5 rows × 30 columns</p>\n",
       "</div>"
      ],
      "text/plain": [
       "   DONOR    Donor  RECIPIENT                         Recipient  SERIES  \\\n",
       "0      3  Denmark        235  Democratic Republic of the Congo     969   \n",
       "1      3  Denmark        235  Democratic Republic of the Congo     969   \n",
       "2      3  Denmark        235  Democratic Republic of the Congo     969   \n",
       "3      3  Denmark        235  Democratic Republic of the Congo     969   \n",
       "4      3  Denmark        235  Democratic Republic of the Congo     969   \n",
       "\n",
       "            Series  TIME  Year Unit Code       Unit  ...  proportion Rank  \\\n",
       "0  ODA Commitments  2008  2008       USD  US Dollar  ...    0.005055   16   \n",
       "1  ODA Commitments  2009  2009       USD  US Dollar  ...    0.004043   16   \n",
       "2  ODA Commitments  2010  2010       USD  US Dollar  ...    0.002608   19   \n",
       "3  ODA Commitments  2011  2011       USD  US Dollar  ...    0.000424   19   \n",
       "4  ODA Commitments  2012  2012       USD  US Dollar  ...    0.000144   22   \n",
       "\n",
       "   us_top_5  us_top_3  Code_abr  Code_expanded  income_category  \\\n",
       "0     False     False         2              2               LM   \n",
       "1     False     False         2              2               LM   \n",
       "2     False     False         2              2               LM   \n",
       "3     False     False         2              2               LM   \n",
       "4     False     False         2              2               LM   \n",
       "\n",
       "   gdp_per_capita  population           gdp  \n",
       "0      327.563722  60411195.0  1.978852e+10  \n",
       "1      298.619682  62448574.0  1.864837e+10  \n",
       "2      334.021573  64563854.0  2.156572e+10  \n",
       "3      387.082465  66755153.0  2.583975e+10  \n",
       "4      424.600386  69020747.0  2.930624e+10  \n",
       "\n",
       "[5 rows x 30 columns]"
      ]
     },
     "execution_count": 21,
     "metadata": {},
     "output_type": "execute_result"
    }
   ],
   "source": [
    "df_merge.head()"
   ]
  },
  {
   "cell_type": "code",
   "execution_count": 22,
   "metadata": {},
   "outputs": [
    {
     "data": {
      "text/plain": [
       "DONOR                                0\n",
       "Donor                                0\n",
       "RECIPIENT                            0\n",
       "Recipient                            0\n",
       "SERIES                               0\n",
       "Series                               0\n",
       "TIME                                 0\n",
       "Year                                 0\n",
       "Unit Code                            0\n",
       "Unit                                 0\n",
       "PowerCode Code                       0\n",
       "PowerCode                            0\n",
       "Reference Period Code            22680\n",
       "Reference Period                 22680\n",
       "Value                                0\n",
       "Flag Codes                       22680\n",
       "Flags                            22680\n",
       "num_donors_by_country_yr             0\n",
       "num_donors_by_country                0\n",
       "ODA_total_value_by_country_yr        0\n",
       "proportion                           0\n",
       "Rank                                 0\n",
       "us_top_5                             0\n",
       "us_top_3                             0\n",
       "Code_abr                             0\n",
       "Code_expanded                        0\n",
       "income_category                      0\n",
       "gdp_per_capita                       0\n",
       "population                         245\n",
       "gdp                                245\n",
       "dtype: int64"
      ]
     },
     "execution_count": 22,
     "metadata": {},
     "output_type": "execute_result"
    }
   ],
   "source": [
    "# seeing how many null values are in the DataFrame\n",
    "df_merge.isnull().sum()"
   ]
  },
  {
   "cell_type": "code",
   "execution_count": 23,
   "metadata": {},
   "outputs": [],
   "source": [
    "# getting rid of the columns that I don't need\n",
    "df_merge.drop(['DONOR', 'RECIPIENT', 'SERIES', 'Series', 'TIME', 'Unit Code', \n",
    "               'Unit', 'PowerCode Code', 'PowerCode', 'Reference Period Code', \n",
    "               'Reference Period', 'Flag Codes', 'Flags'], axis = 1, inplace = True)"
   ]
  },
  {
   "cell_type": "code",
   "execution_count": 24,
   "metadata": {},
   "outputs": [
    {
     "data": {
      "text/html": [
       "<div>\n",
       "<style scoped>\n",
       "    .dataframe tbody tr th:only-of-type {\n",
       "        vertical-align: middle;\n",
       "    }\n",
       "\n",
       "    .dataframe tbody tr th {\n",
       "        vertical-align: top;\n",
       "    }\n",
       "\n",
       "    .dataframe thead th {\n",
       "        text-align: right;\n",
       "    }\n",
       "</style>\n",
       "<table border=\"1\" class=\"dataframe\">\n",
       "  <thead>\n",
       "    <tr style=\"text-align: right;\">\n",
       "      <th></th>\n",
       "      <th>Donor</th>\n",
       "      <th>Recipient</th>\n",
       "      <th>Year</th>\n",
       "      <th>Value</th>\n",
       "      <th>num_donors_by_country_yr</th>\n",
       "      <th>num_donors_by_country</th>\n",
       "      <th>ODA_total_value_by_country_yr</th>\n",
       "      <th>proportion</th>\n",
       "      <th>Rank</th>\n",
       "      <th>us_top_5</th>\n",
       "      <th>us_top_3</th>\n",
       "      <th>Code_abr</th>\n",
       "      <th>Code_expanded</th>\n",
       "      <th>income_category</th>\n",
       "      <th>gdp_per_capita</th>\n",
       "      <th>population</th>\n",
       "      <th>gdp</th>\n",
       "    </tr>\n",
       "  </thead>\n",
       "  <tbody>\n",
       "    <tr>\n",
       "      <th>0</th>\n",
       "      <td>Denmark</td>\n",
       "      <td>Democratic Republic of the Congo</td>\n",
       "      <td>2008</td>\n",
       "      <td>5900000.0</td>\n",
       "      <td>23</td>\n",
       "      <td>28</td>\n",
       "      <td>1.167140e+09</td>\n",
       "      <td>0.005055</td>\n",
       "      <td>16</td>\n",
       "      <td>False</td>\n",
       "      <td>False</td>\n",
       "      <td>2</td>\n",
       "      <td>2</td>\n",
       "      <td>LM</td>\n",
       "      <td>327.563722</td>\n",
       "      <td>60411195.0</td>\n",
       "      <td>1.978852e+10</td>\n",
       "    </tr>\n",
       "    <tr>\n",
       "      <th>1</th>\n",
       "      <td>Denmark</td>\n",
       "      <td>Democratic Republic of the Congo</td>\n",
       "      <td>2009</td>\n",
       "      <td>5890000.0</td>\n",
       "      <td>24</td>\n",
       "      <td>28</td>\n",
       "      <td>1.456830e+09</td>\n",
       "      <td>0.004043</td>\n",
       "      <td>16</td>\n",
       "      <td>False</td>\n",
       "      <td>False</td>\n",
       "      <td>2</td>\n",
       "      <td>2</td>\n",
       "      <td>LM</td>\n",
       "      <td>298.619682</td>\n",
       "      <td>62448574.0</td>\n",
       "      <td>1.864837e+10</td>\n",
       "    </tr>\n",
       "    <tr>\n",
       "      <th>2</th>\n",
       "      <td>Denmark</td>\n",
       "      <td>Democratic Republic of the Congo</td>\n",
       "      <td>2010</td>\n",
       "      <td>5890000.0</td>\n",
       "      <td>23</td>\n",
       "      <td>28</td>\n",
       "      <td>2.258180e+09</td>\n",
       "      <td>0.002608</td>\n",
       "      <td>19</td>\n",
       "      <td>False</td>\n",
       "      <td>False</td>\n",
       "      <td>2</td>\n",
       "      <td>2</td>\n",
       "      <td>LM</td>\n",
       "      <td>334.021573</td>\n",
       "      <td>64563854.0</td>\n",
       "      <td>2.156572e+10</td>\n",
       "    </tr>\n",
       "    <tr>\n",
       "      <th>3</th>\n",
       "      <td>Denmark</td>\n",
       "      <td>Democratic Republic of the Congo</td>\n",
       "      <td>2011</td>\n",
       "      <td>1840000.0</td>\n",
       "      <td>24</td>\n",
       "      <td>28</td>\n",
       "      <td>4.336110e+09</td>\n",
       "      <td>0.000424</td>\n",
       "      <td>19</td>\n",
       "      <td>False</td>\n",
       "      <td>False</td>\n",
       "      <td>2</td>\n",
       "      <td>2</td>\n",
       "      <td>LM</td>\n",
       "      <td>387.082465</td>\n",
       "      <td>66755153.0</td>\n",
       "      <td>2.583975e+10</td>\n",
       "    </tr>\n",
       "    <tr>\n",
       "      <th>4</th>\n",
       "      <td>Denmark</td>\n",
       "      <td>Democratic Republic of the Congo</td>\n",
       "      <td>2012</td>\n",
       "      <td>230000.0</td>\n",
       "      <td>23</td>\n",
       "      <td>28</td>\n",
       "      <td>1.599800e+09</td>\n",
       "      <td>0.000144</td>\n",
       "      <td>22</td>\n",
       "      <td>False</td>\n",
       "      <td>False</td>\n",
       "      <td>2</td>\n",
       "      <td>2</td>\n",
       "      <td>LM</td>\n",
       "      <td>424.600386</td>\n",
       "      <td>69020747.0</td>\n",
       "      <td>2.930624e+10</td>\n",
       "    </tr>\n",
       "  </tbody>\n",
       "</table>\n",
       "</div>"
      ],
      "text/plain": [
       "     Donor                         Recipient  Year      Value  \\\n",
       "0  Denmark  Democratic Republic of the Congo  2008  5900000.0   \n",
       "1  Denmark  Democratic Republic of the Congo  2009  5890000.0   \n",
       "2  Denmark  Democratic Republic of the Congo  2010  5890000.0   \n",
       "3  Denmark  Democratic Republic of the Congo  2011  1840000.0   \n",
       "4  Denmark  Democratic Republic of the Congo  2012   230000.0   \n",
       "\n",
       "   num_donors_by_country_yr  num_donors_by_country  \\\n",
       "0                        23                     28   \n",
       "1                        24                     28   \n",
       "2                        23                     28   \n",
       "3                        24                     28   \n",
       "4                        23                     28   \n",
       "\n",
       "   ODA_total_value_by_country_yr  proportion  Rank  us_top_5  us_top_3  \\\n",
       "0                   1.167140e+09    0.005055    16     False     False   \n",
       "1                   1.456830e+09    0.004043    16     False     False   \n",
       "2                   2.258180e+09    0.002608    19     False     False   \n",
       "3                   4.336110e+09    0.000424    19     False     False   \n",
       "4                   1.599800e+09    0.000144    22     False     False   \n",
       "\n",
       "   Code_abr  Code_expanded income_category  gdp_per_capita  population  \\\n",
       "0         2              2              LM      327.563722  60411195.0   \n",
       "1         2              2              LM      298.619682  62448574.0   \n",
       "2         2              2              LM      334.021573  64563854.0   \n",
       "3         2              2              LM      387.082465  66755153.0   \n",
       "4         2              2              LM      424.600386  69020747.0   \n",
       "\n",
       "            gdp  \n",
       "0  1.978852e+10  \n",
       "1  1.864837e+10  \n",
       "2  2.156572e+10  \n",
       "3  2.583975e+10  \n",
       "4  2.930624e+10  "
      ]
     },
     "execution_count": 24,
     "metadata": {},
     "output_type": "execute_result"
    }
   ],
   "source": [
    "df_merge.head()"
   ]
  },
  {
   "cell_type": "markdown",
   "metadata": {},
   "source": [
    "### Import Region csv"
   ]
  },
  {
   "cell_type": "code",
   "execution_count": 25,
   "metadata": {},
   "outputs": [],
   "source": [
    "region = pd.read_excel('Region lookup table.xlsx', encoding='latin-1')"
   ]
  },
  {
   "cell_type": "code",
   "execution_count": 26,
   "metadata": {},
   "outputs": [
    {
     "data": {
      "text/html": [
       "<div>\n",
       "<style scoped>\n",
       "    .dataframe tbody tr th:only-of-type {\n",
       "        vertical-align: middle;\n",
       "    }\n",
       "\n",
       "    .dataframe tbody tr th {\n",
       "        vertical-align: top;\n",
       "    }\n",
       "\n",
       "    .dataframe thead th {\n",
       "        text-align: right;\n",
       "    }\n",
       "</style>\n",
       "<table border=\"1\" class=\"dataframe\">\n",
       "  <thead>\n",
       "    <tr style=\"text-align: right;\">\n",
       "      <th></th>\n",
       "      <th>Country_Name</th>\n",
       "      <th>Name</th>\n",
       "      <th>Continent</th>\n",
       "      <th>DOS_Region</th>\n",
       "      <th>ISO</th>\n",
       "    </tr>\n",
       "  </thead>\n",
       "  <tbody>\n",
       "    <tr>\n",
       "      <th>0</th>\n",
       "      <td>Afghanistan</td>\n",
       "      <td>Afghanistan</td>\n",
       "      <td>Asia</td>\n",
       "      <td>South &amp; Central Asia</td>\n",
       "      <td>AF</td>\n",
       "    </tr>\n",
       "    <tr>\n",
       "      <th>1</th>\n",
       "      <td>Angola</td>\n",
       "      <td>Angola</td>\n",
       "      <td>Africa</td>\n",
       "      <td>Africa</td>\n",
       "      <td>AO</td>\n",
       "    </tr>\n",
       "    <tr>\n",
       "      <th>2</th>\n",
       "      <td>Albania</td>\n",
       "      <td>Albania</td>\n",
       "      <td>Europe</td>\n",
       "      <td>Europe &amp; Eurasia</td>\n",
       "      <td>AL</td>\n",
       "    </tr>\n",
       "    <tr>\n",
       "      <th>3</th>\n",
       "      <td>Finland</td>\n",
       "      <td>Aland</td>\n",
       "      <td>Europe</td>\n",
       "      <td>Europe &amp; Eurasia</td>\n",
       "      <td>AX</td>\n",
       "    </tr>\n",
       "    <tr>\n",
       "      <th>4</th>\n",
       "      <td>Andorra</td>\n",
       "      <td>Andorra</td>\n",
       "      <td>Europe</td>\n",
       "      <td>Europe &amp; Eurasia</td>\n",
       "      <td>AD</td>\n",
       "    </tr>\n",
       "  </tbody>\n",
       "</table>\n",
       "</div>"
      ],
      "text/plain": [
       "  Country_Name         Name Continent            DOS_Region ISO\n",
       "0  Afghanistan  Afghanistan      Asia  South & Central Asia  AF\n",
       "1       Angola       Angola    Africa                Africa  AO\n",
       "2      Albania      Albania    Europe      Europe & Eurasia  AL\n",
       "3      Finland        Aland    Europe      Europe & Eurasia  AX\n",
       "4      Andorra      Andorra    Europe      Europe & Eurasia  AD"
      ]
     },
     "execution_count": 26,
     "metadata": {},
     "output_type": "execute_result"
    }
   ],
   "source": [
    "region.head()"
   ]
  },
  {
   "cell_type": "markdown",
   "metadata": {},
   "source": [
    "### Inspecting the country names  \n",
    "In order to have a more successful use of the Region look-up table, I see which country names differ."
   ]
  },
  {
   "cell_type": "code",
   "execution_count": 27,
   "metadata": {},
   "outputs": [],
   "source": [
    "# applying the Recipient name dictionary\n",
    "region.Country_Name.replace(dic, inplace = True)"
   ]
  },
  {
   "cell_type": "code",
   "execution_count": 28,
   "metadata": {},
   "outputs": [],
   "source": [
    "# seeing which countries differ\n",
    "region_names = set(region.Country_Name)\n",
    "merge_names = set(df_merge.Recipient)"
   ]
  },
  {
   "cell_type": "code",
   "execution_count": 29,
   "metadata": {},
   "outputs": [],
   "source": [
    "diff = [country for country in region_names if country not in merge_names]\n",
    "diff = diff.sort()"
   ]
  },
  {
   "cell_type": "code",
   "execution_count": 30,
   "metadata": {},
   "outputs": [
    {
     "name": "stdout",
     "output_type": "stream",
     "text": [
      "None\n"
     ]
    }
   ],
   "source": [
    "print(diff)"
   ]
  },
  {
   "cell_type": "code",
   "execution_count": 31,
   "metadata": {},
   "outputs": [
    {
     "data": {
      "text/plain": [
       "{'Afghanistan',\n",
       " 'Albania',\n",
       " 'Algeria',\n",
       " 'Angola',\n",
       " 'Argentina',\n",
       " 'Armenia',\n",
       " 'Azerbaijan',\n",
       " 'Bangladesh',\n",
       " 'Belarus',\n",
       " 'Belize',\n",
       " 'Benin',\n",
       " 'Bhutan',\n",
       " 'Bosnia and Herzegovina',\n",
       " 'Botswana',\n",
       " 'Brazil',\n",
       " 'Burkina Faso',\n",
       " 'Burundi',\n",
       " 'Cabo Verde',\n",
       " 'Cambodia',\n",
       " 'Cameroon',\n",
       " 'Central African Republic',\n",
       " 'Chad',\n",
       " 'Chile',\n",
       " 'Colombia',\n",
       " 'Comoros',\n",
       " 'Costa Rica',\n",
       " 'Croatia',\n",
       " 'Cuba',\n",
       " 'Democratic Republic of the Congo',\n",
       " 'Djibouti',\n",
       " 'Dominican Republic',\n",
       " 'Ecuador',\n",
       " 'Egypt',\n",
       " 'El Salvador',\n",
       " 'Eswatini',\n",
       " 'Ethiopia',\n",
       " 'Fiji',\n",
       " 'Gabon',\n",
       " 'Georgia',\n",
       " 'Ghana',\n",
       " 'Guatemala',\n",
       " 'Guinea',\n",
       " 'Guinea-Bissau',\n",
       " 'Guyana',\n",
       " 'Haiti',\n",
       " 'Honduras',\n",
       " 'India',\n",
       " 'Indonesia',\n",
       " 'Iraq',\n",
       " 'Jamaica',\n",
       " 'Jordan',\n",
       " 'Kazakhstan',\n",
       " 'Kenya',\n",
       " 'Lebanon',\n",
       " 'Lesotho',\n",
       " 'Liberia',\n",
       " 'Libya',\n",
       " 'Madagascar',\n",
       " 'Malawi',\n",
       " 'Malaysia',\n",
       " 'Maldives',\n",
       " 'Mali',\n",
       " 'Marshall Islands',\n",
       " 'Mauritania',\n",
       " 'Mauritius',\n",
       " 'Mexico',\n",
       " 'Micronesia',\n",
       " 'Moldova',\n",
       " 'Mongolia',\n",
       " 'Montenegro',\n",
       " 'Morocco',\n",
       " 'Mozambique',\n",
       " 'Namibia',\n",
       " 'Nepal',\n",
       " 'Nicaragua',\n",
       " 'Niger',\n",
       " 'Nigeria',\n",
       " 'North Macedonia',\n",
       " 'Oman',\n",
       " 'Pakistan',\n",
       " 'Panama',\n",
       " 'Papua New Guinea',\n",
       " 'Paraguay',\n",
       " 'Peru',\n",
       " 'Philippines',\n",
       " 'Rwanda',\n",
       " 'Samoa',\n",
       " 'Sao Tome and Principe',\n",
       " 'Senegal',\n",
       " 'Serbia',\n",
       " 'Seychelles',\n",
       " 'Sierra Leone',\n",
       " 'South Africa',\n",
       " 'South Sudan',\n",
       " 'Sri Lanka',\n",
       " 'Sudan',\n",
       " 'Suriname',\n",
       " 'Tajikistan',\n",
       " 'Tanzania',\n",
       " 'Thailand',\n",
       " 'Timor-Leste',\n",
       " 'Togo',\n",
       " 'Tonga',\n",
       " 'Trinidad and Tobago',\n",
       " 'Tunisia',\n",
       " 'Turkey',\n",
       " 'Turkmenistan',\n",
       " 'Uganda',\n",
       " 'Ukraine',\n",
       " 'Uruguay',\n",
       " 'Uzbekistan',\n",
       " 'Venezuela',\n",
       " 'Yemen',\n",
       " 'Zambia',\n",
       " 'Zimbabwe'}"
      ]
     },
     "execution_count": 31,
     "metadata": {},
     "output_type": "execute_result"
    }
   ],
   "source": [
    "# looking at country names in the merged data Recipient column\n",
    "merge_names"
   ]
  },
  {
   "cell_type": "markdown",
   "metadata": {},
   "source": [
    "Things to add to the above dictionary:\n",
    "  * Burma to Myanmar was a change done previously; mentioned here for documentation\n",
    "  * Curaçao to Curacao was a change done previously\n",
    "  * Federated States of Micronesia to Micronesia\n",
    "  * Guinea Bissau to Guinea-Bissau\n",
    "  * Macedonia to North Macedonia\n",
    "  * Republic of Congo to Congo is not changed but was a change done previously\n",
    "  * North Korea to Democratic People's Republic of Korea"
   ]
  },
  {
   "cell_type": "code",
   "execution_count": 32,
   "metadata": {},
   "outputs": [],
   "source": [
    "# creating a reference dictionary for the country names and regions\n",
    "ref_dict = {region.Country_Name[obs]: region.DOS_Region[obs] for obs in range(len(region))}"
   ]
  },
  {
   "cell_type": "code",
   "execution_count": 33,
   "metadata": {},
   "outputs": [],
   "source": [
    "# I use .get() because, as a second argument, I can tell it what to retrieve as a value if the key is not in the dictionary\n",
    "# otherwise, if they key had not been present, it will throw an error\n",
    "df_merge['region'] = [ref_dict.get(df_merge.Recipient[obs]) for obs in range(len(df_merge))]"
   ]
  },
  {
   "cell_type": "code",
   "execution_count": 34,
   "metadata": {},
   "outputs": [
    {
     "data": {
      "text/html": [
       "<div>\n",
       "<style scoped>\n",
       "    .dataframe tbody tr th:only-of-type {\n",
       "        vertical-align: middle;\n",
       "    }\n",
       "\n",
       "    .dataframe tbody tr th {\n",
       "        vertical-align: top;\n",
       "    }\n",
       "\n",
       "    .dataframe thead th {\n",
       "        text-align: right;\n",
       "    }\n",
       "</style>\n",
       "<table border=\"1\" class=\"dataframe\">\n",
       "  <thead>\n",
       "    <tr style=\"text-align: right;\">\n",
       "      <th></th>\n",
       "      <th>Donor</th>\n",
       "      <th>Recipient</th>\n",
       "      <th>Year</th>\n",
       "      <th>Value</th>\n",
       "      <th>num_donors_by_country_yr</th>\n",
       "      <th>num_donors_by_country</th>\n",
       "      <th>ODA_total_value_by_country_yr</th>\n",
       "      <th>proportion</th>\n",
       "      <th>Rank</th>\n",
       "      <th>us_top_5</th>\n",
       "      <th>us_top_3</th>\n",
       "      <th>Code_abr</th>\n",
       "      <th>Code_expanded</th>\n",
       "      <th>income_category</th>\n",
       "      <th>gdp_per_capita</th>\n",
       "      <th>population</th>\n",
       "      <th>gdp</th>\n",
       "      <th>region</th>\n",
       "    </tr>\n",
       "  </thead>\n",
       "  <tbody>\n",
       "    <tr>\n",
       "      <th>0</th>\n",
       "      <td>Denmark</td>\n",
       "      <td>Democratic Republic of the Congo</td>\n",
       "      <td>2008</td>\n",
       "      <td>5900000.0</td>\n",
       "      <td>23</td>\n",
       "      <td>28</td>\n",
       "      <td>1.167140e+09</td>\n",
       "      <td>0.005055</td>\n",
       "      <td>16</td>\n",
       "      <td>False</td>\n",
       "      <td>False</td>\n",
       "      <td>2</td>\n",
       "      <td>2</td>\n",
       "      <td>LM</td>\n",
       "      <td>327.563722</td>\n",
       "      <td>60411195.0</td>\n",
       "      <td>1.978852e+10</td>\n",
       "      <td>Africa</td>\n",
       "    </tr>\n",
       "    <tr>\n",
       "      <th>1</th>\n",
       "      <td>Denmark</td>\n",
       "      <td>Democratic Republic of the Congo</td>\n",
       "      <td>2009</td>\n",
       "      <td>5890000.0</td>\n",
       "      <td>24</td>\n",
       "      <td>28</td>\n",
       "      <td>1.456830e+09</td>\n",
       "      <td>0.004043</td>\n",
       "      <td>16</td>\n",
       "      <td>False</td>\n",
       "      <td>False</td>\n",
       "      <td>2</td>\n",
       "      <td>2</td>\n",
       "      <td>LM</td>\n",
       "      <td>298.619682</td>\n",
       "      <td>62448574.0</td>\n",
       "      <td>1.864837e+10</td>\n",
       "      <td>Africa</td>\n",
       "    </tr>\n",
       "    <tr>\n",
       "      <th>2</th>\n",
       "      <td>Denmark</td>\n",
       "      <td>Democratic Republic of the Congo</td>\n",
       "      <td>2010</td>\n",
       "      <td>5890000.0</td>\n",
       "      <td>23</td>\n",
       "      <td>28</td>\n",
       "      <td>2.258180e+09</td>\n",
       "      <td>0.002608</td>\n",
       "      <td>19</td>\n",
       "      <td>False</td>\n",
       "      <td>False</td>\n",
       "      <td>2</td>\n",
       "      <td>2</td>\n",
       "      <td>LM</td>\n",
       "      <td>334.021573</td>\n",
       "      <td>64563854.0</td>\n",
       "      <td>2.156572e+10</td>\n",
       "      <td>Africa</td>\n",
       "    </tr>\n",
       "    <tr>\n",
       "      <th>3</th>\n",
       "      <td>Denmark</td>\n",
       "      <td>Democratic Republic of the Congo</td>\n",
       "      <td>2011</td>\n",
       "      <td>1840000.0</td>\n",
       "      <td>24</td>\n",
       "      <td>28</td>\n",
       "      <td>4.336110e+09</td>\n",
       "      <td>0.000424</td>\n",
       "      <td>19</td>\n",
       "      <td>False</td>\n",
       "      <td>False</td>\n",
       "      <td>2</td>\n",
       "      <td>2</td>\n",
       "      <td>LM</td>\n",
       "      <td>387.082465</td>\n",
       "      <td>66755153.0</td>\n",
       "      <td>2.583975e+10</td>\n",
       "      <td>Africa</td>\n",
       "    </tr>\n",
       "    <tr>\n",
       "      <th>4</th>\n",
       "      <td>Denmark</td>\n",
       "      <td>Democratic Republic of the Congo</td>\n",
       "      <td>2012</td>\n",
       "      <td>230000.0</td>\n",
       "      <td>23</td>\n",
       "      <td>28</td>\n",
       "      <td>1.599800e+09</td>\n",
       "      <td>0.000144</td>\n",
       "      <td>22</td>\n",
       "      <td>False</td>\n",
       "      <td>False</td>\n",
       "      <td>2</td>\n",
       "      <td>2</td>\n",
       "      <td>LM</td>\n",
       "      <td>424.600386</td>\n",
       "      <td>69020747.0</td>\n",
       "      <td>2.930624e+10</td>\n",
       "      <td>Africa</td>\n",
       "    </tr>\n",
       "  </tbody>\n",
       "</table>\n",
       "</div>"
      ],
      "text/plain": [
       "     Donor                         Recipient  Year      Value  \\\n",
       "0  Denmark  Democratic Republic of the Congo  2008  5900000.0   \n",
       "1  Denmark  Democratic Republic of the Congo  2009  5890000.0   \n",
       "2  Denmark  Democratic Republic of the Congo  2010  5890000.0   \n",
       "3  Denmark  Democratic Republic of the Congo  2011  1840000.0   \n",
       "4  Denmark  Democratic Republic of the Congo  2012   230000.0   \n",
       "\n",
       "   num_donors_by_country_yr  num_donors_by_country  \\\n",
       "0                        23                     28   \n",
       "1                        24                     28   \n",
       "2                        23                     28   \n",
       "3                        24                     28   \n",
       "4                        23                     28   \n",
       "\n",
       "   ODA_total_value_by_country_yr  proportion  Rank  us_top_5  us_top_3  \\\n",
       "0                   1.167140e+09    0.005055    16     False     False   \n",
       "1                   1.456830e+09    0.004043    16     False     False   \n",
       "2                   2.258180e+09    0.002608    19     False     False   \n",
       "3                   4.336110e+09    0.000424    19     False     False   \n",
       "4                   1.599800e+09    0.000144    22     False     False   \n",
       "\n",
       "   Code_abr  Code_expanded income_category  gdp_per_capita  population  \\\n",
       "0         2              2              LM      327.563722  60411195.0   \n",
       "1         2              2              LM      298.619682  62448574.0   \n",
       "2         2              2              LM      334.021573  64563854.0   \n",
       "3         2              2              LM      387.082465  66755153.0   \n",
       "4         2              2              LM      424.600386  69020747.0   \n",
       "\n",
       "            gdp  region  \n",
       "0  1.978852e+10  Africa  \n",
       "1  1.864837e+10  Africa  \n",
       "2  2.156572e+10  Africa  \n",
       "3  2.583975e+10  Africa  \n",
       "4  2.930624e+10  Africa  "
      ]
     },
     "execution_count": 34,
     "metadata": {},
     "output_type": "execute_result"
    }
   ],
   "source": [
    "df_merge.head()"
   ]
  },
  {
   "cell_type": "code",
   "execution_count": 35,
   "metadata": {},
   "outputs": [
    {
     "data": {
      "text/plain": [
       "Donor                              0\n",
       "Recipient                          0\n",
       "Year                               0\n",
       "Value                              0\n",
       "num_donors_by_country_yr           0\n",
       "num_donors_by_country              0\n",
       "ODA_total_value_by_country_yr      0\n",
       "proportion                         0\n",
       "Rank                               0\n",
       "us_top_5                           0\n",
       "us_top_3                           0\n",
       "Code_abr                           0\n",
       "Code_expanded                      0\n",
       "income_category                    0\n",
       "gdp_per_capita                     0\n",
       "population                       245\n",
       "gdp                              245\n",
       "region                           171\n",
       "dtype: int64"
      ]
     },
     "execution_count": 35,
     "metadata": {},
     "output_type": "execute_result"
    }
   ],
   "source": [
    "df_merge.isnull().sum()"
   ]
  },
  {
   "cell_type": "markdown",
   "metadata": {},
   "source": [
    "#### Note: I intend to drop the missing values. Given that this data (across different notebooks) was merged multiple times with each resulting in some loss, it is possible to better preseve the observations for very particular use-cases and with fewer merges involved."
   ]
  },
  {
   "cell_type": "code",
   "execution_count": 36,
   "metadata": {},
   "outputs": [
    {
     "data": {
      "text/plain": [
       "Donor                            0\n",
       "Recipient                        0\n",
       "Year                             0\n",
       "Value                            0\n",
       "num_donors_by_country_yr         0\n",
       "num_donors_by_country            0\n",
       "ODA_total_value_by_country_yr    0\n",
       "proportion                       0\n",
       "Rank                             0\n",
       "us_top_5                         0\n",
       "us_top_3                         0\n",
       "Code_abr                         0\n",
       "Code_expanded                    0\n",
       "income_category                  0\n",
       "gdp_per_capita                   0\n",
       "population                       0\n",
       "gdp                              0\n",
       "region                           0\n",
       "dtype: int64"
      ]
     },
     "execution_count": 36,
     "metadata": {},
     "output_type": "execute_result"
    }
   ],
   "source": [
    "# removing the null values and checking the results\n",
    "df_merge.dropna(inplace = True)\n",
    "df_merge.isnull().sum()"
   ]
  },
  {
   "cell_type": "markdown",
   "metadata": {},
   "source": [
    "### Analysis:  \n",
    "There are a few things to consider here:  \n",
    "  * Fixed effect and interaction terms would be required to control for the differences across countries and years  \n",
    "    * each country and year has one observation only  \n",
    "    * if we estimated this model without accounting for these differences, we would be implicitly assuming that the relationship between other variables and the U.S. being a top 5 or top 3 donor would be the same for all countries for all years (which is obviously not the case)\n",
    "    * many of the potential explanatory variables/features are directly related, e.g., proportion and Rank, gdp_per_capita and population\n",
    "  * Unsupervised methods like K-Means are only meant to be used with numerical data, e.g., population, not mixed data types; here we have both categorical and numerical features  \n",
    "\n",
    "#### Chi-squared tests of independence  \n",
    "I can run statistical tests of independence for the categorical features with regard to their relationship to us_top_5 or us_top_3. For now, let's set $\\alpha\\$ = 0.05 where the null hypothesis is independence.\n",
    "\n",
    "Intuitively, we can think of this as follows. We use two categorical variables to establish Venn diagrams. If we reject the null hypothesis, then we can think of the intersection of the diagrams as being significant."
   ]
  },
  {
   "cell_type": "markdown",
   "metadata": {},
   "source": [
    "#### First round of tests  \n",
    "There were three tests that rejected the null hypothesis of independence at the 5% significance level: abr code and top 3, expanded code and top 3, and region and top 5."
   ]
  },
  {
   "cell_type": "markdown",
   "metadata": {},
   "source": [
    "#### Post-hoc tests  \n",
    "In order to identify the sub-categories that were significant, I ran more granular tests of independence. For the abr codes, the pairs 2,4 and 1,2 rejected independence. The exp codes differed in that only the test associated with 2 and 5 rejected the null. The region tests had three rejections: East Asia & Pacific and Near East Asia, South & Central Asia and East Asia & Pacific, and Africa and East Asia & Pacific.  \n",
    "\n",
    "Since different criteria define each of these sub-categories, more granular information could enrich the information we are able to glean from the data."
   ]
  },
  {
   "cell_type": "markdown",
   "metadata": {},
   "source": [
    "#### Caveats  \n",
    "Recall that the Ranks were done by year and for each recipient. Also, the value that we restrict looking at for the U.S. rank is also arbitrary (here 3 and 5). We can potentially retain more observations with more specific merging/joins. As we change these, we should anticipate different results."
   ]
  },
  {
   "cell_type": "markdown",
   "metadata": {},
   "source": [
    "#### Code abr tests"
   ]
  },
  {
   "cell_type": "code",
   "execution_count": 37,
   "metadata": {},
   "outputs": [
    {
     "data": {
      "text/plain": [
       "us_top_5  Code_abr\n",
       "False     2           7615\n",
       "          4           7142\n",
       "          1           5767\n",
       "          3            746\n",
       "True      2            356\n",
       "          4            351\n",
       "          1            257\n",
       "          3             30\n",
       "Name: Code_abr, dtype: int64"
      ]
     },
     "execution_count": 37,
     "metadata": {},
     "output_type": "execute_result"
    }
   ],
   "source": [
    "# there is imbalance to the classes that will impact the analysis\n",
    "df_merge.groupby('us_top_5')['Code_abr'].value_counts() "
   ]
  },
  {
   "cell_type": "code",
   "execution_count": 38,
   "metadata": {},
   "outputs": [
    {
     "name": "stdout",
     "output_type": "stream",
     "text": [
      "p-value:  0.5608544903155692\n"
     ]
    }
   ],
   "source": [
    "# the p-value is larger than any conventional alpha level\n",
    "# we fail to reject the null hypothesis, so the U.S. being a top 5 donor and the abr code are indpendent\n",
    "contingency = pd.crosstab(df_merge['us_top_5'], df_merge.Code_abr)\n",
    "stat, p, dof, expec = chi2_contingency(contingency)\n",
    "print('p-value: ', p) "
   ]
  },
  {
   "cell_type": "code",
   "execution_count": 39,
   "metadata": {},
   "outputs": [
    {
     "data": {
      "text/plain": [
       "us_top_3  Code_abr\n",
       "False     2           7636\n",
       "          4           7243\n",
       "          1           5825\n",
       "          3            750\n",
       "True      2            335\n",
       "          4            250\n",
       "          1            199\n",
       "          3             26\n",
       "Name: Code_abr, dtype: int64"
      ]
     },
     "execution_count": 39,
     "metadata": {},
     "output_type": "execute_result"
    }
   ],
   "source": [
    "df_merge.groupby('us_top_3')['Code_abr'].value_counts()"
   ]
  },
  {
   "cell_type": "code",
   "execution_count": 40,
   "metadata": {},
   "outputs": [
    {
     "name": "stdout",
     "output_type": "stream",
     "text": [
      "p-value:  0.010205157367075536\n"
     ]
    }
   ],
   "source": [
    "# we reject the null; the evidence suggests that the abr code and being in the top 3 are not independent\n",
    "contingency = pd.crosstab(df_merge['us_top_3'], df_merge.Code_abr)\n",
    "stat, p, dof, expec = chi2_contingency(contingency)\n",
    "print('p-value: ', p) "
   ]
  },
  {
   "cell_type": "markdown",
   "metadata": {},
   "source": [
    "#### Code expanded tests"
   ]
  },
  {
   "cell_type": "code",
   "execution_count": 41,
   "metadata": {},
   "outputs": [
    {
     "data": {
      "text/plain": [
       "us_top_5  Code_expanded\n",
       "False     2                7615\n",
       "          1                5767\n",
       "          4                3409\n",
       "          5                3204\n",
       "          3                 746\n",
       "          6                 529\n",
       "True      2                 356\n",
       "          1                 257\n",
       "          5                 170\n",
       "          4                 158\n",
       "          3                  30\n",
       "          6                  23\n",
       "Name: Code_expanded, dtype: int64"
      ]
     },
     "execution_count": 41,
     "metadata": {},
     "output_type": "execute_result"
    }
   ],
   "source": [
    "df_merge.groupby('us_top_5')['Code_expanded'].value_counts() "
   ]
  },
  {
   "cell_type": "code",
   "execution_count": 43,
   "metadata": {},
   "outputs": [
    {
     "name": "stdout",
     "output_type": "stream",
     "text": [
      "p-value:  0.5583214946771159\n"
     ]
    }
   ],
   "source": [
    "# we fail to reject the null hypothesis\n",
    "contingency = pd.crosstab(df_merge['us_top_5'], df_merge.Code_expanded)\n",
    "stat, p, dof, expec = chi2_contingency(contingency)\n",
    "print('p-value: ', p) "
   ]
  },
  {
   "cell_type": "code",
   "execution_count": 44,
   "metadata": {},
   "outputs": [
    {
     "data": {
      "text/plain": [
       "us_top_3  Code_expanded\n",
       "False     2                7636\n",
       "          1                5825\n",
       "          4                3434\n",
       "          5                3280\n",
       "          3                 750\n",
       "          6                 529\n",
       "True      2                 335\n",
       "          1                 199\n",
       "          4                 133\n",
       "          5                  94\n",
       "          3                  26\n",
       "          6                  23\n",
       "Name: Code_expanded, dtype: int64"
      ]
     },
     "execution_count": 44,
     "metadata": {},
     "output_type": "execute_result"
    }
   ],
   "source": [
    "df_merge.groupby('us_top_3')['Code_expanded'].value_counts() "
   ]
  },
  {
   "cell_type": "code",
   "execution_count": 44,
   "metadata": {},
   "outputs": [
    {
     "name": "stdout",
     "output_type": "stream",
     "text": [
      "p-value:  0.004759139906133619\n"
     ]
    }
   ],
   "source": [
    "# we reject the null\n",
    "contingency = pd.crosstab(df_merge['us_top_3'], df_merge.Code_expanded)\n",
    "stat, p, dof, expec = chi2_contingency(contingency)\n",
    "print('p-value: ', p)"
   ]
  },
  {
   "cell_type": "markdown",
   "metadata": {},
   "source": [
    "#### Income Category tests"
   ]
  },
  {
   "cell_type": "code",
   "execution_count": 45,
   "metadata": {},
   "outputs": [
    {
     "data": {
      "text/plain": [
       "us_top_5  income_category\n",
       "False     LM                 7524\n",
       "          UM                 7371\n",
       "          L                  5904\n",
       "          H                   471\n",
       "True      LM                  367\n",
       "          UM                  348\n",
       "          L                   265\n",
       "          H                    14\n",
       "Name: income_category, dtype: int64"
      ]
     },
     "execution_count": 45,
     "metadata": {},
     "output_type": "execute_result"
    }
   ],
   "source": [
    "df_merge.groupby('us_top_5')['income_category'].value_counts() "
   ]
  },
  {
   "cell_type": "code",
   "execution_count": 46,
   "metadata": {},
   "outputs": [
    {
     "name": "stdout",
     "output_type": "stream",
     "text": [
      "p-value:  0.27015228820072706\n"
     ]
    }
   ],
   "source": [
    "# we fail to reject the null\n",
    "contingency = pd.crosstab(df_merge['us_top_5'], df_merge.income_category)\n",
    "stat, p, dof, expec = chi2_contingency(contingency)\n",
    "print('p-value: ', p)"
   ]
  },
  {
   "cell_type": "code",
   "execution_count": 47,
   "metadata": {},
   "outputs": [
    {
     "data": {
      "text/plain": [
       "us_top_3  income_category\n",
       "False     LM                 7619\n",
       "          UM                 7432\n",
       "          L                  5927\n",
       "          H                   476\n",
       "True      UM                  287\n",
       "          LM                  272\n",
       "          L                   242\n",
       "          H                     9\n",
       "Name: income_category, dtype: int64"
      ]
     },
     "execution_count": 47,
     "metadata": {},
     "output_type": "execute_result"
    }
   ],
   "source": [
    "df_merge.groupby('us_top_3')['income_category'].value_counts() "
   ]
  },
  {
   "cell_type": "code",
   "execution_count": 48,
   "metadata": {},
   "outputs": [
    {
     "name": "stdout",
     "output_type": "stream",
     "text": [
      "p-value:  0.07907264386784099\n"
     ]
    }
   ],
   "source": [
    "# we fail to reject the null\n",
    "contingency = pd.crosstab(df_merge['us_top_3'], df_merge.income_category)\n",
    "stat, p, dof, expec = chi2_contingency(contingency)\n",
    "print('p-value: ', p)"
   ]
  },
  {
   "cell_type": "markdown",
   "metadata": {},
   "source": [
    "#### Region tests"
   ]
  },
  {
   "cell_type": "code",
   "execution_count": 49,
   "metadata": {},
   "outputs": [
    {
     "data": {
      "text/plain": [
       "us_top_5  region              \n",
       "False     Africa                  8032\n",
       "          Western Hemisphere      4236\n",
       "          Europe & Eurasia        2704\n",
       "          South & Central Asia    2472\n",
       "          East Asia & Pacific     1949\n",
       "          Near East Asia          1877\n",
       "True      Africa                   373\n",
       "          Western Hemisphere       196\n",
       "          East Asia & Pacific      125\n",
       "          Europe & Eurasia         120\n",
       "          South & Central Asia     103\n",
       "          Near East Asia            77\n",
       "Name: region, dtype: int64"
      ]
     },
     "execution_count": 49,
     "metadata": {},
     "output_type": "execute_result"
    }
   ],
   "source": [
    "df_merge.groupby('us_top_5')['region'].value_counts() "
   ]
  },
  {
   "cell_type": "code",
   "execution_count": 50,
   "metadata": {},
   "outputs": [
    {
     "name": "stdout",
     "output_type": "stream",
     "text": [
      "p-value:  0.011390295104638225\n"
     ]
    }
   ],
   "source": [
    "# we reject the null\n",
    "contingency = pd.crosstab(df_merge['us_top_5'], df_merge.region)\n",
    "stat, p, dof, expec = chi2_contingency(contingency)\n",
    "print('p-value: ', p)"
   ]
  },
  {
   "cell_type": "code",
   "execution_count": 51,
   "metadata": {},
   "outputs": [
    {
     "data": {
      "text/plain": [
       "us_top_3  region              \n",
       "False     Africa                  8082\n",
       "          Western Hemisphere      4252\n",
       "          Europe & Eurasia        2722\n",
       "          South & Central Asia    2499\n",
       "          East Asia & Pacific     2005\n",
       "          Near East Asia          1894\n",
       "True      Africa                   323\n",
       "          Western Hemisphere       180\n",
       "          Europe & Eurasia         102\n",
       "          South & Central Asia      76\n",
       "          East Asia & Pacific       69\n",
       "          Near East Asia            60\n",
       "Name: region, dtype: int64"
      ]
     },
     "execution_count": 51,
     "metadata": {},
     "output_type": "execute_result"
    }
   ],
   "source": [
    "df_merge.groupby('us_top_3')['region'].value_counts() "
   ]
  },
  {
   "cell_type": "code",
   "execution_count": 52,
   "metadata": {},
   "outputs": [
    {
     "name": "stdout",
     "output_type": "stream",
     "text": [
      "p-value:  0.10486043469371997\n"
     ]
    }
   ],
   "source": [
    "# we fail to reject the null\n",
    "contingency = pd.crosstab(df_merge['us_top_3'], df_merge.region)\n",
    "stat, p, dof, expec = chi2_contingency(contingency)\n",
    "print('p-value: ', p)"
   ]
  },
  {
   "cell_type": "markdown",
   "metadata": {},
   "source": [
    "### Results  of first tests\n",
    "We rejected the null hypothesis three times. For these three instances, post-hoc tests can be conducted to see where the differences lie. Adjustment for multiple sub-comparisons will need to be accounted for, i.e., Bonferroni corrections.\n",
    "\n",
    "This involves dividing our alpha by the number of tests we are conducting. The reason we do this is can be thought of intuitively. If we continue to use more and more categorical attributes to run additional tests, eventually, we will reject the null hypothesis, but this may just be attributable to random chance."
   ]
  },
  {
   "cell_type": "markdown",
   "metadata": {},
   "source": [
    "#### abr code and U.S. top 3  second round  of tests\n",
    "family-wise error rate = $\\alpha\\$/6 = 0.0083  "
   ]
  },
  {
   "cell_type": "code",
   "execution_count": 53,
   "metadata": {
    "scrolled": true
   },
   "outputs": [
    {
     "data": {
      "text/plain": [
       "us_top_3  Code_abr\n",
       "False     2           7636\n",
       "          1           5825\n",
       "True      2            335\n",
       "          1            199\n",
       "Name: Code_abr, dtype: int64"
      ]
     },
     "execution_count": 53,
     "metadata": {},
     "output_type": "execute_result"
    }
   ],
   "source": [
    "abr1 = df_merge[df_merge.Code_abr <= 2]\n",
    "abr1.groupby('us_top_3')['Code_abr'].value_counts() "
   ]
  },
  {
   "cell_type": "code",
   "execution_count": 54,
   "metadata": {},
   "outputs": [
    {
     "name": "stdout",
     "output_type": "stream",
     "text": [
      "p-value:  0.006829246077465552\n"
     ]
    }
   ],
   "source": [
    "# we reject the null since the p-value is smaller than the family-wise error rate\n",
    "# there is evidence to suggest that the abr codes for 1 and 2 are not independent with respect to the U.S. being\n",
    "# a top 3 donor\n",
    "contingency = pd.crosstab(abr1['us_top_3'], abr1.Code_abr)\n",
    "stat, p, dof, expec = chi2_contingency(contingency)\n",
    "print('p-value: ', p) "
   ]
  },
  {
   "cell_type": "code",
   "execution_count": 55,
   "metadata": {},
   "outputs": [
    {
     "data": {
      "text/plain": [
       "us_top_3  Code_abr\n",
       "False     1           5825\n",
       "          3            750\n",
       "True      1            199\n",
       "          3             26\n",
       "Name: Code_abr, dtype: int64"
      ]
     },
     "execution_count": 55,
     "metadata": {},
     "output_type": "execute_result"
    }
   ],
   "source": [
    "abr2 = df_merge[(df_merge.Code_abr == 1) | (df_merge.Code_abr == 3)]\n",
    "abr2.groupby('us_top_3')['Code_abr'].value_counts() "
   ]
  },
  {
   "cell_type": "code",
   "execution_count": 56,
   "metadata": {},
   "outputs": [
    {
     "name": "stdout",
     "output_type": "stream",
     "text": [
      "p-value:  0.9699834479459223\n"
     ]
    }
   ],
   "source": [
    "# we fail to reject the null\n",
    "contingency = pd.crosstab(abr2['us_top_3'], abr2.Code_abr)\n",
    "stat, p, dof, expec = chi2_contingency(contingency)\n",
    "print('p-value: ', p) "
   ]
  },
  {
   "cell_type": "code",
   "execution_count": 57,
   "metadata": {},
   "outputs": [
    {
     "data": {
      "text/plain": [
       "us_top_3  Code_abr\n",
       "False     4           7243\n",
       "          1           5825\n",
       "True      4            250\n",
       "          1            199\n",
       "Name: Code_abr, dtype: int64"
      ]
     },
     "execution_count": 57,
     "metadata": {},
     "output_type": "execute_result"
    }
   ],
   "source": [
    "abr3 = df_merge[(df_merge.Code_abr == 1) | (df_merge.Code_abr == 4)]\n",
    "abr3.groupby('us_top_3')['Code_abr'].value_counts() "
   ]
  },
  {
   "cell_type": "code",
   "execution_count": 58,
   "metadata": {},
   "outputs": [
    {
     "name": "stdout",
     "output_type": "stream",
     "text": [
      "p-value:  0.9536586574161464\n"
     ]
    }
   ],
   "source": [
    "# we fail to reject the null\n",
    "contingency = pd.crosstab(abr3['us_top_3'], abr3.Code_abr)\n",
    "stat, p, dof, expec = chi2_contingency(contingency)\n",
    "print('p-value: ', p) "
   ]
  },
  {
   "cell_type": "code",
   "execution_count": 59,
   "metadata": {},
   "outputs": [
    {
     "data": {
      "text/plain": [
       "us_top_3  Code_abr\n",
       "False     2           7636\n",
       "          3            750\n",
       "True      2            335\n",
       "          3             26\n",
       "Name: Code_abr, dtype: int64"
      ]
     },
     "execution_count": 59,
     "metadata": {},
     "output_type": "execute_result"
    }
   ],
   "source": [
    "abr4 = df_merge[(df_merge.Code_abr == 2) | (df_merge.Code_abr == 3)]\n",
    "abr4.groupby('us_top_3')['Code_abr'].value_counts() "
   ]
  },
  {
   "cell_type": "code",
   "execution_count": 60,
   "metadata": {},
   "outputs": [
    {
     "name": "stdout",
     "output_type": "stream",
     "text": [
      "p-value:  0.29612737873226963\n"
     ]
    }
   ],
   "source": [
    "# we fail to reject the null\n",
    "contingency = pd.crosstab(abr4['us_top_3'], abr4.Code_abr)\n",
    "stat, p, dof, expec = chi2_contingency(contingency)\n",
    "print('p-value: ', p) "
   ]
  },
  {
   "cell_type": "code",
   "execution_count": 61,
   "metadata": {},
   "outputs": [
    {
     "data": {
      "text/plain": [
       "us_top_3  Code_abr\n",
       "False     2           7636\n",
       "          4           7243\n",
       "True      2            335\n",
       "          4            250\n",
       "Name: Code_abr, dtype: int64"
      ]
     },
     "execution_count": 61,
     "metadata": {},
     "output_type": "execute_result"
    }
   ],
   "source": [
    "abr5 = df_merge[(df_merge.Code_abr == 2) | (df_merge.Code_abr == 4)]\n",
    "abr5.groupby('us_top_3')['Code_abr'].value_counts() "
   ]
  },
  {
   "cell_type": "code",
   "execution_count": 62,
   "metadata": {},
   "outputs": [
    {
     "name": "stdout",
     "output_type": "stream",
     "text": [
      "p-value:  0.005440319187421885\n"
     ]
    }
   ],
   "source": [
    "# we reject the null; there is evidence to suggest that the abr codes 2 and 4 are not independent\n",
    "# with respect to the U.S. being a top 3 donor\n",
    "contingency = pd.crosstab(abr5['us_top_3'], abr5.Code_abr)\n",
    "stat, p, dof, expec = chi2_contingency(contingency)\n",
    "print('p-value: ', p) "
   ]
  },
  {
   "cell_type": "code",
   "execution_count": 63,
   "metadata": {},
   "outputs": [
    {
     "data": {
      "text/plain": [
       "us_top_3  Code_abr\n",
       "False     4           7243\n",
       "          3            750\n",
       "True      4            250\n",
       "          3             26\n",
       "Name: Code_abr, dtype: int64"
      ]
     },
     "execution_count": 63,
     "metadata": {},
     "output_type": "execute_result"
    }
   ],
   "source": [
    "abr6 = df_merge[(df_merge.Code_abr == 3) | (df_merge.Code_abr == 4)]\n",
    "abr6.groupby('us_top_3')['Code_abr'].value_counts() "
   ]
  },
  {
   "cell_type": "code",
   "execution_count": 64,
   "metadata": {},
   "outputs": [
    {
     "name": "stdout",
     "output_type": "stream",
     "text": [
      "p-value:  0.932893374600514\n"
     ]
    }
   ],
   "source": [
    "# we fail to reject the null\n",
    "contingency = pd.crosstab(abr6['us_top_3'], abr6.Code_abr)\n",
    "stat, p, dof, expec = chi2_contingency(contingency)\n",
    "print('p-value: ', p) "
   ]
  },
  {
   "cell_type": "markdown",
   "metadata": {},
   "source": [
    "#### expanded code and U.S. top 3  second round of tests\n",
    "family-wise error rate = $\\alpha\\$/15 = 0.0033333"
   ]
  },
  {
   "cell_type": "code",
   "execution_count": 65,
   "metadata": {},
   "outputs": [
    {
     "data": {
      "text/plain": [
       "us_top_3  Code_expanded\n",
       "False     2                7636\n",
       "          1                5825\n",
       "True      2                 335\n",
       "          1                 199\n",
       "Name: Code_expanded, dtype: int64"
      ]
     },
     "execution_count": 65,
     "metadata": {},
     "output_type": "execute_result"
    }
   ],
   "source": [
    "exp1 = df_merge[df_merge.Code_expanded <= 2]\n",
    "exp1.groupby('us_top_3')['Code_expanded'].value_counts() "
   ]
  },
  {
   "cell_type": "code",
   "execution_count": 66,
   "metadata": {},
   "outputs": [
    {
     "name": "stdout",
     "output_type": "stream",
     "text": [
      "p-value:  0.006829246077465552\n"
     ]
    }
   ],
   "source": [
    "# we fail to reject the null\n",
    "contingency = pd.crosstab(exp1['us_top_3'], exp1.Code_expanded)\n",
    "stat, p, dof, expec = chi2_contingency(contingency)\n",
    "print('p-value: ', p) "
   ]
  },
  {
   "cell_type": "code",
   "execution_count": 67,
   "metadata": {},
   "outputs": [
    {
     "data": {
      "text/plain": [
       "us_top_3  Code_expanded\n",
       "False     1                5825\n",
       "          3                 750\n",
       "True      1                 199\n",
       "          3                  26\n",
       "Name: Code_expanded, dtype: int64"
      ]
     },
     "execution_count": 67,
     "metadata": {},
     "output_type": "execute_result"
    }
   ],
   "source": [
    "exp2 = df_merge[(df_merge.Code_expanded == 1) | (df_merge.Code_expanded == 3)]\n",
    "exp2.groupby('us_top_3')['Code_expanded'].value_counts()"
   ]
  },
  {
   "cell_type": "code",
   "execution_count": 68,
   "metadata": {},
   "outputs": [
    {
     "name": "stdout",
     "output_type": "stream",
     "text": [
      "p-value:  0.9699834479459223\n"
     ]
    }
   ],
   "source": [
    "# we fail to reject the null\n",
    "contingency = pd.crosstab(exp2['us_top_3'], exp2.Code_expanded)\n",
    "stat, p, dof, expec = chi2_contingency(contingency)\n",
    "print('p-value: ', p) "
   ]
  },
  {
   "cell_type": "code",
   "execution_count": 69,
   "metadata": {},
   "outputs": [
    {
     "data": {
      "text/plain": [
       "us_top_3  Code_expanded\n",
       "False     1                5825\n",
       "          4                3434\n",
       "True      1                 199\n",
       "          4                 133\n",
       "Name: Code_expanded, dtype: int64"
      ]
     },
     "execution_count": 69,
     "metadata": {},
     "output_type": "execute_result"
    }
   ],
   "source": [
    "exp3 = df_merge[(df_merge.Code_expanded == 1) | (df_merge.Code_expanded == 4)]\n",
    "exp3.groupby('us_top_3')['Code_expanded'].value_counts()"
   ]
  },
  {
   "cell_type": "code",
   "execution_count": 70,
   "metadata": {},
   "outputs": [
    {
     "name": "stdout",
     "output_type": "stream",
     "text": [
      "p-value:  0.296906777114948\n"
     ]
    }
   ],
   "source": [
    "# we fail to reject the null\n",
    "contingency = pd.crosstab(exp3['us_top_3'], exp3.Code_expanded)\n",
    "stat, p, dof, expec = chi2_contingency(contingency)\n",
    "print('p-value: ', p) "
   ]
  },
  {
   "cell_type": "code",
   "execution_count": 71,
   "metadata": {},
   "outputs": [
    {
     "data": {
      "text/plain": [
       "us_top_3  Code_expanded\n",
       "False     1                5825\n",
       "          5                3280\n",
       "True      1                 199\n",
       "          5                  94\n",
       "Name: Code_expanded, dtype: int64"
      ]
     },
     "execution_count": 71,
     "metadata": {},
     "output_type": "execute_result"
    }
   ],
   "source": [
    "exp4 = df_merge[(df_merge.Code_expanded == 1) | (df_merge.Code_expanded == 5)]\n",
    "exp4.groupby('us_top_3')['Code_expanded'].value_counts()"
   ]
  },
  {
   "cell_type": "code",
   "execution_count": 72,
   "metadata": {},
   "outputs": [
    {
     "name": "stdout",
     "output_type": "stream",
     "text": [
      "p-value:  0.1859267682461043\n"
     ]
    }
   ],
   "source": [
    "# we fail to reject the null\n",
    "contingency = pd.crosstab(exp4['us_top_3'], exp4.Code_expanded)\n",
    "stat, p, dof, expec = chi2_contingency(contingency)\n",
    "print('p-value: ', p) "
   ]
  },
  {
   "cell_type": "code",
   "execution_count": 73,
   "metadata": {},
   "outputs": [
    {
     "data": {
      "text/plain": [
       "us_top_3  Code_expanded\n",
       "False     1                5825\n",
       "          6                 529\n",
       "True      1                 199\n",
       "          6                  23\n",
       "Name: Code_expanded, dtype: int64"
      ]
     },
     "execution_count": 73,
     "metadata": {},
     "output_type": "execute_result"
    }
   ],
   "source": [
    "exp5 = df_merge[(df_merge.Code_expanded == 1) | (df_merge.Code_expanded == 6)]\n",
    "exp5.groupby('us_top_3')['Code_expanded'].value_counts()"
   ]
  },
  {
   "cell_type": "code",
   "execution_count": 74,
   "metadata": {},
   "outputs": [
    {
     "name": "stdout",
     "output_type": "stream",
     "text": [
      "p-value:  0.3412759164367265\n"
     ]
    }
   ],
   "source": [
    "# we fail to reject the null\n",
    "contingency = pd.crosstab(exp5['us_top_3'], exp5.Code_expanded)\n",
    "stat, p, dof, expec = chi2_contingency(contingency)\n",
    "print('p-value: ', p) "
   ]
  },
  {
   "cell_type": "code",
   "execution_count": 75,
   "metadata": {},
   "outputs": [
    {
     "data": {
      "text/plain": [
       "us_top_3  Code_expanded\n",
       "False     2                7636\n",
       "          3                 750\n",
       "True      2                 335\n",
       "          3                  26\n",
       "Name: Code_expanded, dtype: int64"
      ]
     },
     "execution_count": 75,
     "metadata": {},
     "output_type": "execute_result"
    }
   ],
   "source": [
    "exp6 = df_merge[(df_merge.Code_expanded == 2) | (df_merge.Code_expanded == 3)]\n",
    "exp6.groupby('us_top_3')['Code_expanded'].value_counts()"
   ]
  },
  {
   "cell_type": "code",
   "execution_count": 76,
   "metadata": {},
   "outputs": [
    {
     "name": "stdout",
     "output_type": "stream",
     "text": [
      "p-value:  0.29612737873226963\n"
     ]
    }
   ],
   "source": [
    "# we fail to reject the null\n",
    "contingency = pd.crosstab(exp6['us_top_3'], exp6.Code_expanded)\n",
    "stat, p, dof, expec = chi2_contingency(contingency)\n",
    "print('p-value: ', p) "
   ]
  },
  {
   "cell_type": "code",
   "execution_count": 77,
   "metadata": {},
   "outputs": [
    {
     "data": {
      "text/plain": [
       "us_top_3  Code_expanded\n",
       "False     2                7636\n",
       "          4                3434\n",
       "True      2                 335\n",
       "          4                 133\n",
       "Name: Code_expanded, dtype: int64"
      ]
     },
     "execution_count": 77,
     "metadata": {},
     "output_type": "execute_result"
    }
   ],
   "source": [
    "exp7 = df_merge[(df_merge.Code_expanded == 2) | (df_merge.Code_expanded == 4)]\n",
    "exp7.groupby('us_top_3')['Code_expanded'].value_counts()"
   ]
  },
  {
   "cell_type": "code",
   "execution_count": 78,
   "metadata": {},
   "outputs": [
    {
     "name": "stdout",
     "output_type": "stream",
     "text": [
      "p-value:  0.2534591985386394\n"
     ]
    }
   ],
   "source": [
    "# we fail to reject the null\n",
    "contingency = pd.crosstab(exp7['us_top_3'], exp7.Code_expanded)\n",
    "stat, p, dof, expec = chi2_contingency(contingency)\n",
    "print('p-value: ', p)"
   ]
  },
  {
   "cell_type": "code",
   "execution_count": 79,
   "metadata": {},
   "outputs": [
    {
     "data": {
      "text/plain": [
       "us_top_3  Code_expanded\n",
       "False     2                7636\n",
       "          5                3280\n",
       "True      2                 335\n",
       "          5                  94\n",
       "Name: Code_expanded, dtype: int64"
      ]
     },
     "execution_count": 79,
     "metadata": {},
     "output_type": "execute_result"
    }
   ],
   "source": [
    "exp8 = df_merge[(df_merge.Code_expanded == 2) | (df_merge.Code_expanded == 5)]\n",
    "exp8.groupby('us_top_3')['Code_expanded'].value_counts()"
   ]
  },
  {
   "cell_type": "code",
   "execution_count": 80,
   "metadata": {},
   "outputs": [
    {
     "name": "stdout",
     "output_type": "stream",
     "text": [
      "p-value:  0.00036749007903673673\n"
     ]
    }
   ],
   "source": [
    "# we reject the null\n",
    "contingency = pd.crosstab(exp8['us_top_3'], exp8.Code_expanded)\n",
    "stat, p, dof, expec = chi2_contingency(contingency)\n",
    "print('p-value: ', p)"
   ]
  },
  {
   "cell_type": "code",
   "execution_count": 81,
   "metadata": {},
   "outputs": [
    {
     "data": {
      "text/plain": [
       "us_top_3  Code_expanded\n",
       "False     2                7636\n",
       "          6                 529\n",
       "True      2                 335\n",
       "          6                  23\n",
       "Name: Code_expanded, dtype: int64"
      ]
     },
     "execution_count": 81,
     "metadata": {},
     "output_type": "execute_result"
    }
   ],
   "source": [
    "exp9 = df_merge[(df_merge.Code_expanded == 2) | (df_merge.Code_expanded == 6)]\n",
    "exp9.groupby('us_top_3')['Code_expanded'].value_counts()"
   ]
  },
  {
   "cell_type": "code",
   "execution_count": 82,
   "metadata": {},
   "outputs": [
    {
     "name": "stdout",
     "output_type": "stream",
     "text": [
      "p-value:  0.9451103620883733\n"
     ]
    }
   ],
   "source": [
    "# we fail to reject the null\n",
    "contingency = pd.crosstab(exp9['us_top_3'], exp9.Code_expanded)\n",
    "stat, p, dof, expec = chi2_contingency(contingency)\n",
    "print('p-value: ', p)"
   ]
  },
  {
   "cell_type": "code",
   "execution_count": 83,
   "metadata": {},
   "outputs": [
    {
     "data": {
      "text/plain": [
       "us_top_3  Code_expanded\n",
       "False     4                3434\n",
       "          3                 750\n",
       "True      4                 133\n",
       "          3                  26\n",
       "Name: Code_expanded, dtype: int64"
      ]
     },
     "execution_count": 83,
     "metadata": {},
     "output_type": "execute_result"
    }
   ],
   "source": [
    "exp10 = df_merge[(df_merge.Code_expanded == 3) | (df_merge.Code_expanded == 4)]\n",
    "exp10.groupby('us_top_3')['Code_expanded'].value_counts()"
   ]
  },
  {
   "cell_type": "code",
   "execution_count": 84,
   "metadata": {},
   "outputs": [
    {
     "name": "stdout",
     "output_type": "stream",
     "text": [
      "p-value:  0.6870824991852318\n"
     ]
    }
   ],
   "source": [
    "# we fail to reject the null\n",
    "contingency = pd.crosstab(exp10['us_top_3'], exp10.Code_expanded)\n",
    "stat, p, dof, expec = chi2_contingency(contingency)\n",
    "print('p-value: ', p)"
   ]
  },
  {
   "cell_type": "code",
   "execution_count": 85,
   "metadata": {},
   "outputs": [
    {
     "data": {
      "text/plain": [
       "us_top_3  Code_expanded\n",
       "False     5                3280\n",
       "          3                 750\n",
       "True      5                  94\n",
       "          3                  26\n",
       "Name: Code_expanded, dtype: int64"
      ]
     },
     "execution_count": 85,
     "metadata": {},
     "output_type": "execute_result"
    }
   ],
   "source": [
    "exp11 = df_merge[(df_merge.Code_expanded == 3) | (df_merge.Code_expanded == 5)]\n",
    "exp11.groupby('us_top_3')['Code_expanded'].value_counts()"
   ]
  },
  {
   "cell_type": "code",
   "execution_count": 86,
   "metadata": {},
   "outputs": [
    {
     "name": "stdout",
     "output_type": "stream",
     "text": [
      "p-value:  0.46700262267777726\n"
     ]
    }
   ],
   "source": [
    "# we fail to reject the null\n",
    "contingency = pd.crosstab(exp11['us_top_3'], exp11.Code_expanded)\n",
    "stat, p, dof, expec = chi2_contingency(contingency)\n",
    "print('p-value: ', p)"
   ]
  },
  {
   "cell_type": "code",
   "execution_count": 87,
   "metadata": {},
   "outputs": [
    {
     "data": {
      "text/plain": [
       "us_top_3  Code_expanded\n",
       "False     3                750\n",
       "          6                529\n",
       "True      3                 26\n",
       "          6                 23\n",
       "Name: Code_expanded, dtype: int64"
      ]
     },
     "execution_count": 87,
     "metadata": {},
     "output_type": "execute_result"
    }
   ],
   "source": [
    "exp12 = df_merge[(df_merge.Code_expanded == 3) | (df_merge.Code_expanded == 6)]\n",
    "exp12.groupby('us_top_3')['Code_expanded'].value_counts()"
   ]
  },
  {
   "cell_type": "code",
   "execution_count": 88,
   "metadata": {},
   "outputs": [
    {
     "name": "stdout",
     "output_type": "stream",
     "text": [
      "p-value:  0.5287723817060908\n"
     ]
    }
   ],
   "source": [
    "# we fail to reject the null\n",
    "contingency = pd.crosstab(exp12['us_top_3'], exp12.Code_expanded)\n",
    "stat, p, dof, expec = chi2_contingency(contingency)\n",
    "print('p-value: ', p)"
   ]
  },
  {
   "cell_type": "code",
   "execution_count": 89,
   "metadata": {},
   "outputs": [
    {
     "data": {
      "text/plain": [
       "us_top_3  Code_expanded\n",
       "False     4                3434\n",
       "          5                3280\n",
       "True      4                 133\n",
       "          5                  94\n",
       "Name: Code_expanded, dtype: int64"
      ]
     },
     "execution_count": 89,
     "metadata": {},
     "output_type": "execute_result"
    }
   ],
   "source": [
    "exp13 = df_merge[(df_merge.Code_expanded == 4) | (df_merge.Code_expanded == 5)]\n",
    "exp13.groupby('us_top_3')['Code_expanded'].value_counts()"
   ]
  },
  {
   "cell_type": "code",
   "execution_count": 90,
   "metadata": {},
   "outputs": [
    {
     "name": "stdout",
     "output_type": "stream",
     "text": [
      "p-value:  0.032411504396705836\n"
     ]
    }
   ],
   "source": [
    "# we fail to reject the null\n",
    "contingency = pd.crosstab(exp13['us_top_3'], exp13.Code_expanded)\n",
    "stat, p, dof, expec = chi2_contingency(contingency)\n",
    "print('p-value: ', p)"
   ]
  },
  {
   "cell_type": "code",
   "execution_count": 91,
   "metadata": {},
   "outputs": [
    {
     "data": {
      "text/plain": [
       "us_top_3  Code_expanded\n",
       "False     4                3434\n",
       "          6                 529\n",
       "True      4                 133\n",
       "          6                  23\n",
       "Name: Code_expanded, dtype: int64"
      ]
     },
     "execution_count": 91,
     "metadata": {},
     "output_type": "execute_result"
    }
   ],
   "source": [
    "exp14 = df_merge[(df_merge.Code_expanded == 4) | (df_merge.Code_expanded == 6)]\n",
    "exp14.groupby('us_top_3')['Code_expanded'].value_counts()"
   ]
  },
  {
   "cell_type": "code",
   "execution_count": 92,
   "metadata": {},
   "outputs": [
    {
     "name": "stdout",
     "output_type": "stream",
     "text": [
      "p-value:  0.7025233982381216\n"
     ]
    }
   ],
   "source": [
    "# we fail to reject the null\n",
    "contingency = pd.crosstab(exp14['us_top_3'], exp14.Code_expanded)\n",
    "stat, p, dof, expec = chi2_contingency(contingency)\n",
    "print('p-value: ', p)"
   ]
  },
  {
   "cell_type": "code",
   "execution_count": 93,
   "metadata": {},
   "outputs": [
    {
     "data": {
      "text/plain": [
       "us_top_3  Code_expanded\n",
       "False     5                3280\n",
       "          6                 529\n",
       "True      5                  94\n",
       "          6                  23\n",
       "Name: Code_expanded, dtype: int64"
      ]
     },
     "execution_count": 93,
     "metadata": {},
     "output_type": "execute_result"
    }
   ],
   "source": [
    "exp15 = df_merge[(df_merge.Code_expanded == 5) | (df_merge.Code_expanded == 6)]\n",
    "exp15.groupby('us_top_3')['Code_expanded'].value_counts()"
   ]
  },
  {
   "cell_type": "code",
   "execution_count": 94,
   "metadata": {},
   "outputs": [
    {
     "name": "stdout",
     "output_type": "stream",
     "text": [
      "p-value:  0.10236592531589755\n"
     ]
    }
   ],
   "source": [
    "# we fail to reject the null\n",
    "contingency = pd.crosstab(exp15['us_top_3'], exp15.Code_expanded)\n",
    "stat, p, dof, expec = chi2_contingency(contingency)\n",
    "print('p-value: ', p)"
   ]
  },
  {
   "cell_type": "markdown",
   "metadata": {},
   "source": [
    "#### region and U.S. top 5  second round of tests\n",
    "Since there are six regions, the family-wise error rate is the same as that for the expanded code tests."
   ]
  },
  {
   "cell_type": "code",
   "execution_count": 95,
   "metadata": {},
   "outputs": [
    {
     "data": {
      "text/plain": [
       "us_top_5  region            \n",
       "False     Africa                8032\n",
       "          Western Hemisphere    4236\n",
       "True      Africa                 373\n",
       "          Western Hemisphere     196\n",
       "Name: region, dtype: int64"
      ]
     },
     "execution_count": 95,
     "metadata": {},
     "output_type": "execute_result"
    }
   ],
   "source": [
    "reg1 = df_merge[(df_merge.region == 'Africa') | (df_merge.region == 'Western Hemisphere')]\n",
    "reg1.groupby('us_top_5')['region'].value_counts()"
   ]
  },
  {
   "cell_type": "code",
   "execution_count": 96,
   "metadata": {},
   "outputs": [
    {
     "name": "stdout",
     "output_type": "stream",
     "text": [
      "p-value:  0.9962859786603164\n"
     ]
    }
   ],
   "source": [
    "# we fail to reject the null\n",
    "contingency = pd.crosstab(reg1['us_top_5'], reg1.region)\n",
    "stat, p, dof, expec = chi2_contingency(contingency)\n",
    "print('p-value: ', p)"
   ]
  },
  {
   "cell_type": "code",
   "execution_count": 97,
   "metadata": {},
   "outputs": [
    {
     "data": {
      "text/plain": [
       "us_top_5  region          \n",
       "False     Africa              8032\n",
       "          Europe & Eurasia    2704\n",
       "True      Africa               373\n",
       "          Europe & Eurasia     120\n",
       "Name: region, dtype: int64"
      ]
     },
     "execution_count": 97,
     "metadata": {},
     "output_type": "execute_result"
    }
   ],
   "source": [
    "reg2 = df_merge[(df_merge.region == 'Africa') | (df_merge.region == 'Europe & Eurasia')]\n",
    "reg2.groupby('us_top_5')['region'].value_counts()"
   ]
  },
  {
   "cell_type": "code",
   "execution_count": 98,
   "metadata": {},
   "outputs": [
    {
     "name": "stdout",
     "output_type": "stream",
     "text": [
      "p-value:  0.711372345440367\n"
     ]
    }
   ],
   "source": [
    "# we fail to reject the null\n",
    "contingency = pd.crosstab(reg2['us_top_5'], reg2.region)\n",
    "stat, p, dof, expec = chi2_contingency(contingency)\n",
    "print('p-value: ', p)"
   ]
  },
  {
   "cell_type": "code",
   "execution_count": 99,
   "metadata": {},
   "outputs": [
    {
     "data": {
      "text/plain": [
       "us_top_5  region              \n",
       "False     Africa                  8032\n",
       "          South & Central Asia    2472\n",
       "True      Africa                   373\n",
       "          South & Central Asia     103\n",
       "Name: region, dtype: int64"
      ]
     },
     "execution_count": 99,
     "metadata": {},
     "output_type": "execute_result"
    }
   ],
   "source": [
    "reg3 = df_merge[(df_merge.region == 'Africa') | (df_merge.region == 'South & Central Asia')]\n",
    "reg3.groupby('us_top_5')['region'].value_counts()"
   ]
  },
  {
   "cell_type": "code",
   "execution_count": 100,
   "metadata": {},
   "outputs": [
    {
     "name": "stdout",
     "output_type": "stream",
     "text": [
      "p-value:  0.36853280038478775\n"
     ]
    }
   ],
   "source": [
    "# we fail to reject the null\n",
    "contingency = pd.crosstab(reg3['us_top_5'], reg3.region)\n",
    "stat, p, dof, expec = chi2_contingency(contingency)\n",
    "print('p-value: ', p)"
   ]
  },
  {
   "cell_type": "code",
   "execution_count": 101,
   "metadata": {},
   "outputs": [
    {
     "data": {
      "text/plain": [
       "us_top_5  region             \n",
       "False     Africa                 8032\n",
       "          East Asia & Pacific    1949\n",
       "True      Africa                  373\n",
       "          East Asia & Pacific     125\n",
       "Name: region, dtype: int64"
      ]
     },
     "execution_count": 101,
     "metadata": {},
     "output_type": "execute_result"
    }
   ],
   "source": [
    "reg4 = df_merge[(df_merge.region == 'Africa') | (df_merge.region == 'East Asia & Pacific')]\n",
    "reg4.groupby('us_top_5')['region'].value_counts()"
   ]
  },
  {
   "cell_type": "code",
   "execution_count": 102,
   "metadata": {},
   "outputs": [
    {
     "name": "stdout",
     "output_type": "stream",
     "text": [
      "p-value:  0.002800046366465875\n"
     ]
    }
   ],
   "source": [
    "# we reject the null\n",
    "contingency = pd.crosstab(reg4['us_top_5'], reg4.region)\n",
    "stat, p, dof, expec = chi2_contingency(contingency)\n",
    "print('p-value: ', p)"
   ]
  },
  {
   "cell_type": "code",
   "execution_count": 103,
   "metadata": {},
   "outputs": [
    {
     "data": {
      "text/plain": [
       "us_top_5  region        \n",
       "False     Africa            8032\n",
       "          Near East Asia    1877\n",
       "True      Africa             373\n",
       "          Near East Asia      77\n",
       "Name: region, dtype: int64"
      ]
     },
     "execution_count": 103,
     "metadata": {},
     "output_type": "execute_result"
    }
   ],
   "source": [
    "reg5 = df_merge[(df_merge.region == 'Africa') | (df_merge.region == 'Near East Asia')]\n",
    "reg5.groupby('us_top_5')['region'].value_counts()"
   ]
  },
  {
   "cell_type": "code",
   "execution_count": 104,
   "metadata": {},
   "outputs": [
    {
     "name": "stdout",
     "output_type": "stream",
     "text": [
      "p-value:  0.3630447272760089\n"
     ]
    }
   ],
   "source": [
    "# we fail to reject the null\n",
    "contingency = pd.crosstab(reg5['us_top_5'], reg5.region)\n",
    "stat, p, dof, expec = chi2_contingency(contingency)\n",
    "print('p-value: ', p)"
   ]
  },
  {
   "cell_type": "code",
   "execution_count": 105,
   "metadata": {},
   "outputs": [
    {
     "data": {
      "text/plain": [
       "us_top_5  region            \n",
       "False     Western Hemisphere    4236\n",
       "          Europe & Eurasia      2704\n",
       "True      Western Hemisphere     196\n",
       "          Europe & Eurasia       120\n",
       "Name: region, dtype: int64"
      ]
     },
     "execution_count": 105,
     "metadata": {},
     "output_type": "execute_result"
    }
   ],
   "source": [
    "reg6 = df_merge[(df_merge.region == 'Western Hemisphere') | (df_merge.region == 'Europe & Eurasia')]\n",
    "reg6.groupby('us_top_5')['region'].value_counts()"
   ]
  },
  {
   "cell_type": "code",
   "execution_count": 106,
   "metadata": {},
   "outputs": [
    {
     "name": "stdout",
     "output_type": "stream",
     "text": [
      "p-value:  0.769333471314561\n"
     ]
    }
   ],
   "source": [
    "# we fail to reject the null\n",
    "contingency = pd.crosstab(reg6['us_top_5'], reg6.region)\n",
    "stat, p, dof, expec = chi2_contingency(contingency)\n",
    "print('p-value: ', p)"
   ]
  },
  {
   "cell_type": "code",
   "execution_count": 107,
   "metadata": {},
   "outputs": [
    {
     "data": {
      "text/plain": [
       "us_top_5  region              \n",
       "False     Western Hemisphere      4236\n",
       "          South & Central Asia    2472\n",
       "True      Western Hemisphere       196\n",
       "          South & Central Asia     103\n",
       "Name: region, dtype: int64"
      ]
     },
     "execution_count": 107,
     "metadata": {},
     "output_type": "execute_result"
    }
   ],
   "source": [
    "reg7 = df_merge[(df_merge.region == 'Western Hemisphere') | (df_merge.region == 'South & Central Asia')]\n",
    "reg7.groupby('us_top_5')['region'].value_counts()"
   ]
  },
  {
   "cell_type": "code",
   "execution_count": 108,
   "metadata": {},
   "outputs": [
    {
     "name": "stdout",
     "output_type": "stream",
     "text": [
      "p-value:  0.43416052641681224\n"
     ]
    }
   ],
   "source": [
    "# we fail to reject the null\n",
    "contingency = pd.crosstab(reg7['us_top_5'], reg7.region)\n",
    "stat, p, dof, expec = chi2_contingency(contingency)\n",
    "print('p-value: ', p)"
   ]
  },
  {
   "cell_type": "code",
   "execution_count": 109,
   "metadata": {},
   "outputs": [
    {
     "data": {
      "text/plain": [
       "us_top_5  region             \n",
       "False     Western Hemisphere     4236\n",
       "          East Asia & Pacific    1949\n",
       "True      Western Hemisphere      196\n",
       "          East Asia & Pacific     125\n",
       "Name: region, dtype: int64"
      ]
     },
     "execution_count": 109,
     "metadata": {},
     "output_type": "execute_result"
    }
   ],
   "source": [
    "reg8 = df_merge[(df_merge.region == 'Western Hemisphere') | (df_merge.region == 'East Asia & Pacific')]\n",
    "reg8.groupby('us_top_5')['region'].value_counts()"
   ]
  },
  {
   "cell_type": "code",
   "execution_count": 110,
   "metadata": {},
   "outputs": [
    {
     "name": "stdout",
     "output_type": "stream",
     "text": [
      "p-value:  0.006459694279377415\n"
     ]
    }
   ],
   "source": [
    "# we fail to reject the null\n",
    "contingency = pd.crosstab(reg8['us_top_5'], reg8.region)\n",
    "stat, p, dof, expec = chi2_contingency(contingency)\n",
    "print('p-value: ', p)"
   ]
  },
  {
   "cell_type": "code",
   "execution_count": 111,
   "metadata": {},
   "outputs": [
    {
     "data": {
      "text/plain": [
       "us_top_5  region            \n",
       "False     Western Hemisphere    4236\n",
       "          Near East Asia        1877\n",
       "True      Western Hemisphere     196\n",
       "          Near East Asia          77\n",
       "Name: region, dtype: int64"
      ]
     },
     "execution_count": 111,
     "metadata": {},
     "output_type": "execute_result"
    }
   ],
   "source": [
    "reg9 = df_merge[(df_merge.region == 'Western Hemisphere') | (df_merge.region == 'Near East Asia')]\n",
    "reg9.groupby('us_top_5')['region'].value_counts()"
   ]
  },
  {
   "cell_type": "code",
   "execution_count": 112,
   "metadata": {},
   "outputs": [
    {
     "name": "stdout",
     "output_type": "stream",
     "text": [
      "p-value:  0.41802168984923715\n"
     ]
    }
   ],
   "source": [
    "# we fail to reject the null\n",
    "contingency = pd.crosstab(reg9['us_top_5'], reg9.region)\n",
    "stat, p, dof, expec = chi2_contingency(contingency)\n",
    "print('p-value: ', p)"
   ]
  },
  {
   "cell_type": "code",
   "execution_count": 113,
   "metadata": {},
   "outputs": [
    {
     "data": {
      "text/plain": [
       "us_top_5  region              \n",
       "False     Europe & Eurasia        2704\n",
       "          South & Central Asia    2472\n",
       "True      Europe & Eurasia         120\n",
       "          South & Central Asia     103\n",
       "Name: region, dtype: int64"
      ]
     },
     "execution_count": 113,
     "metadata": {},
     "output_type": "execute_result"
    }
   ],
   "source": [
    "reg10 = df_merge[(df_merge.region == 'Europe & Eurasia') | (df_merge.region == 'South & Central Asia')]\n",
    "reg10.groupby('us_top_5')['region'].value_counts()"
   ]
  },
  {
   "cell_type": "code",
   "execution_count": 114,
   "metadata": {},
   "outputs": [
    {
     "name": "stdout",
     "output_type": "stream",
     "text": [
      "p-value:  0.6955755038956548\n"
     ]
    }
   ],
   "source": [
    "# we fail to reject the null\n",
    "contingency = pd.crosstab(reg10['us_top_5'], reg10.region)\n",
    "stat, p, dof, expec = chi2_contingency(contingency)\n",
    "print('p-value: ', p)"
   ]
  },
  {
   "cell_type": "code",
   "execution_count": 115,
   "metadata": {},
   "outputs": [
    {
     "data": {
      "text/plain": [
       "us_top_5  region             \n",
       "False     Europe & Eurasia       2704\n",
       "          East Asia & Pacific    1949\n",
       "True      East Asia & Pacific     125\n",
       "          Europe & Eurasia        120\n",
       "Name: region, dtype: int64"
      ]
     },
     "execution_count": 115,
     "metadata": {},
     "output_type": "execute_result"
    }
   ],
   "source": [
    "reg11 = df_merge[(df_merge.region == 'Europe & Eurasia') | (df_merge.region == 'East Asia & Pacific')]\n",
    "reg11.groupby('us_top_5')['region'].value_counts()"
   ]
  },
  {
   "cell_type": "code",
   "execution_count": 116,
   "metadata": {},
   "outputs": [
    {
     "name": "stdout",
     "output_type": "stream",
     "text": [
      "p-value:  0.005892167914662255\n"
     ]
    }
   ],
   "source": [
    "# we fail to reject the null\n",
    "contingency = pd.crosstab(reg11['us_top_5'], reg11.region)\n",
    "stat, p, dof, expec = chi2_contingency(contingency)\n",
    "print('p-value: ', p)"
   ]
  },
  {
   "cell_type": "code",
   "execution_count": 117,
   "metadata": {},
   "outputs": [
    {
     "data": {
      "text/plain": [
       "us_top_5  region          \n",
       "False     Europe & Eurasia    2704\n",
       "          Near East Asia      1877\n",
       "True      Europe & Eurasia     120\n",
       "          Near East Asia        77\n",
       "Name: region, dtype: int64"
      ]
     },
     "execution_count": 117,
     "metadata": {},
     "output_type": "execute_result"
    }
   ],
   "source": [
    "reg12 = df_merge[(df_merge.region == 'Europe & Eurasia') | (df_merge.region == 'Near East Asia')]\n",
    "reg12.groupby('us_top_5')['region'].value_counts()"
   ]
  },
  {
   "cell_type": "code",
   "execution_count": 118,
   "metadata": {},
   "outputs": [
    {
     "name": "stdout",
     "output_type": "stream",
     "text": [
      "p-value:  0.650137652043866\n"
     ]
    }
   ],
   "source": [
    "# we fail to reject the null\n",
    "contingency = pd.crosstab(reg12['us_top_5'], reg12.region)\n",
    "stat, p, dof, expec = chi2_contingency(contingency)\n",
    "print('p-value: ', p)"
   ]
  },
  {
   "cell_type": "code",
   "execution_count": 119,
   "metadata": {},
   "outputs": [
    {
     "data": {
      "text/plain": [
       "us_top_5  region              \n",
       "False     South & Central Asia    2472\n",
       "          East Asia & Pacific     1949\n",
       "True      East Asia & Pacific      125\n",
       "          South & Central Asia     103\n",
       "Name: region, dtype: int64"
      ]
     },
     "execution_count": 119,
     "metadata": {},
     "output_type": "execute_result"
    }
   ],
   "source": [
    "reg13 = df_merge[(df_merge.region == 'South & Central Asia') | (df_merge.region == 'East Asia & Pacific')]\n",
    "reg13.groupby('us_top_5')['region'].value_counts()"
   ]
  },
  {
   "cell_type": "code",
   "execution_count": 120,
   "metadata": {},
   "outputs": [
    {
     "name": "stdout",
     "output_type": "stream",
     "text": [
      "p-value:  0.0018522839947120054\n"
     ]
    }
   ],
   "source": [
    "# we reject the null\n",
    "contingency = pd.crosstab(reg13['us_top_5'], reg13.region)\n",
    "stat, p, dof, expec = chi2_contingency(contingency)\n",
    "print('p-value: ', p)"
   ]
  },
  {
   "cell_type": "code",
   "execution_count": 121,
   "metadata": {},
   "outputs": [
    {
     "data": {
      "text/plain": [
       "us_top_5  region              \n",
       "False     South & Central Asia    2472\n",
       "          Near East Asia          1877\n",
       "True      South & Central Asia     103\n",
       "          Near East Asia            77\n",
       "Name: region, dtype: int64"
      ]
     },
     "execution_count": 121,
     "metadata": {},
     "output_type": "execute_result"
    }
   ],
   "source": [
    "reg14 = df_merge[(df_merge.region == 'South & Central Asia') | (df_merge.region == 'Near East Asia')]\n",
    "reg14.groupby('us_top_5')['region'].value_counts()"
   ]
  },
  {
   "cell_type": "code",
   "execution_count": 122,
   "metadata": {},
   "outputs": [
    {
     "name": "stdout",
     "output_type": "stream",
     "text": [
      "p-value:  0.9804541853335228\n"
     ]
    }
   ],
   "source": [
    "# we fail to reject the null\n",
    "contingency = pd.crosstab(reg14['us_top_5'], reg14.region)\n",
    "stat, p, dof, expec = chi2_contingency(contingency)\n",
    "print('p-value: ', p)"
   ]
  },
  {
   "cell_type": "code",
   "execution_count": 123,
   "metadata": {},
   "outputs": [
    {
     "data": {
      "text/plain": [
       "us_top_5  region             \n",
       "False     East Asia & Pacific    1949\n",
       "          Near East Asia         1877\n",
       "True      East Asia & Pacific     125\n",
       "          Near East Asia           77\n",
       "Name: region, dtype: int64"
      ]
     },
     "execution_count": 123,
     "metadata": {},
     "output_type": "execute_result"
    }
   ],
   "source": [
    "reg15 = df_merge[(df_merge.region == 'East Asia & Pacific') | (df_merge.region == 'Near East Asia')]\n",
    "reg15.groupby('us_top_5')['region'].value_counts()"
   ]
  },
  {
   "cell_type": "code",
   "execution_count": 124,
   "metadata": {},
   "outputs": [
    {
     "name": "stdout",
     "output_type": "stream",
     "text": [
      "p-value:  0.003076925562968491\n"
     ]
    }
   ],
   "source": [
    "# we reject the null\n",
    "contingency = pd.crosstab(reg15['us_top_5'], reg15.region)\n",
    "stat, p, dof, expec = chi2_contingency(contingency)\n",
    "print('p-value: ', p)"
   ]
  },
  {
   "cell_type": "markdown",
   "metadata": {},
   "source": [
    "### Welch's T-tests  \n",
    "As part of the data exploration process, we can conduct T-tests to compare the means of these measures across the 'top' variables. The way in which the means are calculated is dependent upon whether the U.S. was a top 5 or top 3 donor. \n",
    "\n",
    "General inspection of the distributions indicates that right-skewness is common. Intuitively this makes sense in that there are fewer wealthy countries. While some of the distributions may become near-symmetric when natural log transformed, if we conducted the T-tests on the natural log of data, we'd only be able to obtain evidence for the natural logs of the variables as opposed to the variables as they are. Fortunately, we can somewhat lean upon the central limit theorem here, what with thousands of observations at our disposal.\n",
    "\n",
    "#### Considerations\n",
    "Recall that the 5 and 3 are arbitrary values. Other measures of economic growth or that fall within the discipline of development economics working in tandem could yield more distinct ways of determining the most relevant factors associated with the U.S. being a top donor or otherwise tease out a signal of some kind."
   ]
  },
  {
   "cell_type": "code",
   "execution_count": 125,
   "metadata": {},
   "outputs": [],
   "source": [
    "df5t = df_merge[df_merge.us_top_5 == True]\n",
    "df5f = df_merge[df_merge.us_top_5 == False]"
   ]
  },
  {
   "cell_type": "code",
   "execution_count": 139,
   "metadata": {},
   "outputs": [
    {
     "name": "stdout",
     "output_type": "stream",
     "text": [
      "994\n",
      "21270\n"
     ]
    }
   ],
   "source": [
    "print(len(df5t))\n",
    "print(len(df5f))"
   ]
  },
  {
   "cell_type": "code",
   "execution_count": 129,
   "metadata": {},
   "outputs": [
    {
     "data": {
      "text/plain": [
       "<matplotlib.axes._subplots.AxesSubplot at 0x2a5bfff9c70>"
      ]
     },
     "execution_count": 129,
     "metadata": {},
     "output_type": "execute_result"
    },
    {
     "data": {
      "image/png": "[encoded data removed]",
      "text/plain": [
       "<Figure size 432x288 with 1 Axes>"
      ]
     },
     "metadata": {
      "needs_background": "light"
     },
     "output_type": "display_data"
    }
   ],
   "source": [
    "sns.distplot(df5t.population)"
   ]
  },
  {
   "cell_type": "code",
   "execution_count": 126,
   "metadata": {},
   "outputs": [
    {
     "data": {
      "text/plain": [
       "<matplotlib.axes._subplots.AxesSubplot at 0x2a5bc5405e0>"
      ]
     },
     "execution_count": 126,
     "metadata": {},
     "output_type": "execute_result"
    },
    {
     "data": {
      "image/png": "[encoded data removed]",
      "text/plain": [
       "<Figure size 432x288 with 1 Axes>"
      ]
     },
     "metadata": {
      "needs_background": "light"
     },
     "output_type": "display_data"
    }
   ],
   "source": [
    "sns.distplot(np.log(df5t.population))"
   ]
  },
  {
   "cell_type": "code",
   "execution_count": 130,
   "metadata": {},
   "outputs": [
    {
     "data": {
      "text/plain": [
       "<matplotlib.axes._subplots.AxesSubplot at 0x2a5bff515e0>"
      ]
     },
     "execution_count": 130,
     "metadata": {},
     "output_type": "execute_result"
    },
    {
     "data": {
      "image/png": "[encoded data removed]",
      "text/plain": [
       "<Figure size 432x288 with 1 Axes>"
      ]
     },
     "metadata": {
      "needs_background": "light"
     },
     "output_type": "display_data"
    }
   ],
   "source": [
    "sns.distplot(df5f.population)"
   ]
  },
  {
   "cell_type": "code",
   "execution_count": 127,
   "metadata": {},
   "outputs": [
    {
     "data": {
      "text/plain": [
       "<matplotlib.axes._subplots.AxesSubplot at 0x2a5beed0ca0>"
      ]
     },
     "execution_count": 127,
     "metadata": {},
     "output_type": "execute_result"
    },
    {
     "data": {
      "image/png": "[encoded data removed]",
      "text/plain": [
       "<Figure size 432x288 with 1 Axes>"
      ]
     },
     "metadata": {
      "needs_background": "light"
     },
     "output_type": "display_data"
    }
   ],
   "source": [
    "sns.distplot(np.log(df5f.population))"
   ]
  },
  {
   "cell_type": "code",
   "execution_count": 143,
   "metadata": {},
   "outputs": [
    {
     "data": {
      "text/plain": [
       "Ttest_indResult(statistic=-1.639230912093444, pvalue=0.10144947920689613)"
      ]
     },
     "execution_count": 143,
     "metadata": {},
     "output_type": "execute_result"
    }
   ],
   "source": [
    "# we fail to reject the null at all conventional levels\n",
    "ttest_ind(df5t.population, df5f.population, equal_var = False)"
   ]
  },
  {
   "cell_type": "code",
   "execution_count": 128,
   "metadata": {},
   "outputs": [
    {
     "data": {
      "text/plain": [
       "<matplotlib.axes._subplots.AxesSubplot at 0x2a5bff5be20>"
      ]
     },
     "execution_count": 128,
     "metadata": {},
     "output_type": "execute_result"
    },
    {
     "data": {
      "image/png": "[encoded data removed]",
      "text/plain": [
       "<Figure size 432x288 with 1 Axes>"
      ]
     },
     "metadata": {
      "needs_background": "light"
     },
     "output_type": "display_data"
    }
   ],
   "source": [
    "sns.distplot(df5t.gdp_per_capita)"
   ]
  },
  {
   "cell_type": "code",
   "execution_count": 131,
   "metadata": {},
   "outputs": [
    {
     "data": {
      "text/plain": [
       "<matplotlib.axes._subplots.AxesSubplot at 0x2a5c00b90d0>"
      ]
     },
     "execution_count": 131,
     "metadata": {},
     "output_type": "execute_result"
    },
    {
     "data": {
      "image/png": "[encoded data removed]",
      "text/plain": [
       "<Figure size 432x288 with 1 Axes>"
      ]
     },
     "metadata": {
      "needs_background": "light"
     },
     "output_type": "display_data"
    }
   ],
   "source": [
    "sns.distplot(np.log(df5t.gdp_per_capita))"
   ]
  },
  {
   "cell_type": "code",
   "execution_count": 132,
   "metadata": {},
   "outputs": [
    {
     "data": {
      "text/plain": [
       "<matplotlib.axes._subplots.AxesSubplot at 0x2a5c023ce50>"
      ]
     },
     "execution_count": 132,
     "metadata": {},
     "output_type": "execute_result"
    },
    {
     "data": {
      "image/png": "[encoded data removed]",
      "text/plain": [
       "<Figure size 432x288 with 1 Axes>"
      ]
     },
     "metadata": {
      "needs_background": "light"
     },
     "output_type": "display_data"
    }
   ],
   "source": [
    "sns.distplot(df5f.gdp_per_capita)"
   ]
  },
  {
   "cell_type": "code",
   "execution_count": 133,
   "metadata": {},
   "outputs": [
    {
     "data": {
      "text/plain": [
       "<matplotlib.axes._subplots.AxesSubplot at 0x2a5c031e880>"
      ]
     },
     "execution_count": 133,
     "metadata": {},
     "output_type": "execute_result"
    },
    {
     "data": {
      "image/png": "[encoded data removed]",
      "text/plain": [
       "<Figure size 432x288 with 1 Axes>"
      ]
     },
     "metadata": {
      "needs_background": "light"
     },
     "output_type": "display_data"
    }
   ],
   "source": [
    "sns.distplot(np.log(df5f.gdp_per_capita))"
   ]
  },
  {
   "cell_type": "code",
   "execution_count": 144,
   "metadata": {},
   "outputs": [
    {
     "data": {
      "text/plain": [
       "Ttest_indResult(statistic=-1.307596670044994, pvalue=0.19128336205607854)"
      ]
     },
     "execution_count": 144,
     "metadata": {},
     "output_type": "execute_result"
    }
   ],
   "source": [
    "# we fail to reject the null at all conventional levels\n",
    "ttest_ind(df5t.gdp_per_capita, df5f.gdp_per_capita, equal_var = False)"
   ]
  },
  {
   "cell_type": "code",
   "execution_count": 135,
   "metadata": {},
   "outputs": [],
   "source": [
    "df3t = df_merge[df_merge.us_top_3 == True]\n",
    "df3f = df_merge[df_merge.us_top_3 == False]"
   ]
  },
  {
   "cell_type": "code",
   "execution_count": 140,
   "metadata": {},
   "outputs": [
    {
     "name": "stdout",
     "output_type": "stream",
     "text": [
      "810\n",
      "21454\n"
     ]
    }
   ],
   "source": [
    "print(len(df3t))\n",
    "print(len(df3f))"
   ]
  },
  {
   "cell_type": "code",
   "execution_count": 137,
   "metadata": {},
   "outputs": [
    {
     "data": {
      "text/plain": [
       "<matplotlib.axes._subplots.AxesSubplot at 0x2a5c02a47c0>"
      ]
     },
     "execution_count": 137,
     "metadata": {},
     "output_type": "execute_result"
    },
    {
     "data": {
      "image/png": "[encoded data removed]",
      "text/plain": [
       "<Figure size 432x288 with 1 Axes>"
      ]
     },
     "metadata": {
      "needs_background": "light"
     },
     "output_type": "display_data"
    }
   ],
   "source": [
    "sns.distplot(df3t.population)"
   ]
  },
  {
   "cell_type": "code",
   "execution_count": 141,
   "metadata": {},
   "outputs": [
    {
     "data": {
      "text/plain": [
       "<matplotlib.axes._subplots.AxesSubplot at 0x185c8f5b9d0>"
      ]
     },
     "execution_count": 141,
     "metadata": {},
     "output_type": "execute_result"
    },
    {
     "data": {
      "image/png": "[encoded data removed]",
      "text/plain": [
       "<Figure size 432x288 with 1 Axes>"
      ]
     },
     "metadata": {
      "needs_background": "light"
     },
     "output_type": "display_data"
    }
   ],
   "source": [
    "sns.distplot(np.log(df3t.population))"
   ]
  },
  {
   "cell_type": "code",
   "execution_count": 138,
   "metadata": {},
   "outputs": [
    {
     "data": {
      "text/plain": [
       "<matplotlib.axes._subplots.AxesSubplot at 0x2a5c0648df0>"
      ]
     },
     "execution_count": 138,
     "metadata": {},
     "output_type": "execute_result"
    },
    {
     "data": {
      "image/png": "[encoded data removed]",
      "text/plain": [
       "<Figure size 432x288 with 1 Axes>"
      ]
     },
     "metadata": {
      "needs_background": "light"
     },
     "output_type": "display_data"
    }
   ],
   "source": [
    "sns.distplot(df3f.population)"
   ]
  },
  {
   "cell_type": "code",
   "execution_count": 142,
   "metadata": {},
   "outputs": [
    {
     "data": {
      "text/plain": [
       "<matplotlib.axes._subplots.AxesSubplot at 0x185c90219a0>"
      ]
     },
     "execution_count": 142,
     "metadata": {},
     "output_type": "execute_result"
    },
    {
     "data": {
      "image/png": "[encoded data removed]",
      "text/plain": [
       "<Figure size 432x288 with 1 Axes>"
      ]
     },
     "metadata": {
      "needs_background": "light"
     },
     "output_type": "display_data"
    }
   ],
   "source": [
    "sns.distplot(np.log(df3f.population))"
   ]
  },
  {
   "cell_type": "code",
   "execution_count": 134,
   "metadata": {},
   "outputs": [
    {
     "data": {
      "text/plain": [
       "Ttest_indResult(statistic=-11.378403487625805, pvalue=5.375173737841991e-29)"
      ]
     },
     "execution_count": 134,
     "metadata": {},
     "output_type": "execute_result"
    }
   ],
   "source": [
    "# we reject the null at all conventional levels\n",
    "ttest_ind(df3t.population, df3f.population, equal_var = False)"
   ]
  },
  {
   "cell_type": "code",
   "execution_count": 135,
   "metadata": {},
   "outputs": [
    {
     "data": {
      "text/plain": [
       "Ttest_indResult(statistic=-2.485112071408595, pvalue=0.013135276456865432)"
      ]
     },
     "execution_count": 135,
     "metadata": {},
     "output_type": "execute_result"
    }
   ],
   "source": [
    "# we fail to reject the null at the 5% level and higher\n",
    "ttest_ind(df3t.gdp_per_capita, df3f.gdp_per_capita, equal_var = False)"
   ]
  },
  {
   "cell_type": "markdown",
   "metadata": {},
   "source": [
    "### Logistic Regression  \n",
    "#### Explanation\n",
    "Given the nature of the logistic regression, the coefficient estimates can't be interpreted as marginal effects, e.g., how a unit increase in population affects the probability that the U.S. is a top 5 donor, holding all else constant. Their magnitude and sign, i.e., positive or negative, are indicative of the strength and direction of the relationship between the explanatory variables and the respective responses, namely, the top 5 and top 3 indicator variables.\n",
    "\n",
    "To obtain the marginal effects, there is a table following the model summary with those measures under the dydx column since marginal effects are partial derivatives.\n",
    "\n",
    "When there are categorical explanatory variables, one of the categories is omitted for both numerical/modeling reasons and to have a reference group. These reference groups are represented by the 'const' estimate. These groups are the year 2008, abr Code 1, expanded code 1, income category H, and the region Africa.\n",
    "\n",
    "Due to this convention, the way to obtain a general sense of the relationship between the categories and the response is to interpret their estimates as the difference between their relationship and that of the reference group. If the coefficient estimate for a category is negative, relative to the relevant reference group, it will have a lower associated probability of the U.S. being a top 5 donor.\n",
    "\n",
    "Example: Consider the top 5 indicator model. The estimate for income_category_L is 0.2886. Since it is positive, it has a higher chance of having the U.S. be a top 5 donor relative to income_category_H.\n",
    "\n",
    "\n",
    "#### Results and Things to Consider\n",
    "While this may be somewhat informative, permit me to draw your attention to the pseudo-R-squared measures. These represent the explanatory power of our available features. They currently reside at around 1% or lower, meaning, roughly, that 99% of what defines the signal/underlying data-generating process with the U.S. being a top 5 or top 3 donor is not explained by our model.\n",
    "\n",
    "This is further evidenced by the small magnitudes of the marginal effects. Most are near zero. The largest are in the hundredths.\n",
    "\n",
    "The z and P>|z| columns are Z-test statistics and associated p-values, respectively. These correspond to individual, two-tailed hypothesis tests where the null is that the true coefficient (that we are trying to estimate) is zero. Notice that in the marginal effect tables, the p-values are either null (probably from some numerical instability) or 1. So in most cases, we fail to reject the null that the true parameter is equal to zero (no relationship with U.S. being a top donor).\n",
    "\n",
    "Notice that interaction effects and polynomial terms were not included, e.g., population X income_category_L and population X population, respectively. Multiplying all the possible two variable combinations together would generate a staggering number of new features, so they were not included to preserve degrees of freedom.\n",
    "\n",
    "A possibility is that top 5 and 3 variables have very unusual, non-linear relationships to the explanatory variables, but in the face of almost no signal being picked up, I think this is unlikely. In the event that it is the case, then more ad-hoc machine learning techniques are available, but they lack the same explanatory power. \n",
    "\n",
    "An example is that the Random Forest algorithm in the Scikit-Learn package can tell you which features were most important after fitting a model, but not the nature of the relationship."
   ]
  },
  {
   "cell_type": "markdown",
   "metadata": {},
   "source": [
    "#### Importing relevant packages  \n",
    "I have opted to use the statsmodels logistic regression in order to obtain a summary of the model with various diagnostic measures. Scikit-Learn does have an implementation available, but that library in general is more geared toward a purely predictive approach as opposed to an explanatory one."
   ]
  },
  {
   "cell_type": "code",
   "execution_count": 42,
   "metadata": {},
   "outputs": [],
   "source": [
    "from sklearn.preprocessing import OneHotEncoder, StandardScaler\n",
    "import statsmodels.api as sm"
   ]
  },
  {
   "cell_type": "code",
   "execution_count": 43,
   "metadata": {},
   "outputs": [
    {
     "data": {
      "text/plain": [
       "Index(['Donor', 'Recipient', 'Year', 'Value', 'num_donors_by_country_yr',\n",
       "       'num_donors_by_country', 'ODA_total_value_by_country_yr', 'proportion',\n",
       "       'Rank', 'us_top_5', 'us_top_3', 'Code_abr', 'Code_expanded',\n",
       "       'income_category', 'gdp_per_capita', 'population', 'gdp', 'region'],\n",
       "      dtype='object')"
      ]
     },
     "execution_count": 43,
     "metadata": {},
     "output_type": "execute_result"
    }
   ],
   "source": [
    "df_merge.columns"
   ]
  },
  {
   "cell_type": "code",
   "execution_count": 44,
   "metadata": {},
   "outputs": [],
   "source": [
    "# drop = 'first' omits one category to have a reference group\n",
    "enc = OneHotEncoder(drop = 'first') \n",
    "# fitting the encoder generates binary variables from the categorical variables\n",
    "# they take on a value of 1 if they are in that category, zero otherwise\n",
    "X_cat = enc.fit_transform(df_merge[['Year', 'Code_abr', 'Code_expanded', 'income_category', 'region']]).toarray() "
   ]
  },
  {
   "cell_type": "code",
   "execution_count": 45,
   "metadata": {},
   "outputs": [],
   "source": [
    "# after generating those columns, I need to give them names\n",
    "names = enc.get_feature_names(['Year', 'Code_abr', 'Code_expanded', 'income_category', 'region'])\n",
    "X_cat = pd.DataFrame(X_cat, columns = names)\n",
    "\n",
    "# I reset the index to not have concatenation problems with the numerical features later\n",
    "X_cat.reset_index(drop = True, inplace = True)"
   ]
  },
  {
   "cell_type": "code",
   "execution_count": 49,
   "metadata": {},
   "outputs": [
    {
     "data": {
      "text/plain": [
       "22264"
      ]
     },
     "execution_count": 49,
     "metadata": {},
     "output_type": "execute_result"
    }
   ],
   "source": [
    "len(X_cat) # checking the number of rows"
   ]
  },
  {
   "cell_type": "code",
   "execution_count": 46,
   "metadata": {},
   "outputs": [],
   "source": [
    "# defining the numerical features and resetting their index as well\n",
    "X_num = df_merge[['population', 'gdp']]\n",
    "X_num.reset_index(drop = True, inplace = True)"
   ]
  },
  {
   "cell_type": "code",
   "execution_count": 51,
   "metadata": {},
   "outputs": [
    {
     "data": {
      "text/plain": [
       "22264"
      ]
     },
     "execution_count": 51,
     "metadata": {},
     "output_type": "execute_result"
    }
   ],
   "source": [
    "len(X_num)"
   ]
  },
  {
   "cell_type": "code",
   "execution_count": 52,
   "metadata": {},
   "outputs": [
    {
     "data": {
      "text/html": [
       "<div>\n",
       "<style scoped>\n",
       "    .dataframe tbody tr th:only-of-type {\n",
       "        vertical-align: middle;\n",
       "    }\n",
       "\n",
       "    .dataframe tbody tr th {\n",
       "        vertical-align: top;\n",
       "    }\n",
       "\n",
       "    .dataframe thead th {\n",
       "        text-align: right;\n",
       "    }\n",
       "</style>\n",
       "<table border=\"1\" class=\"dataframe\">\n",
       "  <thead>\n",
       "    <tr style=\"text-align: right;\">\n",
       "      <th></th>\n",
       "      <th>Year_2009</th>\n",
       "      <th>Year_2010</th>\n",
       "      <th>Year_2011</th>\n",
       "      <th>Year_2012</th>\n",
       "      <th>Year_2013</th>\n",
       "      <th>Year_2014</th>\n",
       "      <th>Year_2015</th>\n",
       "      <th>Year_2016</th>\n",
       "      <th>Year_2017</th>\n",
       "      <th>Code_abr_2</th>\n",
       "      <th>...</th>\n",
       "      <th>Code_expanded_5</th>\n",
       "      <th>Code_expanded_6</th>\n",
       "      <th>income_category_L</th>\n",
       "      <th>income_category_LM</th>\n",
       "      <th>income_category_UM</th>\n",
       "      <th>region_East Asia &amp; Pacific</th>\n",
       "      <th>region_Europe &amp; Eurasia</th>\n",
       "      <th>region_Near East Asia</th>\n",
       "      <th>region_South &amp; Central Asia</th>\n",
       "      <th>region_Western Hemisphere</th>\n",
       "    </tr>\n",
       "  </thead>\n",
       "  <tbody>\n",
       "    <tr>\n",
       "      <th>0</th>\n",
       "      <td>0.0</td>\n",
       "      <td>0.0</td>\n",
       "      <td>0.0</td>\n",
       "      <td>0.0</td>\n",
       "      <td>0.0</td>\n",
       "      <td>0.0</td>\n",
       "      <td>0.0</td>\n",
       "      <td>0.0</td>\n",
       "      <td>0.0</td>\n",
       "      <td>1.0</td>\n",
       "      <td>...</td>\n",
       "      <td>0.0</td>\n",
       "      <td>0.0</td>\n",
       "      <td>0.0</td>\n",
       "      <td>1.0</td>\n",
       "      <td>0.0</td>\n",
       "      <td>0.0</td>\n",
       "      <td>0.0</td>\n",
       "      <td>0.0</td>\n",
       "      <td>0.0</td>\n",
       "      <td>0.0</td>\n",
       "    </tr>\n",
       "    <tr>\n",
       "      <th>1</th>\n",
       "      <td>1.0</td>\n",
       "      <td>0.0</td>\n",
       "      <td>0.0</td>\n",
       "      <td>0.0</td>\n",
       "      <td>0.0</td>\n",
       "      <td>0.0</td>\n",
       "      <td>0.0</td>\n",
       "      <td>0.0</td>\n",
       "      <td>0.0</td>\n",
       "      <td>1.0</td>\n",
       "      <td>...</td>\n",
       "      <td>0.0</td>\n",
       "      <td>0.0</td>\n",
       "      <td>0.0</td>\n",
       "      <td>1.0</td>\n",
       "      <td>0.0</td>\n",
       "      <td>0.0</td>\n",
       "      <td>0.0</td>\n",
       "      <td>0.0</td>\n",
       "      <td>0.0</td>\n",
       "      <td>0.0</td>\n",
       "    </tr>\n",
       "    <tr>\n",
       "      <th>2</th>\n",
       "      <td>0.0</td>\n",
       "      <td>1.0</td>\n",
       "      <td>0.0</td>\n",
       "      <td>0.0</td>\n",
       "      <td>0.0</td>\n",
       "      <td>0.0</td>\n",
       "      <td>0.0</td>\n",
       "      <td>0.0</td>\n",
       "      <td>0.0</td>\n",
       "      <td>1.0</td>\n",
       "      <td>...</td>\n",
       "      <td>0.0</td>\n",
       "      <td>0.0</td>\n",
       "      <td>0.0</td>\n",
       "      <td>1.0</td>\n",
       "      <td>0.0</td>\n",
       "      <td>0.0</td>\n",
       "      <td>0.0</td>\n",
       "      <td>0.0</td>\n",
       "      <td>0.0</td>\n",
       "      <td>0.0</td>\n",
       "    </tr>\n",
       "    <tr>\n",
       "      <th>3</th>\n",
       "      <td>0.0</td>\n",
       "      <td>0.0</td>\n",
       "      <td>1.0</td>\n",
       "      <td>0.0</td>\n",
       "      <td>0.0</td>\n",
       "      <td>0.0</td>\n",
       "      <td>0.0</td>\n",
       "      <td>0.0</td>\n",
       "      <td>0.0</td>\n",
       "      <td>1.0</td>\n",
       "      <td>...</td>\n",
       "      <td>0.0</td>\n",
       "      <td>0.0</td>\n",
       "      <td>0.0</td>\n",
       "      <td>1.0</td>\n",
       "      <td>0.0</td>\n",
       "      <td>0.0</td>\n",
       "      <td>0.0</td>\n",
       "      <td>0.0</td>\n",
       "      <td>0.0</td>\n",
       "      <td>0.0</td>\n",
       "    </tr>\n",
       "    <tr>\n",
       "      <th>4</th>\n",
       "      <td>0.0</td>\n",
       "      <td>0.0</td>\n",
       "      <td>0.0</td>\n",
       "      <td>1.0</td>\n",
       "      <td>0.0</td>\n",
       "      <td>0.0</td>\n",
       "      <td>0.0</td>\n",
       "      <td>0.0</td>\n",
       "      <td>0.0</td>\n",
       "      <td>1.0</td>\n",
       "      <td>...</td>\n",
       "      <td>0.0</td>\n",
       "      <td>0.0</td>\n",
       "      <td>0.0</td>\n",
       "      <td>1.0</td>\n",
       "      <td>0.0</td>\n",
       "      <td>0.0</td>\n",
       "      <td>0.0</td>\n",
       "      <td>0.0</td>\n",
       "      <td>0.0</td>\n",
       "      <td>0.0</td>\n",
       "    </tr>\n",
       "  </tbody>\n",
       "</table>\n",
       "<p>5 rows × 25 columns</p>\n",
       "</div>"
      ],
      "text/plain": [
       "   Year_2009  Year_2010  Year_2011  Year_2012  Year_2013  Year_2014  \\\n",
       "0        0.0        0.0        0.0        0.0        0.0        0.0   \n",
       "1        1.0        0.0        0.0        0.0        0.0        0.0   \n",
       "2        0.0        1.0        0.0        0.0        0.0        0.0   \n",
       "3        0.0        0.0        1.0        0.0        0.0        0.0   \n",
       "4        0.0        0.0        0.0        1.0        0.0        0.0   \n",
       "\n",
       "   Year_2015  Year_2016  Year_2017  Code_abr_2  ...  Code_expanded_5  \\\n",
       "0        0.0        0.0        0.0         1.0  ...              0.0   \n",
       "1        0.0        0.0        0.0         1.0  ...              0.0   \n",
       "2        0.0        0.0        0.0         1.0  ...              0.0   \n",
       "3        0.0        0.0        0.0         1.0  ...              0.0   \n",
       "4        0.0        0.0        0.0         1.0  ...              0.0   \n",
       "\n",
       "   Code_expanded_6  income_category_L  income_category_LM  income_category_UM  \\\n",
       "0              0.0                0.0                 1.0                 0.0   \n",
       "1              0.0                0.0                 1.0                 0.0   \n",
       "2              0.0                0.0                 1.0                 0.0   \n",
       "3              0.0                0.0                 1.0                 0.0   \n",
       "4              0.0                0.0                 1.0                 0.0   \n",
       "\n",
       "   region_East Asia & Pacific  region_Europe & Eurasia  region_Near East Asia  \\\n",
       "0                         0.0                      0.0                    0.0   \n",
       "1                         0.0                      0.0                    0.0   \n",
       "2                         0.0                      0.0                    0.0   \n",
       "3                         0.0                      0.0                    0.0   \n",
       "4                         0.0                      0.0                    0.0   \n",
       "\n",
       "   region_South & Central Asia  region_Western Hemisphere  \n",
       "0                          0.0                        0.0  \n",
       "1                          0.0                        0.0  \n",
       "2                          0.0                        0.0  \n",
       "3                          0.0                        0.0  \n",
       "4                          0.0                        0.0  \n",
       "\n",
       "[5 rows x 25 columns]"
      ]
     },
     "execution_count": 52,
     "metadata": {},
     "output_type": "execute_result"
    }
   ],
   "source": [
    "X_cat.head() # inspecting the features generated from the encoder"
   ]
  },
  {
   "cell_type": "code",
   "execution_count": 53,
   "metadata": {},
   "outputs": [
    {
     "data": {
      "text/html": [
       "<div>\n",
       "<style scoped>\n",
       "    .dataframe tbody tr th:only-of-type {\n",
       "        vertical-align: middle;\n",
       "    }\n",
       "\n",
       "    .dataframe tbody tr th {\n",
       "        vertical-align: top;\n",
       "    }\n",
       "\n",
       "    .dataframe thead th {\n",
       "        text-align: right;\n",
       "    }\n",
       "</style>\n",
       "<table border=\"1\" class=\"dataframe\">\n",
       "  <thead>\n",
       "    <tr style=\"text-align: right;\">\n",
       "      <th></th>\n",
       "      <th>population</th>\n",
       "      <th>gdp</th>\n",
       "    </tr>\n",
       "  </thead>\n",
       "  <tbody>\n",
       "    <tr>\n",
       "      <th>0</th>\n",
       "      <td>60411195.0</td>\n",
       "      <td>1.978852e+10</td>\n",
       "    </tr>\n",
       "    <tr>\n",
       "      <th>1</th>\n",
       "      <td>62448574.0</td>\n",
       "      <td>1.864837e+10</td>\n",
       "    </tr>\n",
       "    <tr>\n",
       "      <th>2</th>\n",
       "      <td>64563854.0</td>\n",
       "      <td>2.156572e+10</td>\n",
       "    </tr>\n",
       "    <tr>\n",
       "      <th>3</th>\n",
       "      <td>66755153.0</td>\n",
       "      <td>2.583975e+10</td>\n",
       "    </tr>\n",
       "    <tr>\n",
       "      <th>4</th>\n",
       "      <td>69020747.0</td>\n",
       "      <td>2.930624e+10</td>\n",
       "    </tr>\n",
       "  </tbody>\n",
       "</table>\n",
       "</div>"
      ],
      "text/plain": [
       "   population           gdp\n",
       "0  60411195.0  1.978852e+10\n",
       "1  62448574.0  1.864837e+10\n",
       "2  64563854.0  2.156572e+10\n",
       "3  66755153.0  2.583975e+10\n",
       "4  69020747.0  2.930624e+10"
      ]
     },
     "execution_count": 53,
     "metadata": {},
     "output_type": "execute_result"
    }
   ],
   "source": [
    "X_num.head()"
   ]
  },
  {
   "cell_type": "code",
   "execution_count": 47,
   "metadata": {},
   "outputs": [
    {
     "data": {
      "text/plain": [
       "22264"
      ]
     },
     "execution_count": 47,
     "metadata": {},
     "output_type": "execute_result"
    }
   ],
   "source": [
    "# combining the data back together\n",
    "X = pd.concat([X_num, X_cat], axis = 1)\n",
    "len(X)"
   ]
  },
  {
   "cell_type": "code",
   "execution_count": 55,
   "metadata": {},
   "outputs": [],
   "source": [
    "# this adds a column of ones to the dataframe which is needed to have a constant term in the estimation\n",
    "# X = sm.add_constant(X)"
   ]
  },
  {
   "cell_type": "code",
   "execution_count": 56,
   "metadata": {},
   "outputs": [
    {
     "data": {
      "text/html": [
       "<div>\n",
       "<style scoped>\n",
       "    .dataframe tbody tr th:only-of-type {\n",
       "        vertical-align: middle;\n",
       "    }\n",
       "\n",
       "    .dataframe tbody tr th {\n",
       "        vertical-align: top;\n",
       "    }\n",
       "\n",
       "    .dataframe thead th {\n",
       "        text-align: right;\n",
       "    }\n",
       "</style>\n",
       "<table border=\"1\" class=\"dataframe\">\n",
       "  <thead>\n",
       "    <tr style=\"text-align: right;\">\n",
       "      <th></th>\n",
       "      <th>const</th>\n",
       "      <th>population</th>\n",
       "      <th>gdp</th>\n",
       "      <th>Year_2009</th>\n",
       "      <th>Year_2010</th>\n",
       "      <th>Year_2011</th>\n",
       "      <th>Year_2012</th>\n",
       "      <th>Year_2013</th>\n",
       "      <th>Year_2014</th>\n",
       "      <th>Year_2015</th>\n",
       "      <th>...</th>\n",
       "      <th>Code_expanded_5</th>\n",
       "      <th>Code_expanded_6</th>\n",
       "      <th>income_category_L</th>\n",
       "      <th>income_category_LM</th>\n",
       "      <th>income_category_UM</th>\n",
       "      <th>region_East Asia &amp; Pacific</th>\n",
       "      <th>region_Europe &amp; Eurasia</th>\n",
       "      <th>region_Near East Asia</th>\n",
       "      <th>region_South &amp; Central Asia</th>\n",
       "      <th>region_Western Hemisphere</th>\n",
       "    </tr>\n",
       "  </thead>\n",
       "  <tbody>\n",
       "    <tr>\n",
       "      <th>0</th>\n",
       "      <td>1.0</td>\n",
       "      <td>60411195.0</td>\n",
       "      <td>1.978852e+10</td>\n",
       "      <td>0.0</td>\n",
       "      <td>0.0</td>\n",
       "      <td>0.0</td>\n",
       "      <td>0.0</td>\n",
       "      <td>0.0</td>\n",
       "      <td>0.0</td>\n",
       "      <td>0.0</td>\n",
       "      <td>...</td>\n",
       "      <td>0.0</td>\n",
       "      <td>0.0</td>\n",
       "      <td>0.0</td>\n",
       "      <td>1.0</td>\n",
       "      <td>0.0</td>\n",
       "      <td>0.0</td>\n",
       "      <td>0.0</td>\n",
       "      <td>0.0</td>\n",
       "      <td>0.0</td>\n",
       "      <td>0.0</td>\n",
       "    </tr>\n",
       "    <tr>\n",
       "      <th>1</th>\n",
       "      <td>1.0</td>\n",
       "      <td>62448574.0</td>\n",
       "      <td>1.864837e+10</td>\n",
       "      <td>1.0</td>\n",
       "      <td>0.0</td>\n",
       "      <td>0.0</td>\n",
       "      <td>0.0</td>\n",
       "      <td>0.0</td>\n",
       "      <td>0.0</td>\n",
       "      <td>0.0</td>\n",
       "      <td>...</td>\n",
       "      <td>0.0</td>\n",
       "      <td>0.0</td>\n",
       "      <td>0.0</td>\n",
       "      <td>1.0</td>\n",
       "      <td>0.0</td>\n",
       "      <td>0.0</td>\n",
       "      <td>0.0</td>\n",
       "      <td>0.0</td>\n",
       "      <td>0.0</td>\n",
       "      <td>0.0</td>\n",
       "    </tr>\n",
       "    <tr>\n",
       "      <th>2</th>\n",
       "      <td>1.0</td>\n",
       "      <td>64563854.0</td>\n",
       "      <td>2.156572e+10</td>\n",
       "      <td>0.0</td>\n",
       "      <td>1.0</td>\n",
       "      <td>0.0</td>\n",
       "      <td>0.0</td>\n",
       "      <td>0.0</td>\n",
       "      <td>0.0</td>\n",
       "      <td>0.0</td>\n",
       "      <td>...</td>\n",
       "      <td>0.0</td>\n",
       "      <td>0.0</td>\n",
       "      <td>0.0</td>\n",
       "      <td>1.0</td>\n",
       "      <td>0.0</td>\n",
       "      <td>0.0</td>\n",
       "      <td>0.0</td>\n",
       "      <td>0.0</td>\n",
       "      <td>0.0</td>\n",
       "      <td>0.0</td>\n",
       "    </tr>\n",
       "    <tr>\n",
       "      <th>3</th>\n",
       "      <td>1.0</td>\n",
       "      <td>66755153.0</td>\n",
       "      <td>2.583975e+10</td>\n",
       "      <td>0.0</td>\n",
       "      <td>0.0</td>\n",
       "      <td>1.0</td>\n",
       "      <td>0.0</td>\n",
       "      <td>0.0</td>\n",
       "      <td>0.0</td>\n",
       "      <td>0.0</td>\n",
       "      <td>...</td>\n",
       "      <td>0.0</td>\n",
       "      <td>0.0</td>\n",
       "      <td>0.0</td>\n",
       "      <td>1.0</td>\n",
       "      <td>0.0</td>\n",
       "      <td>0.0</td>\n",
       "      <td>0.0</td>\n",
       "      <td>0.0</td>\n",
       "      <td>0.0</td>\n",
       "      <td>0.0</td>\n",
       "    </tr>\n",
       "    <tr>\n",
       "      <th>4</th>\n",
       "      <td>1.0</td>\n",
       "      <td>69020747.0</td>\n",
       "      <td>2.930624e+10</td>\n",
       "      <td>0.0</td>\n",
       "      <td>0.0</td>\n",
       "      <td>0.0</td>\n",
       "      <td>1.0</td>\n",
       "      <td>0.0</td>\n",
       "      <td>0.0</td>\n",
       "      <td>0.0</td>\n",
       "      <td>...</td>\n",
       "      <td>0.0</td>\n",
       "      <td>0.0</td>\n",
       "      <td>0.0</td>\n",
       "      <td>1.0</td>\n",
       "      <td>0.0</td>\n",
       "      <td>0.0</td>\n",
       "      <td>0.0</td>\n",
       "      <td>0.0</td>\n",
       "      <td>0.0</td>\n",
       "      <td>0.0</td>\n",
       "    </tr>\n",
       "  </tbody>\n",
       "</table>\n",
       "<p>5 rows × 28 columns</p>\n",
       "</div>"
      ],
      "text/plain": [
       "   const  population           gdp  Year_2009  Year_2010  Year_2011  \\\n",
       "0    1.0  60411195.0  1.978852e+10        0.0        0.0        0.0   \n",
       "1    1.0  62448574.0  1.864837e+10        1.0        0.0        0.0   \n",
       "2    1.0  64563854.0  2.156572e+10        0.0        1.0        0.0   \n",
       "3    1.0  66755153.0  2.583975e+10        0.0        0.0        1.0   \n",
       "4    1.0  69020747.0  2.930624e+10        0.0        0.0        0.0   \n",
       "\n",
       "   Year_2012  Year_2013  Year_2014  Year_2015  ...  Code_expanded_5  \\\n",
       "0        0.0        0.0        0.0        0.0  ...              0.0   \n",
       "1        0.0        0.0        0.0        0.0  ...              0.0   \n",
       "2        0.0        0.0        0.0        0.0  ...              0.0   \n",
       "3        0.0        0.0        0.0        0.0  ...              0.0   \n",
       "4        1.0        0.0        0.0        0.0  ...              0.0   \n",
       "\n",
       "   Code_expanded_6  income_category_L  income_category_LM  income_category_UM  \\\n",
       "0              0.0                0.0                 1.0                 0.0   \n",
       "1              0.0                0.0                 1.0                 0.0   \n",
       "2              0.0                0.0                 1.0                 0.0   \n",
       "3              0.0                0.0                 1.0                 0.0   \n",
       "4              0.0                0.0                 1.0                 0.0   \n",
       "\n",
       "   region_East Asia & Pacific  region_Europe & Eurasia  region_Near East Asia  \\\n",
       "0                         0.0                      0.0                    0.0   \n",
       "1                         0.0                      0.0                    0.0   \n",
       "2                         0.0                      0.0                    0.0   \n",
       "3                         0.0                      0.0                    0.0   \n",
       "4                         0.0                      0.0                    0.0   \n",
       "\n",
       "   region_South & Central Asia  region_Western Hemisphere  \n",
       "0                          0.0                        0.0  \n",
       "1                          0.0                        0.0  \n",
       "2                          0.0                        0.0  \n",
       "3                          0.0                        0.0  \n",
       "4                          0.0                        0.0  \n",
       "\n",
       "[5 rows x 28 columns]"
      ]
     },
     "execution_count": 56,
     "metadata": {},
     "output_type": "execute_result"
    }
   ],
   "source": [
    "X.head()"
   ]
  },
  {
   "cell_type": "code",
   "execution_count": 48,
   "metadata": {},
   "outputs": [],
   "source": [
    "# creating the response variables\n",
    "y1 = [1 if i == True else 0 for i in df_merge.us_top_5]\n",
    "y2 = [1 if i == True else 0 for i in df_merge.us_top_3]"
   ]
  },
  {
   "cell_type": "code",
   "execution_count": 58,
   "metadata": {},
   "outputs": [
    {
     "name": "stdout",
     "output_type": "stream",
     "text": [
      "22264\n",
      "22264\n",
      "22264\n"
     ]
    }
   ],
   "source": [
    "# making sure the dimensions match\n",
    "print(len(df_merge))\n",
    "print(len(X))\n",
    "print(len(y1))"
   ]
  },
  {
   "cell_type": "markdown",
   "metadata": {},
   "source": [
    "#### Logistic Regression where the response is the top 5 indicator variable"
   ]
  },
  {
   "cell_type": "code",
   "execution_count": 59,
   "metadata": {},
   "outputs": [],
   "source": [
    "model1 = sm.Logit(y1, X)"
   ]
  },
  {
   "cell_type": "code",
   "execution_count": 64,
   "metadata": {},
   "outputs": [
    {
     "name": "stdout",
     "output_type": "stream",
     "text": [
      "Optimization terminated successfully.\n",
      "         Current function value: 0.181421\n",
      "         Iterations 8\n",
      "                           Logit Regression Results                           \n",
      "==============================================================================\n",
      "Dep. Variable:                      y   No. Observations:                22264\n",
      "Model:                          Logit   Df Residuals:                    22262\n",
      "Method:                           MLE   Df Model:                            1\n",
      "Date:                Wed, 12 Aug 2020   Pseudo R-squ.:                0.005578\n",
      "Time:                        11:19:49   Log-Likelihood:                -4039.2\n",
      "converged:                       True   LL-Null:                       -4061.8\n",
      "Covariance Type:            nonrobust   LLR p-value:                 1.680e-11\n",
      "===============================================================================================\n",
      "                                  coef    std err          z      P>|z|      [0.025      0.975]\n",
      "-----------------------------------------------------------------------------------------------\n",
      "const                          -3.3288      0.129    -25.852      0.000      -3.581      -3.076\n",
      "population                   1.103e-09   4.66e-10      2.369      0.018    1.91e-10    2.02e-09\n",
      "gdp                         -7.735e-13   2.11e-13     -3.659      0.000   -1.19e-12   -3.59e-13\n",
      "Year_2009                      -0.0216      0.145     -0.149      0.882      -0.305       0.262\n",
      "Year_2010                      -0.0570      0.145     -0.394      0.694      -0.341       0.227\n",
      "Year_2011                      -0.0951      0.145     -0.654      0.513      -0.380       0.190\n",
      "Year_2012                      -0.0553      0.144     -0.384      0.701      -0.337       0.227\n",
      "Year_2013                      -0.1020      0.145     -0.705      0.481      -0.385       0.182\n",
      "Year_2014                      -0.1185      0.145     -0.816      0.414      -0.403       0.166\n",
      "Year_2015                      -0.2079      0.146     -1.428      0.153      -0.493       0.077\n",
      "Year_2016                      -0.2183      0.146     -1.492      0.136      -0.505       0.069\n",
      "Year_2017                      -0.1987      0.146     -1.361      0.174      -0.485       0.087\n",
      "Code_abr_2                      0.0187   4.15e+14    4.5e-17      1.000   -8.13e+14    8.13e+14\n",
      "Code_abr_3                     -0.0218        nan        nan        nan         nan         nan\n",
      "Code_abr_4                      0.0858   3.63e+06   2.36e-08      1.000   -7.12e+06    7.12e+06\n",
      "Code_expanded_2                 0.0187   4.15e+14    4.5e-17      1.000   -8.13e+14    8.13e+14\n",
      "Code_expanded_3                -0.0218        nan        nan        nan         nan         nan\n",
      "Code_expanded_4                 0.2611   3.24e+06   8.06e-08      1.000   -6.35e+06    6.35e+06\n",
      "Code_expanded_5                -0.1586   2.58e+06  -6.14e-08      1.000   -5.07e+06    5.07e+06\n",
      "Code_expanded_6                -0.0167    3.7e+06   -4.5e-09      1.000   -7.26e+06    7.26e+06\n",
      "income_category_L               0.2886        nan        nan        nan         nan         nan\n",
      "income_category_LM              0.3956      0.106      3.743      0.000       0.188       0.603\n",
      "income_category_UM              0.4725      0.069      6.860      0.000       0.337       0.607\n",
      "region_East Asia & Pacific      0.4417      0.289      1.527      0.127      -0.125       1.009\n",
      "region_Europe & Eurasia        -0.4011      0.294     -1.363      0.173      -0.978       0.176\n",
      "region_Near East Asia          -0.1417      0.187     -0.756      0.450      -0.509       0.226\n",
      "region_South & Central Asia    -0.1878      0.237     -0.791      0.429      -0.653       0.277\n",
      "region_Western Hemisphere       0.0874      0.118      0.742      0.458      -0.144       0.318\n",
      "===============================================================================================\n"
     ]
    }
   ],
   "source": [
    "mod1res = model1.fit()\n",
    "print(mod1res.summary())"
   ]
  },
  {
   "cell_type": "code",
   "execution_count": 63,
   "metadata": {},
   "outputs": [
    {
     "name": "stdout",
     "output_type": "stream",
     "text": [
      "        Logit Marginal Effects       \n",
      "=====================================\n",
      "Dep. Variable:                      y\n",
      "Method:                          dydx\n",
      "At:                           overall\n",
      "===============================================================================================\n",
      "                                 dy/dx    std err          z      P>|z|      [0.025      0.975]\n",
      "-----------------------------------------------------------------------------------------------\n",
      "population                   4.696e-11        nan        nan        nan         nan         nan\n",
      "gdp                         -3.293e-14        nan        nan        nan         nan         nan\n",
      "Year_2009                      -0.0009   2563.760  -3.58e-07      1.000   -5024.878    5024.876\n",
      "Year_2010                      -0.0024   7000.650  -3.47e-07      1.000   -1.37e+04    1.37e+04\n",
      "Year_2011                      -0.0040   9112.958  -4.44e-07      1.000   -1.79e+04    1.79e+04\n",
      "Year_2012                      -0.0024   6430.895  -3.66e-07      1.000   -1.26e+04    1.26e+04\n",
      "Year_2013                      -0.0043   8930.232  -4.86e-07      1.000   -1.75e+04    1.75e+04\n",
      "Year_2014                      -0.0050   1.14e+04  -4.41e-07      1.000   -2.24e+04    2.24e+04\n",
      "Year_2015                      -0.0089   2.03e+04  -4.36e-07      1.000   -3.98e+04    3.98e+04\n",
      "Year_2016                      -0.0093   1.95e+04  -4.76e-07      1.000   -3.82e+04    3.82e+04\n",
      "Year_2017                      -0.0085   1.55e+04  -5.46e-07      1.000   -3.03e+04    3.03e+04\n",
      "Code_abr_2                      0.0008   1.76e+13    4.5e-17      1.000   -3.46e+13    3.46e+13\n",
      "Code_abr_3                     -0.0009   7.15e+10   -1.3e-14      1.000    -1.4e+11     1.4e+11\n",
      "Code_abr_4                      0.0037   1.55e+05   2.36e-08      1.000   -3.03e+05    3.03e+05\n",
      "Code_expanded_2                 0.0008   1.77e+13    4.5e-17      1.000   -3.46e+13    3.46e+13\n",
      "Code_expanded_3                -0.0009        nan        nan        nan         nan         nan\n",
      "Code_expanded_4                 0.0111   1.39e+05   8.02e-08      1.000   -2.72e+05    2.72e+05\n",
      "Code_expanded_5                -0.0068   1.11e+05  -6.07e-08      1.000   -2.18e+05    2.18e+05\n",
      "Code_expanded_6                -0.0007   1.58e+05  -4.49e-09      1.000   -3.09e+05    3.09e+05\n",
      "income_category_L               0.0123   2.45e+04   5.01e-07      1.000    -4.8e+04     4.8e+04\n",
      "income_category_LM              0.0168   3.59e+04   4.69e-07      1.000   -7.03e+04    7.03e+04\n",
      "income_category_UM              0.0201   3.61e+04   5.58e-07      1.000   -7.07e+04    7.07e+04\n",
      "region_East Asia & Pacific      0.0188   2.68e+04   7.01e-07      1.000   -5.26e+04    5.26e+04\n",
      "region_Europe & Eurasia        -0.0171   2.61e+04  -6.55e-07      1.000   -5.11e+04    5.11e+04\n",
      "region_Near East Asia          -0.0060   1.04e+04  -5.81e-07      1.000   -2.03e+04    2.03e+04\n",
      "region_South & Central Asia    -0.0080    1.7e+04   -4.7e-07      1.000   -3.33e+04    3.33e+04\n",
      "region_Western Hemisphere       0.0037   2957.431   1.26e-06      1.000   -5796.454    5796.462\n",
      "===============================================================================================\n"
     ]
    }
   ],
   "source": [
    "mfx1 = mod1res.get_margeff()\n",
    "print(mfx1.summary())"
   ]
  },
  {
   "cell_type": "markdown",
   "metadata": {},
   "source": [
    "#### Logistic Regression where the response is the top 3 indicator variable"
   ]
  },
  {
   "cell_type": "code",
   "execution_count": 65,
   "metadata": {
    "scrolled": false
   },
   "outputs": [
    {
     "name": "stdout",
     "output_type": "stream",
     "text": [
      "Optimization terminated successfully.\n",
      "         Current function value: 0.154598\n",
      "         Iterations 9\n",
      "                           Logit Regression Results                           \n",
      "==============================================================================\n",
      "Dep. Variable:                      y   No. Observations:                22264\n",
      "Model:                          Logit   Df Residuals:                    22262\n",
      "Method:                           MLE   Df Model:                            1\n",
      "Date:                Wed, 12 Aug 2020   Pseudo R-squ.:                 0.01069\n",
      "Time:                        11:20:45   Log-Likelihood:                -3442.0\n",
      "converged:                       True   LL-Null:                       -3479.2\n",
      "Covariance Type:            nonrobust   LLR p-value:                 6.412e-18\n",
      "===============================================================================================\n",
      "                                  coef    std err          z      P>|z|      [0.025      0.975]\n",
      "-----------------------------------------------------------------------------------------------\n",
      "const                          -3.9463      0.374    -10.564      0.000      -4.678      -3.214\n",
      "population                  -4.509e-11   8.57e-10     -0.053      0.958   -1.72e-09    1.63e-09\n",
      "gdp                         -8.765e-13   2.74e-13     -3.196      0.001   -1.41e-12   -3.39e-13\n",
      "Year_2009                      -0.0579      0.158     -0.367      0.714      -0.367       0.252\n",
      "Year_2010                      -0.0612      0.157     -0.391      0.696      -0.368       0.246\n",
      "Year_2011                      -0.1278      0.158     -0.809      0.418      -0.437       0.182\n",
      "Year_2012                      -0.1124      0.158     -0.713      0.476      -0.421       0.196\n",
      "Year_2013                      -0.1721      0.159     -1.082      0.279      -0.484       0.139\n",
      "Year_2014                      -0.1791      0.160     -1.122      0.262      -0.492       0.134\n",
      "Year_2015                      -0.2442      0.159     -1.536      0.124      -0.556       0.067\n",
      "Year_2016                      -0.2608      0.160     -1.631      0.103      -0.574       0.053\n",
      "Year_2017                      -0.2872      0.162     -1.777      0.076      -0.604       0.030\n",
      "Code_abr_2                      0.1430    5.4e+06   2.65e-08      1.000   -1.06e+07    1.06e+07\n",
      "Code_abr_3                      0.0977        nan        nan        nan         nan         nan\n",
      "Code_abr_4                      0.0855        nan        nan        nan         nan         nan\n",
      "Code_expanded_2                 0.1430    5.4e+06   2.65e-08      1.000   -1.06e+07    1.06e+07\n",
      "Code_expanded_3                 0.0977        nan        nan        nan         nan         nan\n",
      "Code_expanded_4                 0.1168        nan        nan        nan         nan         nan\n",
      "Code_expanded_5                -0.4921        nan        nan        nan         nan         nan\n",
      "Code_expanded_6                 0.4608        nan        nan        nan         nan         nan\n",
      "income_category_L               0.6539      0.361      1.812      0.070      -0.053       1.361\n",
      "income_category_LM              0.6982      0.350      1.993      0.046       0.012       1.385\n",
      "income_category_UM              0.7664      0.345      2.220      0.026       0.090       1.443\n",
      "region_East Asia & Pacific      0.5718      0.335      1.706      0.088      -0.085       1.229\n",
      "region_Europe & Eurasia        -0.0367      0.319     -0.115      0.908      -0.662       0.589\n",
      "region_Near East Asia          -0.2132      0.221     -0.966      0.334      -0.646       0.219\n",
      "region_South & Central Asia     0.1158      0.241      0.481      0.631      -0.357       0.588\n",
      "region_Western Hemisphere       0.3304      0.124      2.655      0.008       0.086       0.574\n",
      "===============================================================================================\n"
     ]
    }
   ],
   "source": [
    "model2 = sm.Logit(y2, X)\n",
    "mod2res = model2.fit()\n",
    "print(mod2res.summary())"
   ]
  },
  {
   "cell_type": "code",
   "execution_count": 66,
   "metadata": {},
   "outputs": [
    {
     "name": "stdout",
     "output_type": "stream",
     "text": [
      "        Logit Marginal Effects       \n",
      "=====================================\n",
      "Dep. Variable:                      y\n",
      "Method:                          dydx\n",
      "At:                           overall\n",
      "===============================================================================================\n",
      "                                 dy/dx    std err          z      P>|z|      [0.025      0.975]\n",
      "-----------------------------------------------------------------------------------------------\n",
      "population                  -1.576e-12   2.99e-11     -0.053      0.958   -6.03e-11    5.71e-11\n",
      "gdp                         -3.064e-14   9.65e-15     -3.174      0.002   -4.96e-14   -1.17e-14\n",
      "Year_2009                      -0.0020      0.006     -0.367      0.714      -0.013       0.009\n",
      "Year_2010                      -0.0021      0.005     -0.391      0.696      -0.013       0.009\n",
      "Year_2011                      -0.0045      0.006     -0.809      0.418      -0.015       0.006\n",
      "Year_2012                      -0.0039      0.006     -0.713      0.476      -0.015       0.007\n",
      "Year_2013                      -0.0060      0.006     -1.082      0.279      -0.017       0.005\n",
      "Year_2014                      -0.0063      0.006     -1.121      0.262      -0.017       0.005\n",
      "Year_2015                      -0.0085      0.006     -1.534      0.125      -0.019       0.002\n",
      "Year_2016                      -0.0091      0.006     -1.627      0.104      -0.020       0.002\n",
      "Year_2017                      -0.0100      0.006     -1.770      0.077      -0.021       0.001\n",
      "Code_abr_2                      0.0050   1.89e+05   2.65e-08      1.000    -3.7e+05     3.7e+05\n",
      "Code_abr_3                      0.0034        nan        nan        nan         nan         nan\n",
      "Code_abr_4                      0.0030        nan        nan        nan         nan         nan\n",
      "Code_expanded_2                 0.0050   1.89e+05   2.65e-08      1.000    -3.7e+05     3.7e+05\n",
      "Code_expanded_3                 0.0034        nan        nan        nan         nan         nan\n",
      "Code_expanded_4                 0.0041        nan        nan        nan         nan         nan\n",
      "Code_expanded_5                -0.0172        nan        nan        nan         nan         nan\n",
      "Code_expanded_6                 0.0161        nan        nan        nan         nan         nan\n",
      "income_category_L               0.0229      0.013      1.811      0.070      -0.002       0.048\n",
      "income_category_LM              0.0244      0.012      1.990      0.047       0.000       0.048\n",
      "income_category_UM              0.0268      0.012      2.210      0.027       0.003       0.051\n",
      "region_East Asia & Pacific      0.0200      0.012      1.702      0.089      -0.003       0.043\n",
      "region_Europe & Eurasia        -0.0013      0.011     -0.115      0.908      -0.023       0.021\n",
      "region_Near East Asia          -0.0075      0.008     -0.966      0.334      -0.023       0.008\n",
      "region_South & Central Asia     0.0040      0.008      0.480      0.631      -0.012       0.021\n",
      "region_Western Hemisphere       0.0115      0.004      2.639      0.008       0.003       0.020\n",
      "===============================================================================================\n"
     ]
    }
   ],
   "source": [
    "mfx2 = mod2res.get_margeff()\n",
    "print(mfx2.summary())"
   ]
  },
  {
   "cell_type": "markdown",
   "metadata": {},
   "source": [
    "### Random Forest  \n",
    "For completeness, I ran a random forest ensemble.  While this won't lend itself to explaining the underlying data-generating process, it can possibly point in a direction, but the severe class imbalance of the response variables will greatly restrict the performance of any classifier.\n",
    "\n",
    "While there are methods of oversampling to correct the imbalance, we cannot totally divorce ourselves from the phenomena that we are working with.  Countries are very unique entities. Artificially generating data for them may get us better performing models for a within-sample case, but in the process, we can exacerbate pre-existing problems such as omitted variable bias, i.e., not having the features we need to better understand any underlying signal (if there is one).\n",
    "\n",
    "An example of the above would be within country metrics. Not all provinces or states of a country are uniformly developed or have similar economic activity.\n",
    "\n",
    "For each model, I retrieved the features that yielded the most information for the response variables. More specifically, the top 10 in descending order. For both models, GDP and population were first and third in providing the most information, respectively. While it is not surprising that this is the case, these results can serve as a sanity check for the other features.\n",
    "\n",
    "In order to return more features, just change the integer in the bracket."
   ]
  },
  {
   "cell_type": "code",
   "execution_count": 50,
   "metadata": {},
   "outputs": [],
   "source": [
    "from sklearn.ensemble import RandomForestClassifier\n",
    "from sklearn.metrics import classification_report\n",
    "from sklearn.model_selection import RandomizedSearchCV"
   ]
  },
  {
   "cell_type": "code",
   "execution_count": 79,
   "metadata": {},
   "outputs": [
    {
     "data": {
      "text/plain": [
       "0    21270\n",
       "1      994\n",
       "dtype: int64"
      ]
     },
     "execution_count": 79,
     "metadata": {},
     "output_type": "execute_result"
    }
   ],
   "source": [
    "# checking the class balance; by definition, I knew it would be bad\n",
    "pd.Series(y1).value_counts()"
   ]
  },
  {
   "cell_type": "code",
   "execution_count": 80,
   "metadata": {},
   "outputs": [
    {
     "data": {
      "text/plain": [
       "0    21454\n",
       "1      810\n",
       "dtype: int64"
      ]
     },
     "execution_count": 80,
     "metadata": {},
     "output_type": "execute_result"
    }
   ],
   "source": [
    "pd.Series(y2).value_counts()"
   ]
  },
  {
   "cell_type": "markdown",
   "metadata": {},
   "source": [
    "#### U.S. top 5 Random Forest"
   ]
  },
  {
   "cell_type": "code",
   "execution_count": 66,
   "metadata": {},
   "outputs": [],
   "source": [
    "rf = RandomForestClassifier(criterion = 'gini', random_state = 123)\n",
    "rf_params = {'max_depth': [1, 3, 5, 7, 9, 10],\n",
    "             'n_estimators': [100, 200, 300],\n",
    "             'min_samples_leaf': [1, 3, 5, 10]}\n",
    "rf_search = RandomizedSearchCV(rf, rf_params, random_state = 123, n_iter = 460, scoring = 'accuracy', cv = 5)"
   ]
  },
  {
   "cell_type": "code",
   "execution_count": null,
   "metadata": {},
   "outputs": [],
   "source": [
    "rf_best = rf_search.fit(X, y1)"
   ]
  },
  {
   "cell_type": "code",
   "execution_count": 69,
   "metadata": {},
   "outputs": [
    {
     "name": "stdout",
     "output_type": "stream",
     "text": [
      "Best params:  {'bootstrap': True, 'ccp_alpha': 0.0, 'class_weight': None, 'criterion': 'gini', 'max_depth': 1, 'max_features': 'auto', 'max_leaf_nodes': None, 'max_samples': None, 'min_impurity_decrease': 0.0, 'min_impurity_split': None, 'min_samples_leaf': 1, 'min_samples_split': 2, 'min_weight_fraction_leaf': 0.0, 'n_estimators': 100, 'n_jobs': None, 'oob_score': False, 'random_state': 123, 'verbose': 0, 'warm_start': False}\n",
      "Best accuracy:  0.9553539423133379\n"
     ]
    }
   ],
   "source": [
    "print('Best params: ', rf_best.best_estimator_.get_params())\n",
    "print('Best accuracy: ', rf_best.best_score_)"
   ]
  },
  {
   "cell_type": "code",
   "execution_count": 70,
   "metadata": {},
   "outputs": [],
   "source": [
    "rf_best = RandomForestClassifier(criterion = 'gini', max_depth = 1, min_samples_leaf = 1, \n",
    "                                 min_samples_split = 2, n_estimators = 100, random_state = 123)\n",
    "rf_mod1 = rf_best.fit(X, y1)"
   ]
  },
  {
   "cell_type": "code",
   "execution_count": 71,
   "metadata": {},
   "outputs": [
    {
     "data": {
      "text/plain": [
       "[('gdp', 0.19999999999999996),\n",
       " ('region_East Asia & Pacific', 0.13999999999999999),\n",
       " ('population', 0.09999999999999998),\n",
       " ('Code_expanded_5', 0.06999999999999999),\n",
       " ('Year_2009', 0.039999999999999994),\n",
       " ('Code_abr_4', 0.039999999999999994),\n",
       " ('region_Near East Asia', 0.039999999999999994),\n",
       " ('region_South & Central Asia', 0.039999999999999994),\n",
       " ('region_Western Hemisphere', 0.039999999999999994),\n",
       " ('Code_abr_3', 0.029999999999999992)]"
      ]
     },
     "execution_count": 71,
     "metadata": {},
     "output_type": "execute_result"
    }
   ],
   "source": [
    "# returning the top 10 most important features for the U.S. top 5\n",
    "tup = list(zip(X.columns, rf_mod1.feature_importances_))\n",
    "sorted(tup, key = lambda x: x[1], reverse = True)[:10] # change this number to return more or fewer features"
   ]
  },
  {
   "cell_type": "markdown",
   "metadata": {},
   "source": [
    "#### U.S. top 3 Random Forest"
   ]
  },
  {
   "cell_type": "code",
   "execution_count": 72,
   "metadata": {},
   "outputs": [],
   "source": [
    "rf = RandomForestClassifier(criterion = 'gini', random_state = 123)\n",
    "rf_params = {'max_depth': [1, 3, 5, 7, 9, 10],\n",
    "             'n_estimators': [100, 200, 300],\n",
    "             'min_samples_leaf': [1, 3, 5, 10]}\n",
    "rf_search = RandomizedSearchCV(rf, rf_params, random_state = 123, n_iter = 460, scoring = 'accuracy', cv = 5)"
   ]
  },
  {
   "cell_type": "code",
   "execution_count": null,
   "metadata": {},
   "outputs": [],
   "source": [
    "rf_best = rf_search.fit(X, y2)"
   ]
  },
  {
   "cell_type": "code",
   "execution_count": 75,
   "metadata": {},
   "outputs": [
    {
     "name": "stdout",
     "output_type": "stream",
     "text": [
      "Best params:  {'bootstrap': True, 'ccp_alpha': 0.0, 'class_weight': None, 'criterion': 'gini', 'max_depth': 1, 'max_features': 'auto', 'max_leaf_nodes': None, 'max_samples': None, 'min_impurity_decrease': 0.0, 'min_impurity_split': None, 'min_samples_leaf': 1, 'min_samples_split': 2, 'min_weight_fraction_leaf': 0.0, 'n_estimators': 100, 'n_jobs': None, 'oob_score': False, 'random_state': 123, 'verbose': 0, 'warm_start': False}\n",
      "Best accuracy:  0.9636183971192382\n"
     ]
    }
   ],
   "source": [
    "print('Best params: ', rf_best.best_estimator_.get_params())\n",
    "print('Best accuracy: ', rf_best.best_score_)"
   ]
  },
  {
   "cell_type": "code",
   "execution_count": 76,
   "metadata": {},
   "outputs": [],
   "source": [
    "rf_best = RandomForestClassifier(criterion = 'gini', max_depth = 1, min_samples_leaf = 1, \n",
    "                                 min_samples_split = 2, n_estimators = 100, random_state = 123)\n",
    "rf_mod2 = rf_best.fit(X, y2)"
   ]
  },
  {
   "cell_type": "code",
   "execution_count": 77,
   "metadata": {},
   "outputs": [
    {
     "data": {
      "text/plain": [
       "[('gdp', 0.19999999999999996),\n",
       " ('Code_expanded_2', 0.15999999999999998),\n",
       " ('population', 0.09999999999999998),\n",
       " ('Code_abr_2', 0.08999999999999998),\n",
       " ('Code_expanded_5', 0.059999999999999984),\n",
       " ('region_Near East Asia', 0.04999999999999999),\n",
       " ('region_South & Central Asia', 0.04999999999999999),\n",
       " ('Year_2009', 0.039999999999999994),\n",
       " ('Code_abr_4', 0.039999999999999994),\n",
       " ('region_Western Hemisphere', 0.039999999999999994)]"
      ]
     },
     "execution_count": 77,
     "metadata": {},
     "output_type": "execute_result"
    }
   ],
   "source": [
    "# returning the top 10 most important features for the U.S. top 3\n",
    "tup = list(zip(X.columns, rf_mod2.feature_importances_))\n",
    "sorted(tup, key = lambda x: x[1], reverse = True)[:10]"
   ]
  },
  {
   "cell_type": "markdown",
   "metadata": {},
   "source": [
    "### Clustering Analysis  \n",
    "The shorcomings observed with the logistic regression and random forest analyses makes alternative methods a worthwhile excursion.\n",
    "\n",
    "Since the K-means algorithm is not suited for mixed data types, I have opted to use a clustering algorithm, that is, K-prototypes.\n",
    "\n",
    "The K-prototypes algorithm yielded lopsided results in terms of the cluster assignments. I specified that the observations be sorted into two clusters, hoping that they would align with one of the top categorical variables. They did not sort out along those dimensions.\n",
    "\n",
    "The cluster assignment imbalance can be indicative of an underlying pattern (better than a fair coin flip) but again, I caution that not all imbalances should be interpreted as meaningful. Grouping with some of the other categorical variables yielded tables that were too large to be easily interpreted.\n",
    "\n",
    "While the results were output to a csv, multidimensional depictions in Tableau will probably not reveal any additional information given what has been observed in both the logistic and random forest sections.\n",
    "\n",
    "#### Considerations  \n",
    "It is possible that the information contained in these assignments could be latent, meaning that they represent a property that is not currently in our data set but is important, or, more likely, this could be a purely within-sample result. The reason being that the number of clusters must be manually specified, and results can vary depending on how many you tell it to form."
   ]
  },
  {
   "cell_type": "code",
   "execution_count": 211,
   "metadata": {},
   "outputs": [],
   "source": [
    "from kmodes.kprototypes import KPrototypes\n",
    "import matplotlib.pyplot as plt\n",
    "from matplotlib import style\n",
    "style.use(\"ggplot\")"
   ]
  },
  {
   "cell_type": "code",
   "execution_count": 204,
   "metadata": {},
   "outputs": [],
   "source": [
    "# clustering best practices requires that the numerical features be standard scaled\n",
    "# this is so their differing units don't distort results\n",
    "scaler = StandardScaler()\n",
    "X_scale = scaler.fit_transform(X_num)\n",
    "X_scale = pd.DataFrame(X_scale, columns = ['population', 'gdp'])\n",
    "X_scale.reset_index(drop = True, inplace = True)"
   ]
  },
  {
   "cell_type": "code",
   "execution_count": 206,
   "metadata": {},
   "outputs": [
    {
     "data": {
      "text/html": [
       "<div>\n",
       "<style scoped>\n",
       "    .dataframe tbody tr th:only-of-type {\n",
       "        vertical-align: middle;\n",
       "    }\n",
       "\n",
       "    .dataframe tbody tr th {\n",
       "        vertical-align: top;\n",
       "    }\n",
       "\n",
       "    .dataframe thead th {\n",
       "        text-align: right;\n",
       "    }\n",
       "</style>\n",
       "<table border=\"1\" class=\"dataframe\">\n",
       "  <thead>\n",
       "    <tr style=\"text-align: right;\">\n",
       "      <th></th>\n",
       "      <th>population</th>\n",
       "      <th>gdp</th>\n",
       "    </tr>\n",
       "  </thead>\n",
       "  <tbody>\n",
       "    <tr>\n",
       "      <th>0</th>\n",
       "      <td>0.104149</td>\n",
       "      <td>-0.357804</td>\n",
       "    </tr>\n",
       "    <tr>\n",
       "      <th>1</th>\n",
       "      <td>0.118398</td>\n",
       "      <td>-0.361049</td>\n",
       "    </tr>\n",
       "    <tr>\n",
       "      <th>2</th>\n",
       "      <td>0.133192</td>\n",
       "      <td>-0.352746</td>\n",
       "    </tr>\n",
       "    <tr>\n",
       "      <th>3</th>\n",
       "      <td>0.148518</td>\n",
       "      <td>-0.340583</td>\n",
       "    </tr>\n",
       "    <tr>\n",
       "      <th>4</th>\n",
       "      <td>0.164363</td>\n",
       "      <td>-0.330718</td>\n",
       "    </tr>\n",
       "  </tbody>\n",
       "</table>\n",
       "</div>"
      ],
      "text/plain": [
       "   population       gdp\n",
       "0    0.104149 -0.357804\n",
       "1    0.118398 -0.361049\n",
       "2    0.133192 -0.352746\n",
       "3    0.148518 -0.340583\n",
       "4    0.164363 -0.330718"
      ]
     },
     "execution_count": 206,
     "metadata": {},
     "output_type": "execute_result"
    }
   ],
   "source": [
    "X_scale.head()"
   ]
  },
  {
   "cell_type": "code",
   "execution_count": 207,
   "metadata": {},
   "outputs": [],
   "source": [
    "X_clust = pd.concat([X_scale, X_cat], axis = 1)"
   ]
  },
  {
   "cell_type": "code",
   "execution_count": 219,
   "metadata": {},
   "outputs": [],
   "source": [
    "# here I define the number of clusters and initialization type\n",
    "kproto = KPrototypes(n_clusters = 2, init = 'Cao')\n",
    "\n",
    "# you must tell it which columns are categorical\n",
    "clusters = kproto.fit_predict(X_clust, categorical = list(range(2, len(X_clust.columns))))"
   ]
  },
  {
   "cell_type": "code",
   "execution_count": 220,
   "metadata": {},
   "outputs": [
    {
     "name": "stdout",
     "output_type": "stream",
     "text": [
      "[array([[-0.11743845, -0.12664374],\n",
      "       [ 4.93991103,  5.32712067]]), array([[0., 0., 0., 0., 0., 0., 0., 0., 0., 0., 0., 0., 0., 0., 0., 0.,\n",
      "        0., 0., 0., 0., 0., 0., 0., 0., 0.],\n",
      "       [0., 0., 0., 0., 0., 0., 0., 0., 0., 0., 0., 1., 0., 0., 0., 1.,\n",
      "        0., 0., 1., 0., 0., 0., 0., 1., 0.]])]\n",
      "60749.53400631396\n",
      "6\n"
     ]
    }
   ],
   "source": [
    "# Print cluster centroids of the trained model.\n",
    "print(kproto.cluster_centroids_)\n",
    "\n",
    "# Print training statistics\n",
    "print(kproto.cost_)\n",
    "\n",
    "# while there were few iterations run, the default which was used set a max at 100\n",
    "print(kproto.n_iter_) "
   ]
  },
  {
   "cell_type": "code",
   "execution_count": 226,
   "metadata": {},
   "outputs": [
    {
     "data": {
      "text/plain": [
       "0    21747\n",
       "1      517\n",
       "dtype: int64"
      ]
     },
     "execution_count": 226,
     "metadata": {},
     "output_type": "execute_result"
    }
   ],
   "source": [
    "pd.Series(kproto.labels_).value_counts() # lopsidedness of the classes"
   ]
  },
  {
   "cell_type": "code",
   "execution_count": 227,
   "metadata": {},
   "outputs": [
    {
     "data": {
      "text/plain": [
       "22264"
      ]
     },
     "execution_count": 227,
     "metadata": {},
     "output_type": "execute_result"
    }
   ],
   "source": [
    "len(kproto.labels_)"
   ]
  },
  {
   "cell_type": "code",
   "execution_count": 228,
   "metadata": {},
   "outputs": [],
   "source": [
    "df_merge['kproto'] = pd.Series(kproto.labels_)"
   ]
  },
  {
   "cell_type": "code",
   "execution_count": 229,
   "metadata": {},
   "outputs": [
    {
     "data": {
      "text/html": [
       "<div>\n",
       "<style scoped>\n",
       "    .dataframe tbody tr th:only-of-type {\n",
       "        vertical-align: middle;\n",
       "    }\n",
       "\n",
       "    .dataframe tbody tr th {\n",
       "        vertical-align: top;\n",
       "    }\n",
       "\n",
       "    .dataframe thead th {\n",
       "        text-align: right;\n",
       "    }\n",
       "</style>\n",
       "<table border=\"1\" class=\"dataframe\">\n",
       "  <thead>\n",
       "    <tr style=\"text-align: right;\">\n",
       "      <th></th>\n",
       "      <th>Donor</th>\n",
       "      <th>Recipient</th>\n",
       "      <th>Year</th>\n",
       "      <th>Value</th>\n",
       "      <th>num_donors_by_country_yr</th>\n",
       "      <th>num_donors_by_country</th>\n",
       "      <th>ODA_total_value_by_country_yr</th>\n",
       "      <th>proportion</th>\n",
       "      <th>Rank</th>\n",
       "      <th>us_top_5</th>\n",
       "      <th>us_top_3</th>\n",
       "      <th>Code_abr</th>\n",
       "      <th>Code_expanded</th>\n",
       "      <th>income_category</th>\n",
       "      <th>gdp_per_capita</th>\n",
       "      <th>population</th>\n",
       "      <th>gdp</th>\n",
       "      <th>region</th>\n",
       "      <th>kproto</th>\n",
       "    </tr>\n",
       "  </thead>\n",
       "  <tbody>\n",
       "    <tr>\n",
       "      <th>0</th>\n",
       "      <td>Denmark</td>\n",
       "      <td>Democratic Republic of the Congo</td>\n",
       "      <td>2008</td>\n",
       "      <td>5900000.0</td>\n",
       "      <td>23</td>\n",
       "      <td>28</td>\n",
       "      <td>1.167140e+09</td>\n",
       "      <td>0.005055</td>\n",
       "      <td>16</td>\n",
       "      <td>False</td>\n",
       "      <td>False</td>\n",
       "      <td>2</td>\n",
       "      <td>2</td>\n",
       "      <td>LM</td>\n",
       "      <td>327.563722</td>\n",
       "      <td>60411195.0</td>\n",
       "      <td>1.978852e+10</td>\n",
       "      <td>Africa</td>\n",
       "      <td>0.0</td>\n",
       "    </tr>\n",
       "    <tr>\n",
       "      <th>1</th>\n",
       "      <td>Denmark</td>\n",
       "      <td>Democratic Republic of the Congo</td>\n",
       "      <td>2009</td>\n",
       "      <td>5890000.0</td>\n",
       "      <td>24</td>\n",
       "      <td>28</td>\n",
       "      <td>1.456830e+09</td>\n",
       "      <td>0.004043</td>\n",
       "      <td>16</td>\n",
       "      <td>False</td>\n",
       "      <td>False</td>\n",
       "      <td>2</td>\n",
       "      <td>2</td>\n",
       "      <td>LM</td>\n",
       "      <td>298.619682</td>\n",
       "      <td>62448574.0</td>\n",
       "      <td>1.864837e+10</td>\n",
       "      <td>Africa</td>\n",
       "      <td>0.0</td>\n",
       "    </tr>\n",
       "    <tr>\n",
       "      <th>2</th>\n",
       "      <td>Denmark</td>\n",
       "      <td>Democratic Republic of the Congo</td>\n",
       "      <td>2010</td>\n",
       "      <td>5890000.0</td>\n",
       "      <td>23</td>\n",
       "      <td>28</td>\n",
       "      <td>2.258180e+09</td>\n",
       "      <td>0.002608</td>\n",
       "      <td>19</td>\n",
       "      <td>False</td>\n",
       "      <td>False</td>\n",
       "      <td>2</td>\n",
       "      <td>2</td>\n",
       "      <td>LM</td>\n",
       "      <td>334.021573</td>\n",
       "      <td>64563854.0</td>\n",
       "      <td>2.156572e+10</td>\n",
       "      <td>Africa</td>\n",
       "      <td>0.0</td>\n",
       "    </tr>\n",
       "    <tr>\n",
       "      <th>3</th>\n",
       "      <td>Denmark</td>\n",
       "      <td>Democratic Republic of the Congo</td>\n",
       "      <td>2011</td>\n",
       "      <td>1840000.0</td>\n",
       "      <td>24</td>\n",
       "      <td>28</td>\n",
       "      <td>4.336110e+09</td>\n",
       "      <td>0.000424</td>\n",
       "      <td>19</td>\n",
       "      <td>False</td>\n",
       "      <td>False</td>\n",
       "      <td>2</td>\n",
       "      <td>2</td>\n",
       "      <td>LM</td>\n",
       "      <td>387.082465</td>\n",
       "      <td>66755153.0</td>\n",
       "      <td>2.583975e+10</td>\n",
       "      <td>Africa</td>\n",
       "      <td>0.0</td>\n",
       "    </tr>\n",
       "    <tr>\n",
       "      <th>4</th>\n",
       "      <td>Denmark</td>\n",
       "      <td>Democratic Republic of the Congo</td>\n",
       "      <td>2012</td>\n",
       "      <td>230000.0</td>\n",
       "      <td>23</td>\n",
       "      <td>28</td>\n",
       "      <td>1.599800e+09</td>\n",
       "      <td>0.000144</td>\n",
       "      <td>22</td>\n",
       "      <td>False</td>\n",
       "      <td>False</td>\n",
       "      <td>2</td>\n",
       "      <td>2</td>\n",
       "      <td>LM</td>\n",
       "      <td>424.600386</td>\n",
       "      <td>69020747.0</td>\n",
       "      <td>2.930624e+10</td>\n",
       "      <td>Africa</td>\n",
       "      <td>0.0</td>\n",
       "    </tr>\n",
       "  </tbody>\n",
       "</table>\n",
       "</div>"
      ],
      "text/plain": [
       "     Donor                         Recipient  Year      Value  \\\n",
       "0  Denmark  Democratic Republic of the Congo  2008  5900000.0   \n",
       "1  Denmark  Democratic Republic of the Congo  2009  5890000.0   \n",
       "2  Denmark  Democratic Republic of the Congo  2010  5890000.0   \n",
       "3  Denmark  Democratic Republic of the Congo  2011  1840000.0   \n",
       "4  Denmark  Democratic Republic of the Congo  2012   230000.0   \n",
       "\n",
       "   num_donors_by_country_yr  num_donors_by_country  \\\n",
       "0                        23                     28   \n",
       "1                        24                     28   \n",
       "2                        23                     28   \n",
       "3                        24                     28   \n",
       "4                        23                     28   \n",
       "\n",
       "   ODA_total_value_by_country_yr  proportion  Rank  us_top_5  us_top_3  \\\n",
       "0                   1.167140e+09    0.005055    16     False     False   \n",
       "1                   1.456830e+09    0.004043    16     False     False   \n",
       "2                   2.258180e+09    0.002608    19     False     False   \n",
       "3                   4.336110e+09    0.000424    19     False     False   \n",
       "4                   1.599800e+09    0.000144    22     False     False   \n",
       "\n",
       "   Code_abr  Code_expanded income_category  gdp_per_capita  population  \\\n",
       "0         2              2              LM      327.563722  60411195.0   \n",
       "1         2              2              LM      298.619682  62448574.0   \n",
       "2         2              2              LM      334.021573  64563854.0   \n",
       "3         2              2              LM      387.082465  66755153.0   \n",
       "4         2              2              LM      424.600386  69020747.0   \n",
       "\n",
       "            gdp  region  kproto  \n",
       "0  1.978852e+10  Africa     0.0  \n",
       "1  1.864837e+10  Africa     0.0  \n",
       "2  2.156572e+10  Africa     0.0  \n",
       "3  2.583975e+10  Africa     0.0  \n",
       "4  2.930624e+10  Africa     0.0  "
      ]
     },
     "execution_count": 229,
     "metadata": {},
     "output_type": "execute_result"
    }
   ],
   "source": [
    "df_merge.head()"
   ]
  },
  {
   "cell_type": "code",
   "execution_count": 230,
   "metadata": {},
   "outputs": [
    {
     "data": {
      "text/plain": [
       "us_top_5  kproto  Recipient  \n",
       "False     0.0     Afghanistan    268\n",
       "                  Kenya          253\n",
       "                  Egypt          252\n",
       "                  Lebanon        240\n",
       "                  Iraq           239\n",
       "                                ... \n",
       "True      0.0     Uruguay          1\n",
       "          1.0     Uganda          10\n",
       "                  Gabon            4\n",
       "                  Djibouti         3\n",
       "                  Liberia          1\n",
       "Name: Recipient, Length: 300, dtype: int64"
      ]
     },
     "execution_count": 230,
     "metadata": {},
     "output_type": "execute_result"
    }
   ],
   "source": [
    "df_merge.groupby(['us_top_5', 'kproto'])['Recipient'].value_counts()"
   ]
  },
  {
   "cell_type": "code",
   "execution_count": 231,
   "metadata": {},
   "outputs": [
    {
     "data": {
      "text/plain": [
       "region              kproto  Recipient   \n",
       "Africa              0.0     Kenya           263\n",
       "                            South Africa    248\n",
       "                            Ethiopia        247\n",
       "                            Sudan           246\n",
       "                            Ghana           242\n",
       "                                           ... \n",
       "Western Hemisphere  1.0     Ecuador           2\n",
       "                            Argentina         1\n",
       "                            Cuba              1\n",
       "                            Guyana            1\n",
       "                            Paraguay          1\n",
       "Name: Recipient, Length: 184, dtype: int64"
      ]
     },
     "execution_count": 231,
     "metadata": {},
     "output_type": "execute_result"
    }
   ],
   "source": [
    "df_merge.groupby(['region', 'kproto'])['Recipient'].value_counts()"
   ]
  },
  {
   "cell_type": "code",
   "execution_count": 232,
   "metadata": {},
   "outputs": [
    {
     "data": {
      "text/plain": [
       "us_top_3  kproto  Recipient  \n",
       "False     0.0     Afghanistan    268\n",
       "                  Egypt          256\n",
       "                  Kenya          253\n",
       "                  India          248\n",
       "                  Lebanon        240\n",
       "                                ... \n",
       "True      0.0     Togo             1\n",
       "                  Tunisia          1\n",
       "          1.0     Uganda          10\n",
       "                  Djibouti         1\n",
       "                  Liberia          1\n",
       "Name: Recipient, Length: 290, dtype: int64"
      ]
     },
     "execution_count": 232,
     "metadata": {},
     "output_type": "execute_result"
    }
   ],
   "source": [
    "df_merge.groupby(['us_top_3', 'kproto'])['Recipient'].value_counts()"
   ]
  },
  {
   "cell_type": "code",
   "execution_count": 233,
   "metadata": {},
   "outputs": [
    {
     "data": {
      "text/plain": [
       "Code_abr  kproto  Recipient \n",
       "1         0.0     Sudan         246\n",
       "                  Peru          242\n",
       "                  Brazil        236\n",
       "                  Mexico        234\n",
       "                  Tunisia       230\n",
       "                               ... \n",
       "4         1.0     Tajikistan      3\n",
       "                  Ukraine         3\n",
       "                  Azerbaijan      2\n",
       "                  Bangladesh      2\n",
       "                  Tonga           1\n",
       "Name: Recipient, Length: 184, dtype: int64"
      ]
     },
     "execution_count": 233,
     "metadata": {},
     "output_type": "execute_result"
    }
   ],
   "source": [
    "df_merge.groupby(['Code_abr', 'kproto'])['Recipient'].value_counts()"
   ]
  },
  {
   "cell_type": "code",
   "execution_count": 234,
   "metadata": {},
   "outputs": [
    {
     "data": {
      "text/plain": [
       "Code_expanded  kproto  Recipient\n",
       "1              0.0     Sudan        246\n",
       "                       Peru         242\n",
       "                       Brazil       236\n",
       "                       Mexico       234\n",
       "                       Tunisia      230\n",
       "                                   ... \n",
       "6              0.0     Lebanon      250\n",
       "                       Iraq         249\n",
       "                       Oman          27\n",
       "               1.0     Lebanon        8\n",
       "                       Iraq           6\n",
       "Name: Recipient, Length: 184, dtype: int64"
      ]
     },
     "execution_count": 234,
     "metadata": {},
     "output_type": "execute_result"
    }
   ],
   "source": [
    "df_merge.groupby(['Code_expanded', 'kproto'])['Recipient'].value_counts()"
   ]
  },
  {
   "cell_type": "code",
   "execution_count": 235,
   "metadata": {},
   "outputs": [],
   "source": [
    "# df_merge.to_csv('kproto.csv')"
   ]
  },
  {
   "cell_type": "code",
   "execution_count": null,
   "metadata": {},
   "outputs": [],
   "source": []
  }
 ],
 "metadata": {
  "kernelspec": {
   "display_name": "Python 3",
   "language": "python",
   "name": "python3"
  },
  "language_info": {
   "codemirror_mode": {
    "name": "ipython",
    "version": 3
   },
   "file_extension": ".py",
   "mimetype": "text/x-python",
   "name": "python",
   "nbconvert_exporter": "python",
   "pygments_lexer": "ipython3",
   "version": "3.7.7"
  }
 },
 "nbformat": 4,
 "nbformat_minor": 4
}
